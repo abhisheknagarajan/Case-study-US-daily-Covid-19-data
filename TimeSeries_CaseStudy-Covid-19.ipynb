{
 "cells": [
  {
   "cell_type": "markdown",
   "metadata": {},
   "source": [
    "# Case study: US daily Covid 19 data"
   ]
  },
  {
   "cell_type": "markdown",
   "metadata": {},
   "source": [
    "## Importing required libraries"
   ]
  },
  {
   "cell_type": "code",
   "execution_count": 2,
   "metadata": {},
   "outputs": [],
   "source": [
    "import pandas                             as      pd\n",
    "import numpy                              as      np\n",
    "import matplotlib.pyplot                  as      plt\n",
    "import seaborn                            as      sns\n",
    "from   IPython.display                    import  display\n",
    "from   pylab                              import  rcParams \n",
    "from   datetime                           import  datetime, timedelta\n",
    "from statsmodels.tsa.stattools            import  adfuller\n",
    "from statsmodels.tsa.stattools            import  pacf\n",
    "from statsmodels.tsa.stattools            import  acf\n",
    "from statsmodels.graphics.tsaplots        import  plot_pacf\n",
    "from statsmodels.graphics.tsaplots        import  plot_acf\n",
    "from statsmodels.graphics.gofplots        import  qqplot\n",
    "from statsmodels.tsa.seasonal             import  seasonal_decompose\n",
    "from statsmodels.tsa.arima_model          import  ARIMA\n",
    "from statsmodels.tsa.statespace.sarimax   import  SARIMAX\n",
    "from statsmodels.tsa.api                  import  ExponentialSmoothing\n",
    "import warnings\n",
    "warnings.filterwarnings('ignore')\n",
    "%matplotlib inline"
   ]
  },
  {
   "cell_type": "markdown",
   "metadata": {},
   "source": [
    "## importing data"
   ]
  },
  {
   "cell_type": "code",
   "execution_count": 5,
   "metadata": {
    "scrolled": true
   },
   "outputs": [],
   "source": [
    "df=pd.read_csv('us_covid19_daily-1.csv',parse_dates=True)"
   ]
  },
  {
   "cell_type": "code",
   "execution_count": 6,
   "metadata": {},
   "outputs": [
    {
     "data": {
      "text/html": [
       "<div>\n",
       "<style scoped>\n",
       "    .dataframe tbody tr th:only-of-type {\n",
       "        vertical-align: middle;\n",
       "    }\n",
       "\n",
       "    .dataframe tbody tr th {\n",
       "        vertical-align: top;\n",
       "    }\n",
       "\n",
       "    .dataframe thead th {\n",
       "        text-align: right;\n",
       "    }\n",
       "</style>\n",
       "<table border=\"1\" class=\"dataframe\">\n",
       "  <thead>\n",
       "    <tr style=\"text-align: right;\">\n",
       "      <th></th>\n",
       "      <th>Date</th>\n",
       "      <th>Positive</th>\n",
       "      <th>Hospitalized</th>\n",
       "      <th>Death</th>\n",
       "    </tr>\n",
       "  </thead>\n",
       "  <tbody>\n",
       "    <tr>\n",
       "      <th>0</th>\n",
       "      <td>17-03-2020</td>\n",
       "      <td>10021</td>\n",
       "      <td>325</td>\n",
       "      <td>124</td>\n",
       "    </tr>\n",
       "    <tr>\n",
       "      <th>1</th>\n",
       "      <td>18-03-2020</td>\n",
       "      <td>13385</td>\n",
       "      <td>416</td>\n",
       "      <td>155</td>\n",
       "    </tr>\n",
       "    <tr>\n",
       "      <th>2</th>\n",
       "      <td>19-03-2020</td>\n",
       "      <td>18085</td>\n",
       "      <td>617</td>\n",
       "      <td>203</td>\n",
       "    </tr>\n",
       "    <tr>\n",
       "      <th>3</th>\n",
       "      <td>20-03-2020</td>\n",
       "      <td>24197</td>\n",
       "      <td>1042</td>\n",
       "      <td>273</td>\n",
       "    </tr>\n",
       "    <tr>\n",
       "      <th>4</th>\n",
       "      <td>21-03-2020</td>\n",
       "      <td>31013</td>\n",
       "      <td>1492</td>\n",
       "      <td>335</td>\n",
       "    </tr>\n",
       "  </tbody>\n",
       "</table>\n",
       "</div>"
      ],
      "text/plain": [
       "         Date  Positive  Hospitalized  Death\n",
       "0  17-03-2020     10021           325    124\n",
       "1  18-03-2020     13385           416    155\n",
       "2  19-03-2020     18085           617    203\n",
       "3  20-03-2020     24197          1042    273\n",
       "4  21-03-2020     31013          1492    335"
      ]
     },
     "execution_count": 6,
     "metadata": {},
     "output_type": "execute_result"
    }
   ],
   "source": [
    "df.head()"
   ]
  },
  {
   "cell_type": "code",
   "execution_count": 7,
   "metadata": {},
   "outputs": [
    {
     "data": {
      "text/html": [
       "<div>\n",
       "<style scoped>\n",
       "    .dataframe tbody tr th:only-of-type {\n",
       "        vertical-align: middle;\n",
       "    }\n",
       "\n",
       "    .dataframe tbody tr th {\n",
       "        vertical-align: top;\n",
       "    }\n",
       "\n",
       "    .dataframe thead th {\n",
       "        text-align: right;\n",
       "    }\n",
       "</style>\n",
       "<table border=\"1\" class=\"dataframe\">\n",
       "  <thead>\n",
       "    <tr style=\"text-align: right;\">\n",
       "      <th></th>\n",
       "      <th>Date</th>\n",
       "      <th>Positive</th>\n",
       "      <th>Hospitalized</th>\n",
       "      <th>Death</th>\n",
       "    </tr>\n",
       "  </thead>\n",
       "  <tbody>\n",
       "    <tr>\n",
       "      <th>260</th>\n",
       "      <td>02-12-2020</td>\n",
       "      <td>13711156</td>\n",
       "      <td>100322</td>\n",
       "      <td>264522</td>\n",
       "    </tr>\n",
       "    <tr>\n",
       "      <th>261</th>\n",
       "      <td>03-12-2020</td>\n",
       "      <td>13921360</td>\n",
       "      <td>100755</td>\n",
       "      <td>267228</td>\n",
       "    </tr>\n",
       "    <tr>\n",
       "      <th>262</th>\n",
       "      <td>04-12-2020</td>\n",
       "      <td>14146191</td>\n",
       "      <td>101276</td>\n",
       "      <td>269791</td>\n",
       "    </tr>\n",
       "    <tr>\n",
       "      <th>263</th>\n",
       "      <td>05-12-2020</td>\n",
       "      <td>14357264</td>\n",
       "      <td>101190</td>\n",
       "      <td>272236</td>\n",
       "    </tr>\n",
       "    <tr>\n",
       "      <th>264</th>\n",
       "      <td>06-12-2020</td>\n",
       "      <td>14534035</td>\n",
       "      <td>101487</td>\n",
       "      <td>273374</td>\n",
       "    </tr>\n",
       "  </tbody>\n",
       "</table>\n",
       "</div>"
      ],
      "text/plain": [
       "           Date  Positive  Hospitalized   Death\n",
       "260  02-12-2020  13711156        100322  264522\n",
       "261  03-12-2020  13921360        100755  267228\n",
       "262  04-12-2020  14146191        101276  269791\n",
       "263  05-12-2020  14357264        101190  272236\n",
       "264  06-12-2020  14534035        101487  273374"
      ]
     },
     "execution_count": 7,
     "metadata": {},
     "output_type": "execute_result"
    }
   ],
   "source": [
    "df.tail()"
   ]
  },
  {
   "cell_type": "markdown",
   "metadata": {},
   "source": [
    "### Data is collecetd for the period of 17th March 2020 to 06th December 2020. Data is collected on daily basis for Positive cases, Hospitalized and Death count"
   ]
  },
  {
   "cell_type": "markdown",
   "metadata": {},
   "source": [
    "## converting data into time series"
   ]
  },
  {
   "cell_type": "code",
   "execution_count": 8,
   "metadata": {},
   "outputs": [
    {
     "data": {
      "text/plain": [
       "DatetimeIndex(['2020-03-17', '2020-03-18', '2020-03-19', '2020-03-20',\n",
       "               '2020-03-21', '2020-03-22', '2020-03-23', '2020-03-24',\n",
       "               '2020-03-25', '2020-03-26',\n",
       "               ...\n",
       "               '2020-11-27', '2020-11-28', '2020-11-29', '2020-11-30',\n",
       "               '2020-12-01', '2020-12-02', '2020-12-03', '2020-12-04',\n",
       "               '2020-12-05', '2020-12-06'],\n",
       "              dtype='datetime64[ns]', length=265, freq='D')"
      ]
     },
     "execution_count": 8,
     "metadata": {},
     "output_type": "execute_result"
    }
   ],
   "source": [
    "date = pd.date_range(start='3/17/2020', end='12/6/2020', freq='D')\n",
    "date"
   ]
  },
  {
   "cell_type": "code",
   "execution_count": 9,
   "metadata": {},
   "outputs": [],
   "source": [
    "df['Time_Stamp'] = pd.DataFrame(date)"
   ]
  },
  {
   "cell_type": "code",
   "execution_count": 10,
   "metadata": {},
   "outputs": [],
   "source": [
    "df=df.set_index('Time_Stamp')"
   ]
  },
  {
   "cell_type": "code",
   "execution_count": 11,
   "metadata": {},
   "outputs": [
    {
     "data": {
      "text/html": [
       "<div>\n",
       "<style scoped>\n",
       "    .dataframe tbody tr th:only-of-type {\n",
       "        vertical-align: middle;\n",
       "    }\n",
       "\n",
       "    .dataframe tbody tr th {\n",
       "        vertical-align: top;\n",
       "    }\n",
       "\n",
       "    .dataframe thead th {\n",
       "        text-align: right;\n",
       "    }\n",
       "</style>\n",
       "<table border=\"1\" class=\"dataframe\">\n",
       "  <thead>\n",
       "    <tr style=\"text-align: right;\">\n",
       "      <th></th>\n",
       "      <th>Date</th>\n",
       "      <th>Positive</th>\n",
       "      <th>Hospitalized</th>\n",
       "      <th>Death</th>\n",
       "    </tr>\n",
       "    <tr>\n",
       "      <th>Time_Stamp</th>\n",
       "      <th></th>\n",
       "      <th></th>\n",
       "      <th></th>\n",
       "      <th></th>\n",
       "    </tr>\n",
       "  </thead>\n",
       "  <tbody>\n",
       "    <tr>\n",
       "      <th>2020-03-17</th>\n",
       "      <td>17-03-2020</td>\n",
       "      <td>10021</td>\n",
       "      <td>325</td>\n",
       "      <td>124</td>\n",
       "    </tr>\n",
       "    <tr>\n",
       "      <th>2020-03-18</th>\n",
       "      <td>18-03-2020</td>\n",
       "      <td>13385</td>\n",
       "      <td>416</td>\n",
       "      <td>155</td>\n",
       "    </tr>\n",
       "    <tr>\n",
       "      <th>2020-03-19</th>\n",
       "      <td>19-03-2020</td>\n",
       "      <td>18085</td>\n",
       "      <td>617</td>\n",
       "      <td>203</td>\n",
       "    </tr>\n",
       "    <tr>\n",
       "      <th>2020-03-20</th>\n",
       "      <td>20-03-2020</td>\n",
       "      <td>24197</td>\n",
       "      <td>1042</td>\n",
       "      <td>273</td>\n",
       "    </tr>\n",
       "    <tr>\n",
       "      <th>2020-03-21</th>\n",
       "      <td>21-03-2020</td>\n",
       "      <td>31013</td>\n",
       "      <td>1492</td>\n",
       "      <td>335</td>\n",
       "    </tr>\n",
       "  </tbody>\n",
       "</table>\n",
       "</div>"
      ],
      "text/plain": [
       "                  Date  Positive  Hospitalized  Death\n",
       "Time_Stamp                                           \n",
       "2020-03-17  17-03-2020     10021           325    124\n",
       "2020-03-18  18-03-2020     13385           416    155\n",
       "2020-03-19  19-03-2020     18085           617    203\n",
       "2020-03-20  20-03-2020     24197          1042    273\n",
       "2020-03-21  21-03-2020     31013          1492    335"
      ]
     },
     "execution_count": 11,
     "metadata": {},
     "output_type": "execute_result"
    }
   ],
   "source": [
    "df.head()"
   ]
  },
  {
   "cell_type": "code",
   "execution_count": 12,
   "metadata": {
    "scrolled": true
   },
   "outputs": [
    {
     "data": {
      "text/html": [
       "<div>\n",
       "<style scoped>\n",
       "    .dataframe tbody tr th:only-of-type {\n",
       "        vertical-align: middle;\n",
       "    }\n",
       "\n",
       "    .dataframe tbody tr th {\n",
       "        vertical-align: top;\n",
       "    }\n",
       "\n",
       "    .dataframe thead th {\n",
       "        text-align: right;\n",
       "    }\n",
       "</style>\n",
       "<table border=\"1\" class=\"dataframe\">\n",
       "  <thead>\n",
       "    <tr style=\"text-align: right;\">\n",
       "      <th></th>\n",
       "      <th>Date</th>\n",
       "      <th>Positive</th>\n",
       "      <th>Hospitalized</th>\n",
       "      <th>Death</th>\n",
       "    </tr>\n",
       "    <tr>\n",
       "      <th>Time_Stamp</th>\n",
       "      <th></th>\n",
       "      <th></th>\n",
       "      <th></th>\n",
       "      <th></th>\n",
       "    </tr>\n",
       "  </thead>\n",
       "  <tbody>\n",
       "    <tr>\n",
       "      <th>2020-12-02</th>\n",
       "      <td>02-12-2020</td>\n",
       "      <td>13711156</td>\n",
       "      <td>100322</td>\n",
       "      <td>264522</td>\n",
       "    </tr>\n",
       "    <tr>\n",
       "      <th>2020-12-03</th>\n",
       "      <td>03-12-2020</td>\n",
       "      <td>13921360</td>\n",
       "      <td>100755</td>\n",
       "      <td>267228</td>\n",
       "    </tr>\n",
       "    <tr>\n",
       "      <th>2020-12-04</th>\n",
       "      <td>04-12-2020</td>\n",
       "      <td>14146191</td>\n",
       "      <td>101276</td>\n",
       "      <td>269791</td>\n",
       "    </tr>\n",
       "    <tr>\n",
       "      <th>2020-12-05</th>\n",
       "      <td>05-12-2020</td>\n",
       "      <td>14357264</td>\n",
       "      <td>101190</td>\n",
       "      <td>272236</td>\n",
       "    </tr>\n",
       "    <tr>\n",
       "      <th>2020-12-06</th>\n",
       "      <td>06-12-2020</td>\n",
       "      <td>14534035</td>\n",
       "      <td>101487</td>\n",
       "      <td>273374</td>\n",
       "    </tr>\n",
       "  </tbody>\n",
       "</table>\n",
       "</div>"
      ],
      "text/plain": [
       "                  Date  Positive  Hospitalized   Death\n",
       "Time_Stamp                                            \n",
       "2020-12-02  02-12-2020  13711156        100322  264522\n",
       "2020-12-03  03-12-2020  13921360        100755  267228\n",
       "2020-12-04  04-12-2020  14146191        101276  269791\n",
       "2020-12-05  05-12-2020  14357264        101190  272236\n",
       "2020-12-06  06-12-2020  14534035        101487  273374"
      ]
     },
     "execution_count": 12,
     "metadata": {},
     "output_type": "execute_result"
    }
   ],
   "source": [
    "df.tail()"
   ]
  },
  {
   "cell_type": "markdown",
   "metadata": {},
   "source": [
    "### For this case study, we will build time series model to forecast the Hospitalized count"
   ]
  },
  {
   "cell_type": "markdown",
   "metadata": {},
   "source": [
    "## plotting variable Hospitalized "
   ]
  },
  {
   "cell_type": "code",
   "execution_count": 13,
   "metadata": {},
   "outputs": [
    {
     "data": {
      "text/plain": [
       "<AxesSubplot:xlabel='Time_Stamp'>"
      ]
     },
     "execution_count": 13,
     "metadata": {},
     "output_type": "execute_result"
    },
    {
     "data": {
      "image/png": "[encoded data removed]",
      "text/plain": [
       "<Figure size 1080x576 with 1 Axes>"
      ]
     },
     "metadata": {
      "needs_background": "light"
     },
     "output_type": "display_data"
    }
   ],
   "source": [
    "rcParams['figure.figsize'] = 15,8\n",
    "df['Hospitalized'].plot()"
   ]
  },
  {
   "cell_type": "markdown",
   "metadata": {},
   "source": [
    "Inferences:\n",
    "    \n",
    "There are no Long term Seasonality"
   ]
  },
  {
   "cell_type": "code",
   "execution_count": 14,
   "metadata": {},
   "outputs": [],
   "source": [
    "df_final=df.drop(['Date','Positive','Death'],axis=1)"
   ]
  },
  {
   "cell_type": "code",
   "execution_count": 17,
   "metadata": {},
   "outputs": [
    {
     "data": {
      "text/html": [
       "<div>\n",
       "<style scoped>\n",
       "    .dataframe tbody tr th:only-of-type {\n",
       "        vertical-align: middle;\n",
       "    }\n",
       "\n",
       "    .dataframe tbody tr th {\n",
       "        vertical-align: top;\n",
       "    }\n",
       "\n",
       "    .dataframe thead th {\n",
       "        text-align: right;\n",
       "    }\n",
       "</style>\n",
       "<table border=\"1\" class=\"dataframe\">\n",
       "  <thead>\n",
       "    <tr style=\"text-align: right;\">\n",
       "      <th></th>\n",
       "      <th>Hospitalized</th>\n",
       "    </tr>\n",
       "    <tr>\n",
       "      <th>Time_Stamp</th>\n",
       "      <th></th>\n",
       "    </tr>\n",
       "  </thead>\n",
       "  <tbody>\n",
       "    <tr>\n",
       "      <th>2020-03-17</th>\n",
       "      <td>325</td>\n",
       "    </tr>\n",
       "    <tr>\n",
       "      <th>2020-03-18</th>\n",
       "      <td>416</td>\n",
       "    </tr>\n",
       "    <tr>\n",
       "      <th>2020-03-19</th>\n",
       "      <td>617</td>\n",
       "    </tr>\n",
       "    <tr>\n",
       "      <th>2020-03-20</th>\n",
       "      <td>1042</td>\n",
       "    </tr>\n",
       "    <tr>\n",
       "      <th>2020-03-21</th>\n",
       "      <td>1492</td>\n",
       "    </tr>\n",
       "  </tbody>\n",
       "</table>\n",
       "</div>"
      ],
      "text/plain": [
       "            Hospitalized\n",
       "Time_Stamp              \n",
       "2020-03-17           325\n",
       "2020-03-18           416\n",
       "2020-03-19           617\n",
       "2020-03-20          1042\n",
       "2020-03-21          1492"
      ]
     },
     "execution_count": 17,
     "metadata": {},
     "output_type": "execute_result"
    }
   ],
   "source": [
    "df_final.head()"
   ]
  },
  {
   "cell_type": "code",
   "execution_count": 15,
   "metadata": {},
   "outputs": [
    {
     "data": {
      "text/html": [
       "<div>\n",
       "<style scoped>\n",
       "    .dataframe tbody tr th:only-of-type {\n",
       "        vertical-align: middle;\n",
       "    }\n",
       "\n",
       "    .dataframe tbody tr th {\n",
       "        vertical-align: top;\n",
       "    }\n",
       "\n",
       "    .dataframe thead th {\n",
       "        text-align: right;\n",
       "    }\n",
       "</style>\n",
       "<table border=\"1\" class=\"dataframe\">\n",
       "  <thead>\n",
       "    <tr style=\"text-align: right;\">\n",
       "      <th></th>\n",
       "      <th>Hospitalized</th>\n",
       "    </tr>\n",
       "    <tr>\n",
       "      <th>Time_Stamp</th>\n",
       "      <th></th>\n",
       "    </tr>\n",
       "  </thead>\n",
       "  <tbody>\n",
       "    <tr>\n",
       "      <th>2020-12-02</th>\n",
       "      <td>100322</td>\n",
       "    </tr>\n",
       "    <tr>\n",
       "      <th>2020-12-03</th>\n",
       "      <td>100755</td>\n",
       "    </tr>\n",
       "    <tr>\n",
       "      <th>2020-12-04</th>\n",
       "      <td>101276</td>\n",
       "    </tr>\n",
       "    <tr>\n",
       "      <th>2020-12-05</th>\n",
       "      <td>101190</td>\n",
       "    </tr>\n",
       "    <tr>\n",
       "      <th>2020-12-06</th>\n",
       "      <td>101487</td>\n",
       "    </tr>\n",
       "  </tbody>\n",
       "</table>\n",
       "</div>"
      ],
      "text/plain": [
       "            Hospitalized\n",
       "Time_Stamp              \n",
       "2020-12-02        100322\n",
       "2020-12-03        100755\n",
       "2020-12-04        101276\n",
       "2020-12-05        101190\n",
       "2020-12-06        101487"
      ]
     },
     "execution_count": 15,
     "metadata": {},
     "output_type": "execute_result"
    }
   ],
   "source": [
    "df_final.tail()"
   ]
  },
  {
   "cell_type": "markdown",
   "metadata": {},
   "source": [
    "## Checking for Null values"
   ]
  },
  {
   "cell_type": "code",
   "execution_count": 16,
   "metadata": {},
   "outputs": [
    {
     "data": {
      "text/plain": [
       "Hospitalized    0\n",
       "dtype: int64"
      ]
     },
     "execution_count": 16,
     "metadata": {},
     "output_type": "execute_result"
    }
   ],
   "source": [
    "df_final.isnull().sum()"
   ]
  },
  {
   "cell_type": "markdown",
   "metadata": {},
   "source": [
    "### data does not have any missing values"
   ]
  },
  {
   "cell_type": "markdown",
   "metadata": {},
   "source": [
    "## Exploratory Data Analysis"
   ]
  },
  {
   "cell_type": "code",
   "execution_count": 18,
   "metadata": {},
   "outputs": [],
   "source": [
    "rcParams['figure.figsize'] = 10,6"
   ]
  },
  {
   "cell_type": "code",
   "execution_count": 19,
   "metadata": {},
   "outputs": [
    {
     "data": {
      "text/plain": [
       "<AxesSubplot:xlabel='Time_Stamp'>"
      ]
     },
     "execution_count": 19,
     "metadata": {},
     "output_type": "execute_result"
    },
    {
     "data": {
      "image/png": "[encoded data removed]",
      "text/plain": [
       "<Figure size 720x432 with 1 Axes>"
      ]
     },
     "metadata": {
      "needs_background": "light"
     },
     "output_type": "display_data"
    }
   ],
   "source": [
    "df_final.plot()"
   ]
  },
  {
   "cell_type": "markdown",
   "metadata": {},
   "source": [
    "### plotting box-plot for distribution of data"
   ]
  },
  {
   "cell_type": "code",
   "execution_count": 20,
   "metadata": {
    "scrolled": false
   },
   "outputs": [
    {
     "data": {
      "image/png": "[encoded data removed]",
      "text/plain": [
       "<Figure size 720x432 with 1 Axes>"
      ]
     },
     "metadata": {
      "needs_background": "light"
     },
     "output_type": "display_data"
    }
   ],
   "source": [
    "sns.boxplot(x = df_final.index.year,y = df_final['Hospitalized'])\n",
    "plt.grid();"
   ]
  },
  {
   "cell_type": "markdown",
   "metadata": {},
   "source": [
    "### data does not show any skewness"
   ]
  },
  {
   "cell_type": "markdown",
   "metadata": {},
   "source": [
    "## plotting monthwise distribution"
   ]
  },
  {
   "cell_type": "code",
   "execution_count": 21,
   "metadata": {
    "scrolled": false
   },
   "outputs": [
    {
     "data": {
      "image/png": "[encoded data removed]",
      "text/plain": [
       "<Figure size 720x432 with 1 Axes>"
      ]
     },
     "metadata": {
      "needs_background": "light"
     },
     "output_type": "display_data"
    }
   ],
   "source": [
    "sns.boxplot(x = df_final.index.month,y = df_final['Hospitalized'])\n",
    "plt.grid();"
   ]
  },
  {
   "cell_type": "markdown",
   "metadata": {},
   "source": [
    "### High variation in data can be observed in the month of November. Few outliers are present in the month of April"
   ]
  },
  {
   "cell_type": "markdown",
   "metadata": {},
   "source": [
    "## Decomposing time series"
   ]
  },
  {
   "cell_type": "code",
   "execution_count": 22,
   "metadata": {
    "scrolled": false
   },
   "outputs": [
    {
     "data": {
      "image/png": "[encoded data removed]",
      "text/plain": [
       "<Figure size 720x432 with 4 Axes>"
      ]
     },
     "metadata": {
      "needs_background": "light"
     },
     "output_type": "display_data"
    }
   ],
   "source": [
    "decomposition = seasonal_decompose(df_final, model = 'additive',period=7)\n",
    "decomposition.plot()\n",
    "plt.show()"
   ]
  },
  {
   "cell_type": "markdown",
   "metadata": {},
   "source": [
    "Inferences:\n",
    "    \n",
    "99% of data is well understood by Trend Complement\n",
    "\n",
    "Residuals are not having Constant variance at few intervals whereas the other residuals are close to 0"
   ]
  },
  {
   "cell_type": "code",
   "execution_count": 23,
   "metadata": {
    "scrolled": true
   },
   "outputs": [
    {
     "data": {
      "image/png": "[encoded data removed]",
      "text/plain": [
       "<Figure size 720x432 with 4 Axes>"
      ]
     },
     "metadata": {
      "needs_background": "light"
     },
     "output_type": "display_data"
    }
   ],
   "source": [
    "decomposition = seasonal_decompose(df_final, model = 'multiplicative')\n",
    "decomposition.plot()\n",
    "plt.show()"
   ]
  },
  {
   "cell_type": "markdown",
   "metadata": {},
   "source": [
    "### Time series is showing trend as well as seasonality. Residual curve confirms that series is Multiplicative\n",
    "\n",
    "There is some sort of Seasonality but it is Trend which gives us more Information"
   ]
  },
  {
   "cell_type": "markdown",
   "metadata": {},
   "source": [
    "## Looking for stationarity"
   ]
  },
  {
   "cell_type": "markdown",
   "metadata": {},
   "source": [
    "### plotting monthly mean"
   ]
  },
  {
   "cell_type": "code",
   "execution_count": 24,
   "metadata": {},
   "outputs": [
    {
     "data": {
      "text/plain": [
       "<AxesSubplot:xlabel='Time_Stamp'>"
      ]
     },
     "execution_count": 24,
     "metadata": {},
     "output_type": "execute_result"
    },
    {
     "data": {
      "image/png": "[encoded data removed]",
      "text/plain": [
       "<Figure size 720x432 with 1 Axes>"
      ]
     },
     "metadata": {
      "needs_background": "light"
     },
     "output_type": "display_data"
    }
   ],
   "source": [
    "monthly_mean = df_final.resample('M').mean()\n",
    "monthly_mean.plot.bar()"
   ]
  },
  {
   "cell_type": "markdown",
   "metadata": {},
   "source": [
    "### Variation in monthly mean plot is indicating that series is non-stationary"
   ]
  },
  {
   "cell_type": "markdown",
   "metadata": {},
   "source": [
    "## lets plot rolling mean and std deviation"
   ]
  },
  {
   "cell_type": "code",
   "execution_count": 26,
   "metadata": {},
   "outputs": [],
   "source": [
    "rolmean = df_final.rolling(window=30).mean()\n",
    "rolstd = df_final.rolling(window=30).std()"
   ]
  },
  {
   "cell_type": "markdown",
   "metadata": {},
   "source": [
    "Here window can be taken any range since we are dealing with Daily Data"
   ]
  },
  {
   "cell_type": "code",
   "execution_count": 27,
   "metadata": {
    "scrolled": true
   },
   "outputs": [
    {
     "data": {
      "image/png": "[encoded data removed]",
      "text/plain": [
       "<Figure size 720x432 with 1 Axes>"
      ]
     },
     "metadata": {
      "needs_background": "light"
     },
     "output_type": "display_data"
    }
   ],
   "source": [
    "orig = plt.plot(df_final, color='blue',label='Original')\n",
    "mean = plt.plot(rolmean, color='red', label='Rolling Mean')\n",
    "std = plt.plot(rolstd, color='black', label = 'Rolling Std')\n",
    "plt.legend(loc='best')\n",
    "plt.title('Rolling Mean & Standard Deviation')\n",
    "plt.show()"
   ]
  },
  {
   "cell_type": "markdown",
   "metadata": {},
   "source": [
    "### both rolling mean and std deviation are changing over the period of time"
   ]
  },
  {
   "cell_type": "markdown",
   "metadata": {},
   "source": [
    "## statistical test to confirm the stationarity.\n",
    "\n",
    "Not a Stationary Series"
   ]
  },
  {
   "cell_type": "code",
   "execution_count": 28,
   "metadata": {},
   "outputs": [],
   "source": [
    "observations= df_final.values\n",
    "test_result = adfuller(observations)"
   ]
  },
  {
   "cell_type": "code",
   "execution_count": 29,
   "metadata": {},
   "outputs": [
    {
     "name": "stdout",
     "output_type": "stream",
     "text": [
      "ADF Statistic: -1.631167\n",
      "p-value: 0.466880\n",
      "Critical Values:\n",
      "\t1%: -3.45700\n",
      "\t5%: -2.87327\n",
      "\t10%: -2.57302\n"
     ]
    }
   ],
   "source": [
    "print('ADF Statistic: %f' % test_result[0])\n",
    "print('p-value: %f' % test_result[1])\n",
    "print('Critical Values:')\n",
    "for key, value in test_result[4].items():\n",
    "\tprint('\\t%s: %.5f' % (key, value))"
   ]
  },
  {
   "cell_type": "markdown",
   "metadata": {},
   "source": [
    "ADF Statistic and p_value > 1% (995) value\n",
    "\n",
    "### Test result confirms that series is non-stationary"
   ]
  },
  {
   "cell_type": "markdown",
   "metadata": {},
   "source": [
    "## ACF and PACF plots for the series"
   ]
  },
  {
   "cell_type": "code",
   "execution_count": 34,
   "metadata": {},
   "outputs": [
    {
     "data": {
      "image/png": "[encoded data removed]",
      "text/plain": [
       "<Figure size 720x432 with 1 Axes>"
      ]
     },
     "metadata": {
      "needs_background": "light"
     },
     "output_type": "display_data"
    }
   ],
   "source": [
    "plot_acf(df_final,lags=150);"
   ]
  },
  {
   "cell_type": "markdown",
   "metadata": {},
   "source": [
    "There is a slow decay over a period of time and also there are 12 lags which are Significant and then there is a drop. Hence we dont consider ACF"
   ]
  },
  {
   "cell_type": "code",
   "execution_count": 31,
   "metadata": {
    "scrolled": true
   },
   "outputs": [
    {
     "data": {
      "image/png": "[encoded data removed]",
      "text/plain": [
       "<Figure size 720x432 with 1 Axes>"
      ]
     },
     "metadata": {
      "needs_background": "light"
     },
     "output_type": "display_data"
    }
   ],
   "source": [
    "plot_pacf(df_final);"
   ]
  },
  {
   "cell_type": "markdown",
   "metadata": {},
   "source": [
    "### ACF plot is showing gradual decay and it shows Seasonal nature but it is very weak.\n",
    "\n",
    "### whereas PACF is showing short cut-off after Lag1. This indicates strong trend component.\n",
    "\n",
    "### It seems that time series may have AR signature"
   ]
  },
  {
   "cell_type": "markdown",
   "metadata": {},
   "source": [
    "## Splitting series into training and testing sets"
   ]
  },
  {
   "cell_type": "code",
   "execution_count": 35,
   "metadata": {},
   "outputs": [
    {
     "data": {
      "text/html": [
       "<div>\n",
       "<style scoped>\n",
       "    .dataframe tbody tr th:only-of-type {\n",
       "        vertical-align: middle;\n",
       "    }\n",
       "\n",
       "    .dataframe tbody tr th {\n",
       "        vertical-align: top;\n",
       "    }\n",
       "\n",
       "    .dataframe thead th {\n",
       "        text-align: right;\n",
       "    }\n",
       "</style>\n",
       "<table border=\"1\" class=\"dataframe\">\n",
       "  <thead>\n",
       "    <tr style=\"text-align: right;\">\n",
       "      <th></th>\n",
       "      <th>Hospitalized</th>\n",
       "    </tr>\n",
       "    <tr>\n",
       "      <th>Time_Stamp</th>\n",
       "      <th></th>\n",
       "    </tr>\n",
       "  </thead>\n",
       "  <tbody>\n",
       "    <tr>\n",
       "      <th>2020-03-17</th>\n",
       "      <td>325</td>\n",
       "    </tr>\n",
       "    <tr>\n",
       "      <th>2020-03-18</th>\n",
       "      <td>416</td>\n",
       "    </tr>\n",
       "    <tr>\n",
       "      <th>2020-03-19</th>\n",
       "      <td>617</td>\n",
       "    </tr>\n",
       "    <tr>\n",
       "      <th>2020-03-20</th>\n",
       "      <td>1042</td>\n",
       "    </tr>\n",
       "    <tr>\n",
       "      <th>2020-03-21</th>\n",
       "      <td>1492</td>\n",
       "    </tr>\n",
       "  </tbody>\n",
       "</table>\n",
       "</div>"
      ],
      "text/plain": [
       "            Hospitalized\n",
       "Time_Stamp              \n",
       "2020-03-17           325\n",
       "2020-03-18           416\n",
       "2020-03-19           617\n",
       "2020-03-20          1042\n",
       "2020-03-21          1492"
      ]
     },
     "execution_count": 35,
     "metadata": {},
     "output_type": "execute_result"
    }
   ],
   "source": [
    "df_final.head()"
   ]
  },
  {
   "cell_type": "code",
   "execution_count": 36,
   "metadata": {},
   "outputs": [
    {
     "data": {
      "text/html": [
       "<div>\n",
       "<style scoped>\n",
       "    .dataframe tbody tr th:only-of-type {\n",
       "        vertical-align: middle;\n",
       "    }\n",
       "\n",
       "    .dataframe tbody tr th {\n",
       "        vertical-align: top;\n",
       "    }\n",
       "\n",
       "    .dataframe thead th {\n",
       "        text-align: right;\n",
       "    }\n",
       "</style>\n",
       "<table border=\"1\" class=\"dataframe\">\n",
       "  <thead>\n",
       "    <tr style=\"text-align: right;\">\n",
       "      <th></th>\n",
       "      <th>Hospitalized</th>\n",
       "    </tr>\n",
       "    <tr>\n",
       "      <th>Time_Stamp</th>\n",
       "      <th></th>\n",
       "    </tr>\n",
       "  </thead>\n",
       "  <tbody>\n",
       "    <tr>\n",
       "      <th>2020-12-02</th>\n",
       "      <td>100322</td>\n",
       "    </tr>\n",
       "    <tr>\n",
       "      <th>2020-12-03</th>\n",
       "      <td>100755</td>\n",
       "    </tr>\n",
       "    <tr>\n",
       "      <th>2020-12-04</th>\n",
       "      <td>101276</td>\n",
       "    </tr>\n",
       "    <tr>\n",
       "      <th>2020-12-05</th>\n",
       "      <td>101190</td>\n",
       "    </tr>\n",
       "    <tr>\n",
       "      <th>2020-12-06</th>\n",
       "      <td>101487</td>\n",
       "    </tr>\n",
       "  </tbody>\n",
       "</table>\n",
       "</div>"
      ],
      "text/plain": [
       "            Hospitalized\n",
       "Time_Stamp              \n",
       "2020-12-02        100322\n",
       "2020-12-03        100755\n",
       "2020-12-04        101276\n",
       "2020-12-05        101190\n",
       "2020-12-06        101487"
      ]
     },
     "execution_count": 36,
     "metadata": {},
     "output_type": "execute_result"
    }
   ],
   "source": [
    "df_final.tail()"
   ]
  },
  {
   "cell_type": "code",
   "execution_count": 37,
   "metadata": {},
   "outputs": [],
   "source": [
    "train_end=datetime(2020,11,6)\n",
    "test_end=datetime(2020,12,6)"
   ]
  },
  {
   "cell_type": "code",
   "execution_count": 38,
   "metadata": {},
   "outputs": [],
   "source": [
    "train             = df_final[:train_end] \n",
    "test              = df_final[train_end + timedelta(days=1):test_end]"
   ]
  },
  {
   "cell_type": "code",
   "execution_count": 39,
   "metadata": {},
   "outputs": [
    {
     "data": {
      "text/plain": [
       "(235, 1)"
      ]
     },
     "execution_count": 39,
     "metadata": {},
     "output_type": "execute_result"
    }
   ],
   "source": [
    "train.shape"
   ]
  },
  {
   "cell_type": "code",
   "execution_count": 40,
   "metadata": {},
   "outputs": [
    {
     "data": {
      "text/plain": [
       "(30, 1)"
      ]
     },
     "execution_count": 40,
     "metadata": {},
     "output_type": "execute_result"
    }
   ],
   "source": [
    "test.shape"
   ]
  },
  {
   "cell_type": "markdown",
   "metadata": {},
   "source": [
    "## Model Selection"
   ]
  },
  {
   "cell_type": "markdown",
   "metadata": {},
   "source": [
    "### As the given time series is non-stationary, we will the forecasting model using ARIMA, SARIMA and SARIMAX model. We will also build the H-W forecasting model."
   ]
  },
  {
   "cell_type": "markdown",
   "metadata": {},
   "source": [
    "### Let's start by building ARIMA model -- Although the data set has some seasonality and hence ARIMA is not the right option for making the model."
   ]
  },
  {
   "cell_type": "markdown",
   "metadata": {},
   "source": [
    "## we will find the model parameters based on AIC criteria. Parameters will be  generated using combination for the given range."
   ]
  },
  {
   "cell_type": "code",
   "execution_count": 41,
   "metadata": {},
   "outputs": [],
   "source": [
    "import itertools\n",
    "p = q = range(0, 4)\n",
    "d= range(0,2)\n",
    "pdq = list(itertools.product(p, d, q))\n",
    "\n",
    "#model_pdq = [(x[0], x[1], x[2],7) for x in list(itertools.product(p, d, q))]\n",
    "#print('Examples of parameter combinations for Model...')\n",
    "#print('Model: {}{}'.format(pdq[1], model_pdq[1]))\n",
    "#print('Model: {}{}'.format(pdq[1], model_pdq[2]))\n",
    "#print('Model: {}{}'.format(pdq[2], model_pdq[3]))\n",
    "#print('Model: {}{}'.format(pdq[2], model_pdq[4]))"
   ]
  },
  {
   "cell_type": "code",
   "execution_count": 42,
   "metadata": {
    "scrolled": true
   },
   "outputs": [
    {
     "data": {
      "text/plain": [
       "[(0, 0, 0),\n",
       " (0, 0, 1),\n",
       " (0, 0, 2),\n",
       " (0, 0, 3),\n",
       " (0, 1, 0),\n",
       " (0, 1, 1),\n",
       " (0, 1, 2),\n",
       " (0, 1, 3),\n",
       " (1, 0, 0),\n",
       " (1, 0, 1),\n",
       " (1, 0, 2),\n",
       " (1, 0, 3),\n",
       " (1, 1, 0),\n",
       " (1, 1, 1),\n",
       " (1, 1, 2),\n",
       " (1, 1, 3),\n",
       " (2, 0, 0),\n",
       " (2, 0, 1),\n",
       " (2, 0, 2),\n",
       " (2, 0, 3),\n",
       " (2, 1, 0),\n",
       " (2, 1, 1),\n",
       " (2, 1, 2),\n",
       " (2, 1, 3),\n",
       " (3, 0, 0),\n",
       " (3, 0, 1),\n",
       " (3, 0, 2),\n",
       " (3, 0, 3),\n",
       " (3, 1, 0),\n",
       " (3, 1, 1),\n",
       " (3, 1, 2),\n",
       " (3, 1, 3)]"
      ]
     },
     "execution_count": 42,
     "metadata": {},
     "output_type": "execute_result"
    }
   ],
   "source": [
    "pdq"
   ]
  },
  {
   "cell_type": "markdown",
   "metadata": {},
   "source": [
    "## Creating an empty Dataframe with column names only where the model and AIC scores will be saved"
   ]
  },
  {
   "cell_type": "code",
   "execution_count": 43,
   "metadata": {},
   "outputs": [
    {
     "data": {
      "text/html": [
       "<div>\n",
       "<style scoped>\n",
       "    .dataframe tbody tr th:only-of-type {\n",
       "        vertical-align: middle;\n",
       "    }\n",
       "\n",
       "    .dataframe tbody tr th {\n",
       "        vertical-align: top;\n",
       "    }\n",
       "\n",
       "    .dataframe thead th {\n",
       "        text-align: right;\n",
       "    }\n",
       "</style>\n",
       "<table border=\"1\" class=\"dataframe\">\n",
       "  <thead>\n",
       "    <tr style=\"text-align: right;\">\n",
       "      <th></th>\n",
       "      <th>param</th>\n",
       "      <th>AIC</th>\n",
       "    </tr>\n",
       "  </thead>\n",
       "  <tbody>\n",
       "  </tbody>\n",
       "</table>\n",
       "</div>"
      ],
      "text/plain": [
       "Empty DataFrame\n",
       "Columns: [param, AIC]\n",
       "Index: []"
      ]
     },
     "execution_count": 43,
     "metadata": {},
     "output_type": "execute_result"
    }
   ],
   "source": [
    "dfObj1 = pd.DataFrame(columns=['param', 'AIC'])\n",
    "dfObj1"
   ]
  },
  {
   "cell_type": "markdown",
   "metadata": {},
   "source": [
    "## model parameter selection using hypertuning"
   ]
  },
  {
   "cell_type": "code",
   "execution_count": 44,
   "metadata": {},
   "outputs": [
    {
     "name": "stdout",
     "output_type": "stream",
     "text": [
      "ARIMA(0, 0, 0) - AIC:5135.977286705961\n",
      "ARIMA(0, 0, 1) - AIC:4839.912200774063\n",
      "ARIMA(0, 1, 0) - AIC:4010.2897353658404\n",
      "ARIMA(0, 1, 1) - AIC:3939.069525837872\n",
      "ARIMA(0, 1, 2) - AIC:3898.0799435165954\n",
      "ARIMA(0, 1, 3) - AIC:3868.531341318412\n",
      "ARIMA(1, 0, 0) - AIC:4043.8294100225767\n",
      "ARIMA(1, 0, 1) - AIC:3969.9372777096\n",
      "ARIMA(1, 0, 2) - AIC:3927.3178289265616\n",
      "ARIMA(1, 0, 3) - AIC:3896.412783237557\n",
      "ARIMA(1, 1, 0) - AIC:3876.862767738583\n",
      "ARIMA(1, 1, 1) - AIC:3852.8584457433\n",
      "ARIMA(1, 1, 2) - AIC:3853.565781010923\n",
      "ARIMA(1, 1, 3) - AIC:3851.41281301214\n",
      "ARIMA(2, 0, 0) - AIC:3902.5124509088555\n",
      "ARIMA(2, 0, 1) - AIC:3866.482215806256\n",
      "ARIMA(2, 0, 2) - AIC:3863.8773474948885\n",
      "ARIMA(2, 0, 3) - AIC:3860.260483656474\n",
      "ARIMA(2, 1, 0) - AIC:3857.2086739242623\n",
      "ARIMA(2, 1, 1) - AIC:3852.9898073417867\n",
      "ARIMA(2, 1, 2) - AIC:3854.565738574014\n",
      "ARIMA(2, 1, 3) - AIC:3853.4028312609935\n",
      "ARIMA(3, 0, 0) - AIC:3880.4097411640173\n",
      "ARIMA(3, 0, 1) - AIC:3862.5288620771885\n",
      "ARIMA(3, 0, 2) - AIC:3863.903013879052\n",
      "ARIMA(3, 0, 3) - AIC:3862.2943587968357\n",
      "ARIMA(3, 1, 0) - AIC:3858.7510210257115\n",
      "ARIMA(3, 1, 1) - AIC:3853.606468073106\n",
      "ARIMA(3, 1, 2) - AIC:3854.716046360766\n",
      "ARIMA(3, 1, 3) - AIC:3828.7871874186426\n"
     ]
    }
   ],
   "source": [
    "for param in pdq:\n",
    "            try:\n",
    "                mod = ARIMA(train, order=param)\n",
    "                results_Arima = mod.fit()\n",
    "                print('ARIMA{} - AIC:{}'.format(param, results_Arima.aic))\n",
    "                dfObj1 = dfObj1.append({'param':param, 'AIC': results_Arima.aic}, ignore_index=True)\n",
    "\n",
    "            except:\n",
    "                continue"
   ]
  },
  {
   "cell_type": "code",
   "execution_count": 45,
   "metadata": {},
   "outputs": [
    {
     "data": {
      "text/html": [
       "<div>\n",
       "<style scoped>\n",
       "    .dataframe tbody tr th:only-of-type {\n",
       "        vertical-align: middle;\n",
       "    }\n",
       "\n",
       "    .dataframe tbody tr th {\n",
       "        vertical-align: top;\n",
       "    }\n",
       "\n",
       "    .dataframe thead th {\n",
       "        text-align: right;\n",
       "    }\n",
       "</style>\n",
       "<table border=\"1\" class=\"dataframe\">\n",
       "  <thead>\n",
       "    <tr style=\"text-align: right;\">\n",
       "      <th></th>\n",
       "      <th>param</th>\n",
       "      <th>AIC</th>\n",
       "    </tr>\n",
       "  </thead>\n",
       "  <tbody>\n",
       "    <tr>\n",
       "      <th>29</th>\n",
       "      <td>(3, 1, 3)</td>\n",
       "      <td>3828.787187</td>\n",
       "    </tr>\n",
       "    <tr>\n",
       "      <th>13</th>\n",
       "      <td>(1, 1, 3)</td>\n",
       "      <td>3851.412813</td>\n",
       "    </tr>\n",
       "    <tr>\n",
       "      <th>11</th>\n",
       "      <td>(1, 1, 1)</td>\n",
       "      <td>3852.858446</td>\n",
       "    </tr>\n",
       "    <tr>\n",
       "      <th>19</th>\n",
       "      <td>(2, 1, 1)</td>\n",
       "      <td>3852.989807</td>\n",
       "    </tr>\n",
       "    <tr>\n",
       "      <th>21</th>\n",
       "      <td>(2, 1, 3)</td>\n",
       "      <td>3853.402831</td>\n",
       "    </tr>\n",
       "    <tr>\n",
       "      <th>12</th>\n",
       "      <td>(1, 1, 2)</td>\n",
       "      <td>3853.565781</td>\n",
       "    </tr>\n",
       "    <tr>\n",
       "      <th>27</th>\n",
       "      <td>(3, 1, 1)</td>\n",
       "      <td>3853.606468</td>\n",
       "    </tr>\n",
       "    <tr>\n",
       "      <th>20</th>\n",
       "      <td>(2, 1, 2)</td>\n",
       "      <td>3854.565739</td>\n",
       "    </tr>\n",
       "    <tr>\n",
       "      <th>28</th>\n",
       "      <td>(3, 1, 2)</td>\n",
       "      <td>3854.716046</td>\n",
       "    </tr>\n",
       "    <tr>\n",
       "      <th>18</th>\n",
       "      <td>(2, 1, 0)</td>\n",
       "      <td>3857.208674</td>\n",
       "    </tr>\n",
       "    <tr>\n",
       "      <th>26</th>\n",
       "      <td>(3, 1, 0)</td>\n",
       "      <td>3858.751021</td>\n",
       "    </tr>\n",
       "    <tr>\n",
       "      <th>17</th>\n",
       "      <td>(2, 0, 3)</td>\n",
       "      <td>3860.260484</td>\n",
       "    </tr>\n",
       "    <tr>\n",
       "      <th>25</th>\n",
       "      <td>(3, 0, 3)</td>\n",
       "      <td>3862.294359</td>\n",
       "    </tr>\n",
       "    <tr>\n",
       "      <th>23</th>\n",
       "      <td>(3, 0, 1)</td>\n",
       "      <td>3862.528862</td>\n",
       "    </tr>\n",
       "    <tr>\n",
       "      <th>16</th>\n",
       "      <td>(2, 0, 2)</td>\n",
       "      <td>3863.877347</td>\n",
       "    </tr>\n",
       "    <tr>\n",
       "      <th>24</th>\n",
       "      <td>(3, 0, 2)</td>\n",
       "      <td>3863.903014</td>\n",
       "    </tr>\n",
       "    <tr>\n",
       "      <th>15</th>\n",
       "      <td>(2, 0, 1)</td>\n",
       "      <td>3866.482216</td>\n",
       "    </tr>\n",
       "    <tr>\n",
       "      <th>5</th>\n",
       "      <td>(0, 1, 3)</td>\n",
       "      <td>3868.531341</td>\n",
       "    </tr>\n",
       "    <tr>\n",
       "      <th>10</th>\n",
       "      <td>(1, 1, 0)</td>\n",
       "      <td>3876.862768</td>\n",
       "    </tr>\n",
       "    <tr>\n",
       "      <th>22</th>\n",
       "      <td>(3, 0, 0)</td>\n",
       "      <td>3880.409741</td>\n",
       "    </tr>\n",
       "    <tr>\n",
       "      <th>9</th>\n",
       "      <td>(1, 0, 3)</td>\n",
       "      <td>3896.412783</td>\n",
       "    </tr>\n",
       "    <tr>\n",
       "      <th>4</th>\n",
       "      <td>(0, 1, 2)</td>\n",
       "      <td>3898.079944</td>\n",
       "    </tr>\n",
       "    <tr>\n",
       "      <th>14</th>\n",
       "      <td>(2, 0, 0)</td>\n",
       "      <td>3902.512451</td>\n",
       "    </tr>\n",
       "    <tr>\n",
       "      <th>8</th>\n",
       "      <td>(1, 0, 2)</td>\n",
       "      <td>3927.317829</td>\n",
       "    </tr>\n",
       "    <tr>\n",
       "      <th>3</th>\n",
       "      <td>(0, 1, 1)</td>\n",
       "      <td>3939.069526</td>\n",
       "    </tr>\n",
       "    <tr>\n",
       "      <th>7</th>\n",
       "      <td>(1, 0, 1)</td>\n",
       "      <td>3969.937278</td>\n",
       "    </tr>\n",
       "    <tr>\n",
       "      <th>2</th>\n",
       "      <td>(0, 1, 0)</td>\n",
       "      <td>4010.289735</td>\n",
       "    </tr>\n",
       "    <tr>\n",
       "      <th>6</th>\n",
       "      <td>(1, 0, 0)</td>\n",
       "      <td>4043.829410</td>\n",
       "    </tr>\n",
       "    <tr>\n",
       "      <th>1</th>\n",
       "      <td>(0, 0, 1)</td>\n",
       "      <td>4839.912201</td>\n",
       "    </tr>\n",
       "    <tr>\n",
       "      <th>0</th>\n",
       "      <td>(0, 0, 0)</td>\n",
       "      <td>5135.977287</td>\n",
       "    </tr>\n",
       "  </tbody>\n",
       "</table>\n",
       "</div>"
      ],
      "text/plain": [
       "        param          AIC\n",
       "29  (3, 1, 3)  3828.787187\n",
       "13  (1, 1, 3)  3851.412813\n",
       "11  (1, 1, 1)  3852.858446\n",
       "19  (2, 1, 1)  3852.989807\n",
       "21  (2, 1, 3)  3853.402831\n",
       "12  (1, 1, 2)  3853.565781\n",
       "27  (3, 1, 1)  3853.606468\n",
       "20  (2, 1, 2)  3854.565739\n",
       "28  (3, 1, 2)  3854.716046\n",
       "18  (2, 1, 0)  3857.208674\n",
       "26  (3, 1, 0)  3858.751021\n",
       "17  (2, 0, 3)  3860.260484\n",
       "25  (3, 0, 3)  3862.294359\n",
       "23  (3, 0, 1)  3862.528862\n",
       "16  (2, 0, 2)  3863.877347\n",
       "24  (3, 0, 2)  3863.903014\n",
       "15  (2, 0, 1)  3866.482216\n",
       "5   (0, 1, 3)  3868.531341\n",
       "10  (1, 1, 0)  3876.862768\n",
       "22  (3, 0, 0)  3880.409741\n",
       "9   (1, 0, 3)  3896.412783\n",
       "4   (0, 1, 2)  3898.079944\n",
       "14  (2, 0, 0)  3902.512451\n",
       "8   (1, 0, 2)  3927.317829\n",
       "3   (0, 1, 1)  3939.069526\n",
       "7   (1, 0, 1)  3969.937278\n",
       "2   (0, 1, 0)  4010.289735\n",
       "6   (1, 0, 0)  4043.829410\n",
       "1   (0, 0, 1)  4839.912201\n",
       "0   (0, 0, 0)  5135.977287"
      ]
     },
     "execution_count": 45,
     "metadata": {},
     "output_type": "execute_result"
    }
   ],
   "source": [
    "dfObj1.sort_values(by=['AIC'])"
   ]
  },
  {
   "cell_type": "code",
   "execution_count": 46,
   "metadata": {
    "scrolled": true
   },
   "outputs": [
    {
     "name": "stdout",
     "output_type": "stream",
     "text": [
      "                             ARIMA Model Results                              \n",
      "==============================================================================\n",
      "Dep. Variable:         D.Hospitalized   No. Observations:                  234\n",
      "Model:                 ARIMA(3, 1, 3)   Log Likelihood               -1906.394\n",
      "Method:                       css-mle   S.D. of innovations            830.751\n",
      "Date:                Wed, 12 May 2021   AIC                           3828.787\n",
      "Time:                        10:06:48   BIC                           3856.430\n",
      "Sample:                    03-18-2020   HQIC                          3839.933\n",
      "                         - 11-06-2020                                         \n",
      "========================================================================================\n",
      "                           coef    std err          z      P>|z|      [0.025      0.975]\n",
      "----------------------------------------------------------------------------------------\n",
      "const                  303.4195    379.167      0.800      0.424    -439.733    1046.572\n",
      "ar.L1.D.Hospitalized     1.5418      0.068     22.526      0.000       1.408       1.676\n",
      "ar.L2.D.Hospitalized    -1.2926      0.118    -10.918      0.000      -1.525      -1.061\n",
      "ar.L3.D.Hospitalized     0.6933      0.079      8.783      0.000       0.539       0.848\n",
      "ma.L1.D.Hospitalized    -1.1836      0.066    -17.821      0.000      -1.314      -1.053\n",
      "ma.L2.D.Hospitalized     1.2774      0.071     17.966      0.000       1.138       1.417\n",
      "ma.L3.D.Hospitalized    -0.6671      0.059    -11.385      0.000      -0.782      -0.552\n",
      "                                    Roots                                    \n",
      "=============================================================================\n",
      "                  Real          Imaginary           Modulus         Frequency\n",
      "-----------------------------------------------------------------------------\n",
      "AR.1            1.0532           -0.0000j            1.0532           -0.0000\n",
      "AR.2            0.4056           -1.0977j            1.1702           -0.1937\n",
      "AR.3            0.4056           +1.0977j            1.1702            0.1937\n",
      "MA.1            0.2522           -0.9996j            1.0309           -0.2107\n",
      "MA.2            0.2522           +0.9996j            1.0309            0.2107\n",
      "MA.3            1.4105           -0.0000j            1.4105           -0.0000\n",
      "-----------------------------------------------------------------------------\n"
     ]
    }
   ],
   "source": [
    "model = ARIMA(train, order=(3, 1, 3))\n",
    "\n",
    "model_Arima = model.fit()\n",
    "\n",
    "print(model_Arima.summary())"
   ]
  },
  {
   "cell_type": "markdown",
   "metadata": {},
   "source": [
    "## predicting results"
   ]
  },
  {
   "cell_type": "code",
   "execution_count": 47,
   "metadata": {},
   "outputs": [],
   "source": [
    "pred_start=test.index[0]\n",
    "pred_end=test.index[-1]"
   ]
  },
  {
   "cell_type": "code",
   "execution_count": 48,
   "metadata": {
    "scrolled": true
   },
   "outputs": [],
   "source": [
    "ARIMA_predictions=model_Arima.predict(start=pred_start, end=pred_end)"
   ]
  },
  {
   "cell_type": "code",
   "execution_count": 51,
   "metadata": {},
   "outputs": [
    {
     "data": {
      "text/plain": [
       "2020-11-07     778.616381\n",
       "2020-11-08     857.179505\n",
       "2020-11-09    1107.249730\n",
       "2020-11-10    1156.440340\n",
       "2020-11-11     963.503162\n",
       "2020-11-12     775.826627\n",
       "2020-11-13     769.967682\n",
       "2020-11-14     869.761728\n",
       "2020-11-15     901.076071\n",
       "2020-11-16     816.296971\n",
       "2020-11-17     714.295848\n",
       "2020-11-18     688.328982\n",
       "2020-11-19     721.362932\n",
       "2020-11-20     735.139749\n",
       "2020-11-21     695.676200\n",
       "2020-11-22     639.925792\n",
       "2020-11-23     614.532957\n",
       "2020-11-24     620.085436\n",
       "2020-11-25     622.816220\n",
       "2020-11-26     602.243373\n",
       "2020-11-27     570.843582\n",
       "2020-11-28     550.917450\n",
       "2020-11-29     546.519650\n",
       "2020-11-30     543.725662\n",
       "2020-12-01     531.287038\n",
       "2020-12-02     512.671380\n",
       "2020-12-03     498.110893\n",
       "2020-12-04     491.100431\n",
       "2020-12-05     486.206080\n",
       "2020-12-06     477.626523\n",
       "Freq: D, dtype: float64"
      ]
     },
     "execution_count": 51,
     "metadata": {},
     "output_type": "execute_result"
    }
   ],
   "source": [
    "ARIMA_predictions"
   ]
  },
  {
   "cell_type": "markdown",
   "metadata": {},
   "source": [
    "## invert transformation"
   ]
  },
  {
   "cell_type": "code",
   "execution_count": 52,
   "metadata": {},
   "outputs": [],
   "source": [
    "ARIMA_pred=ARIMA_predictions.cumsum()\n",
    "ARIMA_pred=pd.DataFrame(ARIMA_pred,columns=train.columns)"
   ]
  },
  {
   "cell_type": "code",
   "execution_count": 53,
   "metadata": {},
   "outputs": [],
   "source": [
    "df_fc = ARIMA_pred.copy()\n",
    "columns = train.columns\n",
    "for col in columns:        \n",
    "        df_fc[str(col)+'_forecast'] = train[col].iloc[-1] + df_fc[str(col)]"
   ]
  },
  {
   "cell_type": "markdown",
   "metadata": {},
   "source": [
    "The last element of Train record is added to the first record of Test"
   ]
  },
  {
   "cell_type": "code",
   "execution_count": 54,
   "metadata": {},
   "outputs": [
    {
     "data": {
      "text/html": [
       "<div>\n",
       "<style scoped>\n",
       "    .dataframe tbody tr th:only-of-type {\n",
       "        vertical-align: middle;\n",
       "    }\n",
       "\n",
       "    .dataframe tbody tr th {\n",
       "        vertical-align: top;\n",
       "    }\n",
       "\n",
       "    .dataframe thead th {\n",
       "        text-align: right;\n",
       "    }\n",
       "</style>\n",
       "<table border=\"1\" class=\"dataframe\">\n",
       "  <thead>\n",
       "    <tr style=\"text-align: right;\">\n",
       "      <th></th>\n",
       "      <th>Hospitalized</th>\n",
       "      <th>Hospitalized_forecast</th>\n",
       "    </tr>\n",
       "  </thead>\n",
       "  <tbody>\n",
       "    <tr>\n",
       "      <th>2020-11-07</th>\n",
       "      <td>778.616381</td>\n",
       "      <td>55727.616381</td>\n",
       "    </tr>\n",
       "    <tr>\n",
       "      <th>2020-11-08</th>\n",
       "      <td>1635.795886</td>\n",
       "      <td>56584.795886</td>\n",
       "    </tr>\n",
       "    <tr>\n",
       "      <th>2020-11-09</th>\n",
       "      <td>2743.045616</td>\n",
       "      <td>57692.045616</td>\n",
       "    </tr>\n",
       "    <tr>\n",
       "      <th>2020-11-10</th>\n",
       "      <td>3899.485957</td>\n",
       "      <td>58848.485957</td>\n",
       "    </tr>\n",
       "    <tr>\n",
       "      <th>2020-11-11</th>\n",
       "      <td>4862.989119</td>\n",
       "      <td>59811.989119</td>\n",
       "    </tr>\n",
       "  </tbody>\n",
       "</table>\n",
       "</div>"
      ],
      "text/plain": [
       "            Hospitalized  Hospitalized_forecast\n",
       "2020-11-07    778.616381           55727.616381\n",
       "2020-11-08   1635.795886           56584.795886\n",
       "2020-11-09   2743.045616           57692.045616\n",
       "2020-11-10   3899.485957           58848.485957\n",
       "2020-11-11   4862.989119           59811.989119"
      ]
     },
     "execution_count": 54,
     "metadata": {},
     "output_type": "execute_result"
    }
   ],
   "source": [
    "df_fc.head()"
   ]
  },
  {
   "cell_type": "code",
   "execution_count": 67,
   "metadata": {
    "scrolled": false
   },
   "outputs": [
    {
     "data": {
      "image/png": "[encoded data removed]",
      "text/plain": [
       "<Figure size 720x432 with 1 Axes>"
      ]
     },
     "metadata": {
      "needs_background": "light"
     },
     "output_type": "display_data"
    }
   ],
   "source": [
    "plt.plot(train,label='Training Data')\n",
    "plt.plot(test,label='Test Data')\n",
    "plt.plot(test.index,df_fc['Hospitalized_forecast'],label='Predicted Data - ARIMA(3,1,3)')\n",
    "plt.legend(loc='best')\n",
    "plt.grid();"
   ]
  },
  {
   "cell_type": "markdown",
   "metadata": {},
   "source": [
    "In this ARIMA Captures Trend component.\n",
    "\n",
    "The behaviour of Test is different from Train. \n",
    "\n",
    "Since the forecast for the Test data is flattened\n",
    "\n",
    "From above the test is nearly 80000 but the forecast shows just 60000 hence this will be considered Under Forecast."
   ]
  },
  {
   "cell_type": "markdown",
   "metadata": {},
   "source": [
    "## finding model residuals"
   ]
  },
  {
   "cell_type": "code",
   "execution_count": 68,
   "metadata": {},
   "outputs": [],
   "source": [
    "residuals = test.Hospitalized - df_fc['Hospitalized_forecast']"
   ]
  },
  {
   "cell_type": "code",
   "execution_count": 69,
   "metadata": {},
   "outputs": [
    {
     "data": {
      "text/plain": [
       "Time_Stamp\n",
       "2020-11-07      309.383619\n",
       "2020-11-08      357.204114\n",
       "2020-11-09     1701.954384\n",
       "2020-11-10     3289.514043\n",
       "2020-11-11     5745.010881\n",
       "2020-11-12     6645.184254\n",
       "2020-11-13     7241.216572\n",
       "2020-11-14     7360.454844\n",
       "2020-11-15     7073.378773\n",
       "2020-11-16     9432.081802\n",
       "2020-11-17    12419.785953\n",
       "2020-11-18    14169.456972\n",
       "2020-11-19    14613.094040\n",
       "2020-11-20    15474.954291\n",
       "2020-11-21    15846.278091\n",
       "2020-11-22    15742.352298\n",
       "2020-11-23    17224.819341\n",
       "2020-11-24    18799.733905\n",
       "2020-11-25    20043.917685\n",
       "2020-11-26    19964.674312\n",
       "2020-11-27    18779.830730\n",
       "2020-11-28    20040.913280\n",
       "2020-11-29    21089.393630\n",
       "2020-11-30    23337.667967\n",
       "2020-12-01    25434.380929\n",
       "2020-12-02    26466.709549\n",
       "2020-12-03    26401.598656\n",
       "2020-12-04    26431.498225\n",
       "2020-12-05    25859.292145\n",
       "2020-12-06    25678.665622\n",
       "dtype: float64"
      ]
     },
     "execution_count": 69,
     "metadata": {},
     "output_type": "execute_result"
    }
   ],
   "source": [
    "residuals"
   ]
  },
  {
   "cell_type": "code",
   "execution_count": 70,
   "metadata": {},
   "outputs": [
    {
     "data": {
      "image/png": "[encoded data removed]",
      "text/plain": [
       "<Figure size 720x432 with 1 Axes>"
      ]
     },
     "metadata": {
      "needs_background": "light"
     },
     "output_type": "display_data"
    }
   ],
   "source": [
    "qqplot(residuals,line=\"s\");"
   ]
  },
  {
   "cell_type": "code",
   "execution_count": 71,
   "metadata": {},
   "outputs": [
    {
     "ename": "AttributeError",
     "evalue": "module 'seaborn' has no attribute 'displot'",
     "output_type": "error",
     "traceback": [
      "\u001b[1;31m---------------------------------------------------------------------------\u001b[0m",
      "\u001b[1;31mAttributeError\u001b[0m                            Traceback (most recent call last)",
      "\u001b[1;32m<ipython-input-71-c767cd8d131b>\u001b[0m in \u001b[0;36m<module>\u001b[1;34m\u001b[0m\n\u001b[1;32m----> 1\u001b[1;33m \u001b[0msns\u001b[0m\u001b[1;33m.\u001b[0m\u001b[0mdisplot\u001b[0m\u001b[1;33m(\u001b[0m\u001b[0mresiduals\u001b[0m\u001b[1;33m,\u001b[0m\u001b[0mbins\u001b[0m\u001b[1;33m=\u001b[0m\u001b[1;36m6\u001b[0m\u001b[1;33m)\u001b[0m\u001b[1;33m\u001b[0m\u001b[1;33m\u001b[0m\u001b[0m\n\u001b[0m",
      "\u001b[1;31mAttributeError\u001b[0m: module 'seaborn' has no attribute 'displot'"
     ]
    }
   ],
   "source": [
    "sns.displot(residuals,bins=6)"
   ]
  },
  {
   "cell_type": "code",
   "execution_count": 72,
   "metadata": {},
   "outputs": [
    {
     "data": {
      "image/png": "[encoded data removed]",
      "text/plain": [
       "<Figure size 720x432 with 1 Axes>"
      ]
     },
     "metadata": {
      "needs_background": "light"
     },
     "output_type": "display_data"
    }
   ],
   "source": [
    "plot_acf(residuals);"
   ]
  },
  {
   "cell_type": "markdown",
   "metadata": {},
   "source": [
    "### distribution of residual plot confirms that model does not fit well with the seasonality series"
   ]
  },
  {
   "cell_type": "markdown",
   "metadata": {},
   "source": [
    "## Calculating RSME and MAPE "
   ]
  },
  {
   "cell_type": "code",
   "execution_count": 73,
   "metadata": {},
   "outputs": [
    {
     "name": "stdout",
     "output_type": "stream",
     "text": [
      "17232.76041754542\n"
     ]
    }
   ],
   "source": [
    "from math import sqrt\n",
    "from sklearn.metrics import  mean_squared_error\n",
    "rmse = sqrt(mean_squared_error(test.Hospitalized,df_fc['Hospitalized_forecast']))\n",
    "print(rmse)"
   ]
  },
  {
   "cell_type": "code",
   "execution_count": 74,
   "metadata": {},
   "outputs": [],
   "source": [
    "def MAPE(y_true, y_pred):\n",
    "    return np.mean((np.abs(y_true-y_pred))/(y_true))*100"
   ]
  },
  {
   "cell_type": "code",
   "execution_count": 75,
   "metadata": {},
   "outputs": [
    {
     "name": "stdout",
     "output_type": "stream",
     "text": [
      "17.04045015827317\n"
     ]
    }
   ],
   "source": [
    "mape = MAPE(test['Hospitalized'].values,df_fc['Hospitalized_forecast'].values)\n",
    "print(mape)"
   ]
  },
  {
   "cell_type": "markdown",
   "metadata": {},
   "source": [
    "## creating new dataframe for storing the results"
   ]
  },
  {
   "cell_type": "code",
   "execution_count": 77,
   "metadata": {},
   "outputs": [
    {
     "data": {
      "text/html": [
       "<div>\n",
       "<style scoped>\n",
       "    .dataframe tbody tr th:only-of-type {\n",
       "        vertical-align: middle;\n",
       "    }\n",
       "\n",
       "    .dataframe tbody tr th {\n",
       "        vertical-align: top;\n",
       "    }\n",
       "\n",
       "    .dataframe thead th {\n",
       "        text-align: right;\n",
       "    }\n",
       "</style>\n",
       "<table border=\"1\" class=\"dataframe\">\n",
       "  <thead>\n",
       "    <tr style=\"text-align: right;\">\n",
       "      <th></th>\n",
       "      <th>Test RMSE</th>\n",
       "      <th>Test MAPE</th>\n",
       "    </tr>\n",
       "  </thead>\n",
       "  <tbody>\n",
       "    <tr>\n",
       "      <th>ARIMA(3,1,3)</th>\n",
       "      <td>17232.760418</td>\n",
       "      <td>17.04045</td>\n",
       "    </tr>\n",
       "  </tbody>\n",
       "</table>\n",
       "</div>"
      ],
      "text/plain": [
       "                 Test RMSE  Test MAPE\n",
       "ARIMA(3,1,3)  17232.760418   17.04045"
      ]
     },
     "execution_count": 77,
     "metadata": {},
     "output_type": "execute_result"
    }
   ],
   "source": [
    "resultsDf = pd.DataFrame({'Test RMSE': rmse,'Test MAPE':mape}\n",
    "                           ,index=['ARIMA(3,1,3)'])\n",
    "\n",
    "resultsDf"
   ]
  },
  {
   "cell_type": "markdown",
   "metadata": {},
   "source": [
    "## Now to include seasonality, we will use SARIMA model"
   ]
  },
  {
   "cell_type": "markdown",
   "metadata": {},
   "source": [
    "## we will find the model parameters based on AIC criteria. Parameters will be  generated using combination for the given range."
   ]
  },
  {
   "cell_type": "code",
   "execution_count": 78,
   "metadata": {},
   "outputs": [
    {
     "name": "stdout",
     "output_type": "stream",
     "text": [
      "Examples of parameter combinations for Model...\n",
      "Model: (0, 0, 1)(0, 0, 1, 7)\n",
      "Model: (0, 0, 1)(0, 0, 2, 7)\n",
      "Model: (0, 0, 2)(0, 0, 3, 7)\n",
      "Model: (0, 0, 2)(0, 1, 0, 7)\n"
     ]
    }
   ],
   "source": [
    "import itertools\n",
    "p = q = range(0, 4)\n",
    "d= range(0,2)\n",
    "pdq = list(itertools.product(p, d, q))\n",
    "\n",
    "model_pdq = [(x[0], x[1], x[2], 7) for x in list(itertools.product(p, d, q))]\n",
    "print('Examples of parameter combinations for Model...')\n",
    "print('Model: {}{}'.format(pdq[1], model_pdq[1]))\n",
    "print('Model: {}{}'.format(pdq[1], model_pdq[2]))\n",
    "print('Model: {}{}'.format(pdq[2], model_pdq[3]))\n",
    "print('Model: {}{}'.format(pdq[2], model_pdq[4]))"
   ]
  },
  {
   "cell_type": "markdown",
   "metadata": {},
   "source": [
    "## Creating an empty Dataframe with column names only where the model and AIC scores will be saved"
   ]
  },
  {
   "cell_type": "code",
   "execution_count": 79,
   "metadata": {},
   "outputs": [
    {
     "data": {
      "text/html": [
       "<div>\n",
       "<style scoped>\n",
       "    .dataframe tbody tr th:only-of-type {\n",
       "        vertical-align: middle;\n",
       "    }\n",
       "\n",
       "    .dataframe tbody tr th {\n",
       "        vertical-align: top;\n",
       "    }\n",
       "\n",
       "    .dataframe thead th {\n",
       "        text-align: right;\n",
       "    }\n",
       "</style>\n",
       "<table border=\"1\" class=\"dataframe\">\n",
       "  <thead>\n",
       "    <tr style=\"text-align: right;\">\n",
       "      <th></th>\n",
       "      <th>param</th>\n",
       "      <th>seasonal</th>\n",
       "      <th>AIC</th>\n",
       "    </tr>\n",
       "  </thead>\n",
       "  <tbody>\n",
       "  </tbody>\n",
       "</table>\n",
       "</div>"
      ],
      "text/plain": [
       "Empty DataFrame\n",
       "Columns: [param, seasonal, AIC]\n",
       "Index: []"
      ]
     },
     "execution_count": 79,
     "metadata": {},
     "output_type": "execute_result"
    }
   ],
   "source": [
    "dfObj2 = pd.DataFrame(columns=['param','seasonal', 'AIC'])\n",
    "dfObj2"
   ]
  },
  {
   "cell_type": "markdown",
   "metadata": {},
   "source": [
    "## model parameter selection using hypertuning"
   ]
  },
  {
   "cell_type": "code",
   "execution_count": 80,
   "metadata": {
    "scrolled": false
   },
   "outputs": [
    {
     "name": "stdout",
     "output_type": "stream",
     "text": [
      "SARIMA(0, 0, 0)x(0, 0, 0, 7)7 - AIC:5648.332882628767\n",
      "SARIMA(0, 0, 0)x(0, 0, 1, 7)7 - AIC:5329.355924738477\n",
      "SARIMA(0, 0, 0)x(0, 0, 2, 7)7 - AIC:5115.053922132147\n",
      "SARIMA(0, 0, 0)x(0, 0, 3, 7)7 - AIC:4934.120728925338\n",
      "SARIMA(0, 0, 0)x(0, 1, 0, 7)7 - AIC:4680.257455970985\n",
      "SARIMA(0, 0, 0)x(0, 1, 1, 7)7 - AIC:4461.06443246171\n",
      "SARIMA(0, 0, 0)x(0, 1, 2, 7)7 - AIC:4318.236654607667\n",
      "SARIMA(0, 0, 0)x(0, 1, 3, 7)7 - AIC:3942.8320661846683\n",
      "SARIMA(0, 0, 0)x(1, 0, 0, 7)7 - AIC:4701.52192186462\n",
      "SARIMA(0, 0, 0)x(1, 0, 1, 7)7 - AIC:4720.920611046692\n",
      "SARIMA(0, 0, 0)x(1, 0, 2, 7)7 - AIC:4286.839422252497\n",
      "SARIMA(0, 0, 0)x(1, 0, 3, 7)7 - AIC:4295.099961686247\n",
      "SARIMA(0, 0, 0)x(1, 1, 0, 7)7 - AIC:4377.198345433431\n",
      "SARIMA(0, 0, 0)x(1, 1, 1, 7)7 - AIC:4336.6448075317985\n",
      "SARIMA(0, 0, 0)x(1, 1, 2, 7)7 - AIC:4156.795793351504\n",
      "SARIMA(0, 0, 0)x(1, 1, 3, 7)7 - AIC:3913.0428056526466\n",
      "SARIMA(0, 0, 0)x(2, 0, 0, 7)7 - AIC:4374.716096873708\n",
      "SARIMA(0, 0, 0)x(2, 0, 1, 7)7 - AIC:4363.917302887574\n",
      "SARIMA(0, 0, 0)x(2, 0, 2, 7)7 - AIC:4444.328780427068\n",
      "SARIMA(0, 0, 0)x(2, 0, 3, 7)7 - AIC:4158.292920256944\n",
      "SARIMA(0, 0, 0)x(2, 1, 0, 7)7 - AIC:4188.42356340505\n",
      "SARIMA(0, 0, 0)x(2, 1, 1, 7)7 - AIC:4170.697310348474\n",
      "SARIMA(0, 0, 0)x(2, 1, 2, 7)7 - AIC:4170.790354741787\n",
      "SARIMA(0, 0, 0)x(2, 1, 3, 7)7 - AIC:3876.200262635555\n",
      "SARIMA(0, 0, 0)x(3, 0, 0, 7)7 - AIC:4188.811144700262\n",
      "SARIMA(0, 0, 0)x(3, 0, 1, 7)7 - AIC:4204.245218784834\n",
      "SARIMA(0, 0, 0)x(3, 0, 2, 7)7 - AIC:4190.937352937763\n",
      "SARIMA(0, 0, 0)x(3, 0, 3, 7)7 - AIC:4160.977437890946\n",
      "SARIMA(0, 0, 0)x(3, 1, 0, 7)7 - AIC:3946.203451777753\n",
      "SARIMA(0, 0, 0)x(3, 1, 1, 7)7 - AIC:3960.2402192582467\n",
      "SARIMA(0, 0, 0)x(3, 1, 2, 7)7 - AIC:3902.9690452505583\n",
      "SARIMA(0, 0, 0)x(3, 1, 3, 7)7 - AIC:3879.7258467647866\n",
      "SARIMA(0, 0, 1)x(0, 0, 0, 7)7 - AIC:5455.686974071577\n",
      "SARIMA(0, 0, 1)x(0, 0, 1, 7)7 - AIC:5256.025552322346\n",
      "SARIMA(0, 0, 1)x(0, 0, 2, 7)7 - AIC:5084.160847726886\n",
      "SARIMA(0, 0, 1)x(0, 0, 3, 7)7 - AIC:4919.977648278723\n",
      "SARIMA(0, 0, 1)x(0, 1, 0, 7)7 - AIC:4403.639574502304\n",
      "SARIMA(0, 0, 1)x(0, 1, 1, 7)7 - AIC:4170.1318353761835\n",
      "SARIMA(0, 0, 1)x(0, 1, 2, 7)7 - AIC:4470.5566655028615\n",
      "SARIMA(0, 0, 1)x(0, 1, 3, 7)7 - AIC:3749.9137414848874\n",
      "SARIMA(0, 0, 1)x(1, 0, 0, 7)7 - AIC:5284.4095880724035\n",
      "SARIMA(0, 0, 1)x(1, 0, 1, 7)7 - AIC:5239.482293902527\n",
      "SARIMA(0, 0, 1)x(1, 0, 2, 7)7 - AIC:4581.288626368749\n",
      "SARIMA(0, 0, 1)x(1, 0, 3, 7)7 - AIC:4885.072111182125\n",
      "SARIMA(0, 0, 1)x(1, 1, 0, 7)7 - AIC:4173.93059738646\n",
      "SARIMA(0, 0, 1)x(1, 1, 1, 7)7 - AIC:4124.0946284076\n",
      "SARIMA(0, 0, 1)x(1, 1, 2, 7)7 - AIC:3945.5385611591046\n",
      "SARIMA(0, 0, 1)x(1, 1, 3, 7)7 - AIC:3730.1039106983135\n",
      "SARIMA(0, 0, 1)x(2, 0, 0, 7)7 - AIC:5123.407481041073\n",
      "SARIMA(0, 0, 1)x(2, 0, 1, 7)7 - AIC:5125.388572388151\n",
      "SARIMA(0, 0, 1)x(2, 0, 2, 7)7 - AIC:4695.951228803011\n",
      "SARIMA(0, 0, 1)x(2, 0, 3, 7)7 - AIC:4920.811971579615\n",
      "SARIMA(0, 0, 1)x(2, 1, 0, 7)7 - AIC:4011.302898000508\n",
      "SARIMA(0, 0, 1)x(2, 1, 1, 7)7 - AIC:4229.735635992221\n",
      "SARIMA(0, 0, 1)x(2, 1, 2, 7)7 - AIC:3942.9069070436617\n",
      "SARIMA(0, 0, 1)x(2, 1, 3, 7)7 - AIC:4041.452684778994\n",
      "SARIMA(0, 0, 1)x(3, 0, 0, 7)7 - AIC:4963.234126074381\n",
      "SARIMA(0, 0, 1)x(3, 0, 1, 7)7 - AIC:4965.118893261389\n",
      "SARIMA(0, 0, 1)x(3, 0, 2, 7)7 - AIC:4967.176750286229\n",
      "SARIMA(0, 0, 1)x(3, 0, 3, 7)7 - AIC:4922.744029303083\n",
      "SARIMA(0, 0, 1)x(3, 1, 0, 7)7 - AIC:3772.2700446939452\n",
      "SARIMA(0, 0, 1)x(3, 1, 1, 7)7 - AIC:3979.908582529123\n",
      "SARIMA(0, 0, 1)x(3, 1, 2, 7)7 - AIC:4081.8815332650165\n",
      "SARIMA(0, 0, 1)x(3, 1, 3, 7)7 - AIC:4041.6255700152315\n",
      "SARIMA(0, 0, 2)x(0, 0, 0, 7)7 - AIC:5397.630820112529\n",
      "SARIMA(0, 0, 2)x(0, 0, 1, 7)7 - AIC:5226.892640385999\n",
      "SARIMA(0, 0, 2)x(0, 0, 2, 7)7 - AIC:5060.854816819787\n",
      "SARIMA(0, 0, 2)x(0, 0, 3, 7)7 - AIC:4899.5940158727335\n",
      "SARIMA(0, 0, 2)x(0, 1, 0, 7)7 - AIC:4424.088643638155\n",
      "SARIMA(0, 0, 2)x(0, 1, 1, 7)7 - AIC:4351.174159780224\n",
      "SARIMA(0, 0, 2)x(0, 1, 2, 7)7 - AIC:4385.053239263354\n",
      "SARIMA(0, 0, 2)x(0, 1, 3, 7)7 - AIC:3560.654140531073\n",
      "SARIMA(0, 0, 2)x(1, 0, 0, 7)7 - AIC:4269.019332614489\n",
      "SARIMA(0, 0, 2)x(1, 0, 1, 7)7 - AIC:4158.292550966647\n",
      "SARIMA(0, 0, 2)x(1, 0, 2, 7)7 - AIC:4993.332014205665\n",
      "SARIMA(0, 0, 2)x(1, 0, 3, 7)7 - AIC:4896.133145859431\n",
      "SARIMA(0, 0, 2)x(1, 1, 0, 7)7 - AIC:4028.8761053932776\n",
      "SARIMA(0, 0, 2)x(1, 1, 1, 7)7 - AIC:3978.7133826427576\n",
      "SARIMA(0, 0, 2)x(1, 1, 2, 7)7 - AIC:3744.367260676374\n",
      "SARIMA(0, 0, 2)x(1, 1, 3, 7)7 - AIC:3633.0720711700155\n",
      "SARIMA(0, 0, 2)x(2, 0, 0, 7)7 - AIC:4066.5917796464105\n",
      "SARIMA(0, 0, 2)x(2, 0, 1, 7)7 - AIC:5111.578474944874\n",
      "SARIMA(0, 0, 2)x(2, 0, 2, 7)7 - AIC:4988.461410260208\n",
      "SARIMA(0, 0, 2)x(2, 0, 3, 7)7 - AIC:4901.164904952149\n",
      "SARIMA(0, 0, 2)x(2, 1, 0, 7)7 - AIC:3877.2758915333266\n",
      "SARIMA(0, 0, 2)x(2, 1, 1, 7)7 - AIC:4124.033176454602\n",
      "SARIMA(0, 0, 2)x(2, 1, 2, 7)7 - AIC:4126.496903073167\n",
      "SARIMA(0, 0, 2)x(2, 1, 3, 7)7 - AIC:3992.73628794336\n",
      "SARIMA(0, 0, 2)x(3, 0, 0, 7)7 - AIC:4968.204079890178\n",
      "SARIMA(0, 0, 2)x(3, 0, 1, 7)7 - AIC:4952.383835433082\n",
      "SARIMA(0, 0, 2)x(3, 0, 2, 7)7 - AIC:4971.414915601936\n",
      "SARIMA(0, 0, 2)x(3, 0, 3, 7)7 - AIC:4904.570512648549\n",
      "SARIMA(0, 0, 2)x(3, 1, 0, 7)7 - AIC:3619.113327845249\n",
      "SARIMA(0, 0, 2)x(3, 1, 1, 7)7 - AIC:3620.19616661091\n",
      "SARIMA(0, 0, 2)x(3, 1, 2, 7)7 - AIC:4061.294562247612\n",
      "SARIMA(0, 0, 2)x(3, 1, 3, 7)7 - AIC:4003.2821124495276\n",
      "SARIMA(0, 0, 3)x(0, 0, 0, 7)7 - AIC:5368.0588709513595\n",
      "SARIMA(0, 0, 3)x(0, 0, 1, 7)7 - AIC:5204.323339462267\n",
      "SARIMA(0, 0, 3)x(0, 0, 2, 7)7 - AIC:5042.297666754743\n",
      "SARIMA(0, 0, 3)x(0, 0, 3, 7)7 - AIC:4881.756875212479\n",
      "SARIMA(0, 0, 3)x(0, 1, 0, 7)7 - AIC:4022.357321142288\n",
      "SARIMA(0, 0, 3)x(0, 1, 1, 7)7 - AIC:3832.3182716715337\n",
      "SARIMA(0, 0, 3)x(0, 1, 2, 7)7 - AIC:3580.045147826988\n",
      "SARIMA(0, 0, 3)x(0, 1, 3, 7)7 - AIC:3730.2131118726315\n",
      "SARIMA(0, 0, 3)x(1, 0, 0, 7)7 - AIC:5106.193950956325\n",
      "SARIMA(0, 0, 3)x(1, 0, 1, 7)7 - AIC:5200.853070177444\n",
      "SARIMA(0, 0, 3)x(1, 0, 2, 7)7 - AIC:4951.243160143336\n",
      "SARIMA(0, 0, 3)x(1, 0, 3, 7)7 - AIC:4873.57894324715\n",
      "SARIMA(0, 0, 3)x(1, 1, 0, 7)7 - AIC:3876.1659148650742\n",
      "SARIMA(0, 0, 3)x(1, 1, 1, 7)7 - AIC:3804.7395371098937\n",
      "SARIMA(0, 0, 3)x(1, 1, 2, 7)7 - AIC:4059.523098269347\n",
      "SARIMA(0, 0, 3)x(1, 1, 3, 7)7 - AIC:3920.6618342029474\n",
      "SARIMA(0, 0, 3)x(2, 0, 0, 7)7 - AIC:5084.485064324295\n",
      "SARIMA(0, 0, 3)x(2, 0, 1, 7)7 - AIC:5133.520480773456\n",
      "SARIMA(0, 0, 3)x(2, 0, 2, 7)7 - AIC:5011.271099715919\n",
      "SARIMA(0, 0, 3)x(2, 0, 3, 7)7 - AIC:4881.21284469377\n",
      "SARIMA(0, 0, 3)x(2, 1, 0, 7)7 - AIC:3732.5712359095814\n",
      "SARIMA(0, 0, 3)x(2, 1, 1, 7)7 - AIC:3872.9381084855604\n",
      "SARIMA(0, 0, 3)x(2, 1, 2, 7)7 - AIC:4023.609142226832\n",
      "SARIMA(0, 0, 3)x(2, 1, 3, 7)7 - AIC:3947.7107490510884\n",
      "SARIMA(0, 0, 3)x(3, 0, 0, 7)7 - AIC:4973.520797489282\n",
      "SARIMA(0, 0, 3)x(3, 0, 1, 7)7 - AIC:4970.920673628845\n",
      "SARIMA(0, 0, 3)x(3, 0, 2, 7)7 - AIC:4977.347586551668\n",
      "SARIMA(0, 0, 3)x(3, 0, 3, 7)7 - AIC:4886.619808330926\n",
      "SARIMA(0, 0, 3)x(3, 1, 0, 7)7 - AIC:3510.72127582367\n",
      "SARIMA(0, 0, 3)x(3, 1, 1, 7)7 - AIC:3692.3957430834444\n",
      "SARIMA(0, 0, 3)x(3, 1, 2, 7)7 - AIC:3970.029884257032\n",
      "SARIMA(0, 0, 3)x(3, 1, 3, 7)7 - AIC:3958.199841710678\n",
      "SARIMA(0, 1, 0)x(0, 0, 0, 7)7 - AIC:3999.9926692527033\n",
      "SARIMA(0, 1, 0)x(0, 0, 1, 7)7 - AIC:3815.446740045162\n",
      "SARIMA(0, 1, 0)x(0, 0, 2, 7)7 - AIC:3646.515184364392\n",
      "SARIMA(0, 1, 0)x(0, 0, 3, 7)7 - AIC:3449.1335826380946\n",
      "SARIMA(0, 1, 0)x(0, 1, 0, 7)7 - AIC:3822.7494164801446\n",
      "SARIMA(0, 1, 0)x(0, 1, 1, 7)7 - AIC:3683.036460385986\n",
      "SARIMA(0, 1, 0)x(0, 1, 2, 7)7 - AIC:3527.516937810393\n",
      "SARIMA(0, 1, 0)x(0, 1, 3, 7)7 - AIC:3371.4391723561184\n",
      "SARIMA(0, 1, 0)x(1, 0, 0, 7)7 - AIC:3795.657139270557\n",
      "SARIMA(0, 1, 0)x(1, 0, 1, 7)7 - AIC:3780.513205928817\n",
      "SARIMA(0, 1, 0)x(1, 0, 2, 7)7 - AIC:3646.211549879169\n",
      "SARIMA(0, 1, 0)x(1, 0, 3, 7)7 - AIC:3444.243612225956\n",
      "SARIMA(0, 1, 0)x(1, 1, 0, 7)7 - AIC:3703.027449095636\n",
      "SARIMA(0, 1, 0)x(1, 1, 1, 7)7 - AIC:3668.276615080105\n",
      "SARIMA(0, 1, 0)x(1, 1, 2, 7)7 - AIC:3514.4569314108944\n",
      "SARIMA(0, 1, 0)x(1, 1, 3, 7)7 - AIC:3366.4576774047646\n",
      "SARIMA(0, 1, 0)x(2, 0, 0, 7)7 - AIC:3664.455509703422\n",
      "SARIMA(0, 1, 0)x(2, 0, 1, 7)7 - AIC:3653.783207976341\n",
      "SARIMA(0, 1, 0)x(2, 0, 2, 7)7 - AIC:3606.4692921487745\n",
      "SARIMA(0, 1, 0)x(2, 0, 3, 7)7 - AIC:3436.925009581305\n",
      "SARIMA(0, 1, 0)x(2, 1, 0, 7)7 - AIC:3544.5782886099223\n",
      "SARIMA(0, 1, 0)x(2, 1, 1, 7)7 - AIC:3545.142076262816\n",
      "SARIMA(0, 1, 0)x(2, 1, 2, 7)7 - AIC:3524.1504539337902\n",
      "SARIMA(0, 1, 0)x(2, 1, 3, 7)7 - AIC:3332.342503421989\n"
     ]
    },
    {
     "name": "stdout",
     "output_type": "stream",
     "text": [
      "SARIMA(0, 1, 0)x(3, 0, 0, 7)7 - AIC:3459.4912695956073\n",
      "SARIMA(0, 1, 0)x(3, 0, 1, 7)7 - AIC:3461.472230589201\n",
      "SARIMA(0, 1, 0)x(3, 0, 2, 7)7 - AIC:3450.9646828964005\n",
      "SARIMA(0, 1, 0)x(3, 0, 3, 7)7 - AIC:3435.4842616526767\n",
      "SARIMA(0, 1, 0)x(3, 1, 0, 7)7 - AIC:3384.5477200828927\n",
      "SARIMA(0, 1, 0)x(3, 1, 1, 7)7 - AIC:3369.9653123003372\n",
      "SARIMA(0, 1, 0)x(3, 1, 2, 7)7 - AIC:3362.795159070214\n",
      "SARIMA(0, 1, 0)x(3, 1, 3, 7)7 - AIC:3348.0772063151544\n",
      "SARIMA(0, 1, 1)x(0, 0, 0, 7)7 - AIC:3910.4415322598707\n",
      "SARIMA(0, 1, 1)x(0, 0, 1, 7)7 - AIC:3755.8553045739773\n",
      "SARIMA(0, 1, 1)x(0, 0, 2, 7)7 - AIC:3597.5403389699786\n",
      "SARIMA(0, 1, 1)x(0, 0, 3, 7)7 - AIC:3374.9007763831833\n",
      "SARIMA(0, 1, 1)x(0, 1, 0, 7)7 - AIC:3784.93121953064\n",
      "SARIMA(0, 1, 1)x(0, 1, 1, 7)7 - AIC:3637.7118560623567\n",
      "SARIMA(0, 1, 1)x(0, 1, 2, 7)7 - AIC:3456.8744402645607\n",
      "SARIMA(0, 1, 1)x(0, 1, 3, 7)7 - AIC:3288.687267844857\n",
      "SARIMA(0, 1, 1)x(1, 0, 0, 7)7 - AIC:3767.0481217105043\n",
      "SARIMA(0, 1, 1)x(1, 0, 1, 7)7 - AIC:3728.1918488102783\n",
      "SARIMA(0, 1, 1)x(1, 0, 2, 7)7 - AIC:3589.2247915159414\n",
      "SARIMA(0, 1, 1)x(1, 0, 3, 7)7 - AIC:3363.914436281147\n",
      "SARIMA(0, 1, 1)x(1, 1, 0, 7)7 - AIC:3675.725724755424\n",
      "SARIMA(0, 1, 1)x(1, 1, 1, 7)7 - AIC:3622.5598291008787\n",
      "SARIMA(0, 1, 1)x(1, 1, 2, 7)7 - AIC:3444.626477014844\n",
      "SARIMA(0, 1, 1)x(1, 1, 3, 7)7 - AIC:3287.898306825903\n",
      "SARIMA(0, 1, 1)x(2, 0, 0, 7)7 - AIC:3638.22828096777\n",
      "SARIMA(0, 1, 1)x(2, 0, 1, 7)7 - AIC:3621.8810464179596\n",
      "SARIMA(0, 1, 1)x(2, 0, 2, 7)7 - AIC:3567.3488228427304\n",
      "SARIMA(0, 1, 1)x(2, 0, 3, 7)7 - AIC:3358.4676234296576\n",
      "SARIMA(0, 1, 1)x(2, 1, 0, 7)7 - AIC:3517.495974556744\n",
      "SARIMA(0, 1, 1)x(2, 1, 1, 7)7 - AIC:3512.742926526942\n",
      "SARIMA(0, 1, 1)x(2, 1, 2, 7)7 - AIC:3430.033204367881\n",
      "SARIMA(0, 1, 1)x(2, 1, 3, 7)7 - AIC:3258.7324890263303\n",
      "SARIMA(0, 1, 1)x(3, 0, 0, 7)7 - AIC:3440.981919273846\n",
      "SARIMA(0, 1, 1)x(3, 0, 1, 7)7 - AIC:3436.7141911508425\n",
      "SARIMA(0, 1, 1)x(3, 0, 2, 7)7 - AIC:3431.9970315859864\n",
      "SARIMA(0, 1, 1)x(3, 0, 3, 7)7 - AIC:3364.7323735568316\n",
      "SARIMA(0, 1, 1)x(3, 1, 0, 7)7 - AIC:3354.0677951683138\n",
      "SARIMA(0, 1, 1)x(3, 1, 1, 7)7 - AIC:3351.739602533352\n",
      "SARIMA(0, 1, 1)x(3, 1, 2, 7)7 - AIC:3340.6502128166394\n",
      "SARIMA(0, 1, 1)x(3, 1, 3, 7)7 - AIC:3284.5954978787054\n",
      "SARIMA(0, 1, 2)x(0, 0, 0, 7)7 - AIC:3852.43198949423\n",
      "SARIMA(0, 1, 2)x(0, 0, 1, 7)7 - AIC:3688.883118507773\n",
      "SARIMA(0, 1, 2)x(0, 0, 2, 7)7 - AIC:3533.604836812443\n",
      "SARIMA(0, 1, 2)x(0, 0, 3, 7)7 - AIC:3322.202800125964\n",
      "SARIMA(0, 1, 2)x(0, 1, 0, 7)7 - AIC:3711.3825231279975\n",
      "SARIMA(0, 1, 2)x(0, 1, 1, 7)7 - AIC:3569.8605344964362\n",
      "SARIMA(0, 1, 2)x(0, 1, 2, 7)7 - AIC:3372.691136162691\n",
      "SARIMA(0, 1, 2)x(0, 1, 3, 7)7 - AIC:3220.0558589304005\n",
      "SARIMA(0, 1, 2)x(1, 0, 0, 7)7 - AIC:3717.8819231213356\n",
      "SARIMA(0, 1, 2)x(1, 0, 1, 7)7 - AIC:3658.6273320393298\n",
      "SARIMA(0, 1, 2)x(1, 0, 2, 7)7 - AIC:3535.9566406898375\n",
      "SARIMA(0, 1, 2)x(1, 0, 3, 7)7 - AIC:3314.5648575670502\n",
      "SARIMA(0, 1, 2)x(1, 1, 0, 7)7 - AIC:3623.537953318939\n",
      "SARIMA(0, 1, 2)x(1, 1, 1, 7)7 - AIC:3555.3029958055586\n",
      "SARIMA(0, 1, 2)x(1, 1, 2, 7)7 - AIC:3360.610857650447\n",
      "SARIMA(0, 1, 2)x(1, 1, 3, 7)7 - AIC:3222.055762059166\n",
      "SARIMA(0, 1, 2)x(2, 0, 0, 7)7 - AIC:3591.5082782000823\n",
      "SARIMA(0, 1, 2)x(2, 0, 1, 7)7 - AIC:3573.5806132292173\n",
      "SARIMA(0, 1, 2)x(2, 0, 2, 7)7 - AIC:3509.4412064957314\n",
      "SARIMA(0, 1, 2)x(2, 0, 3, 7)7 - AIC:3316.091020596837\n",
      "SARIMA(0, 1, 2)x(2, 1, 0, 7)7 - AIC:3446.5993586908708\n",
      "SARIMA(0, 1, 2)x(2, 1, 1, 7)7 - AIC:3440.5583437826917\n",
      "SARIMA(0, 1, 2)x(2, 1, 2, 7)7 - AIC:3343.912046433228\n",
      "SARIMA(0, 1, 2)x(2, 1, 3, 7)7 - AIC:3208.897926476531\n",
      "SARIMA(0, 1, 2)x(3, 0, 0, 7)7 - AIC:3382.9785251820686\n",
      "SARIMA(0, 1, 2)x(3, 0, 1, 7)7 - AIC:3382.687677500603\n",
      "SARIMA(0, 1, 2)x(3, 0, 2, 7)7 - AIC:3383.967877299855\n",
      "SARIMA(0, 1, 2)x(3, 0, 3, 7)7 - AIC:3313.0800679988324\n",
      "SARIMA(0, 1, 2)x(3, 1, 0, 7)7 - AIC:3297.1714746773764\n",
      "SARIMA(0, 1, 2)x(3, 1, 1, 7)7 - AIC:3294.4211281230464\n",
      "SARIMA(0, 1, 2)x(3, 1, 2, 7)7 - AIC:3293.665588089354\n",
      "SARIMA(0, 1, 2)x(3, 1, 3, 7)7 - AIC:3200.393601252016\n",
      "SARIMA(0, 1, 3)x(0, 0, 0, 7)7 - AIC:3805.9901466866677\n",
      "SARIMA(0, 1, 3)x(0, 0, 1, 7)7 - AIC:3655.8431082898915\n",
      "SARIMA(0, 1, 3)x(0, 0, 2, 7)7 - AIC:3502.621642682126\n",
      "SARIMA(0, 1, 3)x(0, 0, 3, 7)7 - AIC:3308.01540898603\n",
      "SARIMA(0, 1, 3)x(0, 1, 0, 7)7 - AIC:3694.6697398111974\n",
      "SARIMA(0, 1, 3)x(0, 1, 1, 7)7 - AIC:3520.5132745213186\n",
      "SARIMA(0, 1, 3)x(0, 1, 2, 7)7 - AIC:3347.3820125001175\n",
      "SARIMA(0, 1, 3)x(0, 1, 3, 7)7 - AIC:3201.475044860572\n",
      "SARIMA(0, 1, 3)x(1, 0, 0, 7)7 - AIC:3708.326064423276\n",
      "SARIMA(0, 1, 3)x(1, 0, 1, 7)7 - AIC:3630.265162741425\n",
      "SARIMA(0, 1, 3)x(1, 0, 2, 7)7 - AIC:3490.971555662305\n",
      "SARIMA(0, 1, 3)x(1, 0, 3, 7)7 - AIC:3300.479258005558\n",
      "SARIMA(0, 1, 3)x(1, 1, 0, 7)7 - AIC:3615.3964648323745\n",
      "SARIMA(0, 1, 3)x(1, 1, 1, 7)7 - AIC:3510.247993077446\n",
      "SARIMA(0, 1, 3)x(1, 1, 2, 7)7 - AIC:3341.326104956862\n",
      "SARIMA(0, 1, 3)x(1, 1, 3, 7)7 - AIC:3200.548827205932\n",
      "SARIMA(0, 1, 3)x(2, 0, 0, 7)7 - AIC:3579.586605849161\n",
      "SARIMA(0, 1, 3)x(2, 0, 1, 7)7 - AIC:3569.946276498479\n",
      "SARIMA(0, 1, 3)x(2, 0, 2, 7)7 - AIC:3467.7768833963746\n",
      "SARIMA(0, 1, 3)x(2, 0, 3, 7)7 - AIC:3312.8931851803245\n",
      "SARIMA(0, 1, 3)x(2, 1, 0, 7)7 - AIC:3444.9523784957264\n",
      "SARIMA(0, 1, 3)x(2, 1, 1, 7)7 - AIC:3435.482536594611\n",
      "SARIMA(0, 1, 3)x(2, 1, 2, 7)7 - AIC:3325.6269849631\n",
      "SARIMA(0, 1, 3)x(2, 1, 3, 7)7 - AIC:3178.456501479097\n",
      "SARIMA(0, 1, 3)x(3, 0, 0, 7)7 - AIC:3384.944000668519\n",
      "SARIMA(0, 1, 3)x(3, 0, 1, 7)7 - AIC:3383.546676168332\n",
      "SARIMA(0, 1, 3)x(3, 0, 2, 7)7 - AIC:3396.0198539249964\n",
      "SARIMA(0, 1, 3)x(3, 0, 3, 7)7 - AIC:3295.82338860092\n",
      "SARIMA(0, 1, 3)x(3, 1, 0, 7)7 - AIC:3297.993597826635\n",
      "SARIMA(0, 1, 3)x(3, 1, 1, 7)7 - AIC:3294.6642673932893\n",
      "SARIMA(0, 1, 3)x(3, 1, 2, 7)7 - AIC:3294.017448429082\n",
      "SARIMA(0, 1, 3)x(3, 1, 3, 7)7 - AIC:3180.3145672199553\n",
      "SARIMA(1, 0, 0)x(0, 0, 0, 7)7 - AIC:4015.571131546206\n",
      "SARIMA(1, 0, 0)x(0, 0, 1, 7)7 - AIC:3841.4030061427234\n",
      "SARIMA(1, 0, 0)x(0, 0, 2, 7)7 - AIC:3668.1900885994\n",
      "SARIMA(1, 0, 0)x(0, 0, 3, 7)7 - AIC:3517.5079500182683\n",
      "SARIMA(1, 0, 0)x(0, 1, 0, 7)7 - AIC:3840.6658603484484\n",
      "SARIMA(1, 0, 0)x(0, 1, 1, 7)7 - AIC:3718.118276570162\n",
      "SARIMA(1, 0, 0)x(0, 1, 2, 7)7 - AIC:3536.4330532920453\n",
      "SARIMA(1, 0, 0)x(0, 1, 3, 7)7 - AIC:3374.8128908038398\n",
      "SARIMA(1, 0, 0)x(1, 0, 0, 7)7 - AIC:3816.3618934718097\n",
      "SARIMA(1, 0, 0)x(1, 0, 1, 7)7 - AIC:3798.9014725256675\n",
      "SARIMA(1, 0, 0)x(1, 0, 2, 7)7 - AIC:3690.148806770524\n",
      "SARIMA(1, 0, 0)x(1, 0, 3, 7)7 - AIC:3533.3490950536816\n",
      "SARIMA(1, 0, 0)x(1, 1, 0, 7)7 - AIC:3703.8483088142693\n",
      "SARIMA(1, 0, 0)x(1, 1, 1, 7)7 - AIC:3699.4168345134067\n",
      "SARIMA(1, 0, 0)x(1, 1, 2, 7)7 - AIC:3513.117731514732\n",
      "SARIMA(1, 0, 0)x(1, 1, 3, 7)7 - AIC:3391.304608643651\n",
      "SARIMA(1, 0, 0)x(2, 0, 0, 7)7 - AIC:3691.021688623439\n",
      "SARIMA(1, 0, 0)x(2, 0, 1, 7)7 - AIC:3687.767600036509\n",
      "SARIMA(1, 0, 0)x(2, 0, 2, 7)7 - AIC:3627.1597781572627\n",
      "SARIMA(1, 0, 0)x(2, 0, 3, 7)7 - AIC:3534.0494351466004\n",
      "SARIMA(1, 0, 0)x(2, 1, 0, 7)7 - AIC:3527.955835505748\n",
      "SARIMA(1, 0, 0)x(2, 1, 1, 7)7 - AIC:3542.419140861094\n",
      "SARIMA(1, 0, 0)x(2, 1, 2, 7)7 - AIC:3531.829558865809\n",
      "SARIMA(1, 0, 0)x(2, 1, 3, 7)7 - AIC:3362.384033190631\n",
      "SARIMA(1, 0, 0)x(3, 0, 0, 7)7 - AIC:3461.1915404252277\n",
      "SARIMA(1, 0, 0)x(3, 0, 1, 7)7 - AIC:3533.694184583257\n",
      "SARIMA(1, 0, 0)x(3, 0, 2, 7)7 - AIC:3533.67067391031\n",
      "SARIMA(1, 0, 0)x(3, 0, 3, 7)7 - AIC:3536.9497852359136\n",
      "SARIMA(1, 0, 0)x(3, 1, 0, 7)7 - AIC:3374.2053217404523\n",
      "SARIMA(1, 0, 0)x(3, 1, 1, 7)7 - AIC:3379.477385991504\n",
      "SARIMA(1, 0, 0)x(3, 1, 2, 7)7 - AIC:3354.484389242884\n",
      "SARIMA(1, 0, 0)x(3, 1, 3, 7)7 - AIC:3397.4826543356703\n",
      "SARIMA(1, 0, 1)x(0, 0, 0, 7)7 - AIC:3931.2532170529744\n",
      "SARIMA(1, 0, 1)x(0, 0, 1, 7)7 - AIC:3790.0468737702895\n",
      "SARIMA(1, 0, 1)x(0, 0, 2, 7)7 - AIC:3648.103837096703\n",
      "SARIMA(1, 0, 1)x(0, 0, 3, 7)7 - AIC:3654.5311409632523\n",
      "SARIMA(1, 0, 1)x(0, 1, 0, 7)7 - AIC:3805.3717072819823\n",
      "SARIMA(1, 0, 1)x(0, 1, 1, 7)7 - AIC:3686.6495655806248\n",
      "SARIMA(1, 0, 1)x(0, 1, 2, 7)7 - AIC:3493.0581813772146\n",
      "SARIMA(1, 0, 1)x(0, 1, 3, 7)7 - AIC:3359.7360420670116\n",
      "SARIMA(1, 0, 1)x(1, 0, 0, 7)7 - AIC:3789.479373786611\n",
      "SARIMA(1, 0, 1)x(1, 0, 1, 7)7 - AIC:3805.6267244863875\n",
      "SARIMA(1, 0, 1)x(1, 0, 2, 7)7 - AIC:3645.8529889491438\n",
      "SARIMA(1, 0, 1)x(1, 0, 3, 7)7 - AIC:3494.1681138576378\n",
      "SARIMA(1, 0, 1)x(1, 1, 0, 7)7 - AIC:3678.0870378848495\n",
      "SARIMA(1, 0, 1)x(1, 1, 1, 7)7 - AIC:3654.37475028819\n",
      "SARIMA(1, 0, 1)x(1, 1, 2, 7)7 - AIC:3471.851569953278\n"
     ]
    },
    {
     "name": "stdout",
     "output_type": "stream",
     "text": [
      "SARIMA(1, 0, 1)x(1, 1, 3, 7)7 - AIC:3351.050610841837\n",
      "SARIMA(1, 0, 1)x(2, 0, 0, 7)7 - AIC:3666.340860340162\n",
      "SARIMA(1, 0, 1)x(2, 0, 1, 7)7 - AIC:3622.554324610877\n",
      "SARIMA(1, 0, 1)x(2, 0, 2, 7)7 - AIC:3635.706344412598\n",
      "SARIMA(1, 0, 1)x(2, 0, 3, 7)7 - AIC:3496.5276724421547\n",
      "SARIMA(1, 0, 1)x(2, 1, 0, 7)7 - AIC:3501.83329626351\n",
      "SARIMA(1, 0, 1)x(2, 1, 1, 7)7 - AIC:3500.4373926452663\n",
      "SARIMA(1, 0, 1)x(2, 1, 2, 7)7 - AIC:3456.5245458380577\n",
      "SARIMA(1, 0, 1)x(2, 1, 3, 7)7 - AIC:3354.3324200969537\n",
      "SARIMA(1, 0, 1)x(3, 0, 0, 7)7 - AIC:3437.2373554863584\n",
      "SARIMA(1, 0, 1)x(3, 0, 1, 7)7 - AIC:3507.84716158062\n",
      "SARIMA(1, 0, 1)x(3, 0, 2, 7)7 - AIC:3511.867626288987\n",
      "SARIMA(1, 0, 1)x(3, 0, 3, 7)7 - AIC:3497.2106637883435\n",
      "SARIMA(1, 0, 1)x(3, 1, 0, 7)7 - AIC:3342.9415615162106\n",
      "SARIMA(1, 0, 1)x(3, 1, 1, 7)7 - AIC:3344.2895583606683\n",
      "SARIMA(1, 0, 1)x(3, 1, 2, 7)7 - AIC:3331.690442379855\n",
      "SARIMA(1, 0, 1)x(3, 1, 3, 7)7 - AIC:3349.094699428706\n",
      "SARIMA(1, 0, 2)x(0, 0, 0, 7)7 - AIC:3878.7587819032115\n",
      "SARIMA(1, 0, 2)x(0, 0, 1, 7)7 - AIC:3712.5533257673706\n",
      "SARIMA(1, 0, 2)x(0, 0, 2, 7)7 - AIC:3696.867919714222\n",
      "SARIMA(1, 0, 2)x(0, 0, 3, 7)7 - AIC:3597.595851448643\n",
      "SARIMA(1, 0, 2)x(0, 1, 0, 7)7 - AIC:3730.6820254038767\n",
      "SARIMA(1, 0, 2)x(0, 1, 1, 7)7 - AIC:3621.9053476765057\n",
      "SARIMA(1, 0, 2)x(0, 1, 2, 7)7 - AIC:3376.3267389942475\n",
      "SARIMA(1, 0, 2)x(0, 1, 3, 7)7 - AIC:3241.283617299404\n",
      "SARIMA(1, 0, 2)x(1, 0, 0, 7)7 - AIC:3720.217493049172\n",
      "SARIMA(1, 0, 2)x(1, 0, 1, 7)7 - AIC:3688.0173837041493\n",
      "SARIMA(1, 0, 2)x(1, 0, 2, 7)7 - AIC:3596.3445931393812\n",
      "SARIMA(1, 0, 2)x(1, 0, 3, 7)7 - AIC:3440.3089456481475\n",
      "SARIMA(1, 0, 2)x(1, 1, 0, 7)7 - AIC:3622.6752421853434\n",
      "SARIMA(1, 0, 2)x(1, 1, 1, 7)7 - AIC:3583.3139818897225\n",
      "SARIMA(1, 0, 2)x(1, 1, 2, 7)7 - AIC:3359.391829115235\n",
      "SARIMA(1, 0, 2)x(1, 1, 3, 7)7 - AIC:3238.3193369590317\n",
      "SARIMA(1, 0, 2)x(2, 0, 0, 7)7 - AIC:3592.4900984910273\n",
      "SARIMA(1, 0, 2)x(2, 0, 1, 7)7 - AIC:3593.582999709488\n",
      "SARIMA(1, 0, 2)x(2, 0, 2, 7)7 - AIC:3591.283503217275\n",
      "SARIMA(1, 0, 2)x(2, 0, 3, 7)7 - AIC:3441.9794741815363\n",
      "SARIMA(1, 0, 2)x(2, 1, 0, 7)7 - AIC:3428.026341146907\n",
      "SARIMA(1, 0, 2)x(2, 1, 1, 7)7 - AIC:3425.301242071597\n",
      "SARIMA(1, 0, 2)x(2, 1, 2, 7)7 - AIC:3343.106870602438\n",
      "SARIMA(1, 0, 2)x(2, 1, 3, 7)7 - AIC:3254.3503198912395\n",
      "SARIMA(1, 0, 2)x(3, 0, 0, 7)7 - AIC:3390.668675702051\n",
      "SARIMA(1, 0, 2)x(3, 0, 1, 7)7 - AIC:3482.229016258114\n",
      "SARIMA(1, 0, 2)x(3, 0, 2, 7)7 - AIC:3482.3339909930237\n",
      "SARIMA(1, 0, 2)x(3, 0, 3, 7)7 - AIC:3443.2138718575497\n",
      "SARIMA(1, 0, 2)x(3, 1, 0, 7)7 - AIC:3289.2617985447523\n",
      "SARIMA(1, 0, 2)x(3, 1, 1, 7)7 - AIC:3311.9351846237178\n",
      "SARIMA(1, 0, 2)x(3, 1, 2, 7)7 - AIC:3284.2638171430854\n",
      "SARIMA(1, 0, 2)x(3, 1, 3, 7)7 - AIC:3252.1735089627427\n",
      "SARIMA(1, 0, 3)x(0, 0, 0, 7)7 - AIC:3823.337252600122\n",
      "SARIMA(1, 0, 3)x(0, 0, 1, 7)7 - AIC:3673.218622738754\n",
      "SARIMA(1, 0, 3)x(0, 0, 2, 7)7 - AIC:3677.725735173431\n",
      "SARIMA(1, 0, 3)x(0, 0, 3, 7)7 - AIC:3585.102098241002\n",
      "SARIMA(1, 0, 3)x(0, 1, 0, 7)7 - AIC:3708.4521291667606\n",
      "SARIMA(1, 0, 3)x(0, 1, 1, 7)7 - AIC:3609.3717479681386\n",
      "SARIMA(1, 0, 3)x(0, 1, 2, 7)7 - AIC:3368.2589857187168\n",
      "SARIMA(1, 0, 3)x(0, 1, 3, 7)7 - AIC:3231.4357792877145\n",
      "SARIMA(1, 0, 3)x(1, 0, 0, 7)7 - AIC:3710.7564863024727\n",
      "SARIMA(1, 0, 3)x(1, 0, 1, 7)7 - AIC:3691.521789189853\n",
      "SARIMA(1, 0, 3)x(1, 0, 2, 7)7 - AIC:3580.6265428700963\n",
      "SARIMA(1, 0, 3)x(1, 0, 3, 7)7 - AIC:3428.5469570318173\n",
      "SARIMA(1, 0, 3)x(1, 1, 0, 7)7 - AIC:3614.2239312871698\n",
      "SARIMA(1, 0, 3)x(1, 1, 1, 7)7 - AIC:3571.881449271901\n",
      "SARIMA(1, 0, 3)x(1, 1, 2, 7)7 - AIC:3345.7407405665745\n",
      "SARIMA(1, 0, 3)x(1, 1, 3, 7)7 - AIC:3262.9406624293206\n",
      "SARIMA(1, 0, 3)x(2, 0, 0, 7)7 - AIC:3629.818427789093\n",
      "SARIMA(1, 0, 3)x(2, 0, 1, 7)7 - AIC:3623.0360019238487\n",
      "SARIMA(1, 0, 3)x(2, 0, 2, 7)7 - AIC:3572.846499539294\n",
      "SARIMA(1, 0, 3)x(2, 0, 3, 7)7 - AIC:3430.2080767835755\n",
      "SARIMA(1, 0, 3)x(2, 1, 0, 7)7 - AIC:3427.519385006176\n",
      "SARIMA(1, 0, 3)x(2, 1, 1, 7)7 - AIC:3423.138116125456\n",
      "SARIMA(1, 0, 3)x(2, 1, 2, 7)7 - AIC:3358.294211453378\n",
      "SARIMA(1, 0, 3)x(2, 1, 3, 7)7 - AIC:3209.938480768891\n",
      "SARIMA(1, 0, 3)x(3, 0, 0, 7)7 - AIC:3484.755447506095\n",
      "SARIMA(1, 0, 3)x(3, 0, 1, 7)7 - AIC:3487.0244078577675\n",
      "SARIMA(1, 0, 3)x(3, 0, 2, 7)7 - AIC:3486.6130133667994\n",
      "SARIMA(1, 0, 3)x(3, 0, 3, 7)7 - AIC:3431.1893903907303\n",
      "SARIMA(1, 0, 3)x(3, 1, 0, 7)7 - AIC:3289.290173194142\n",
      "SARIMA(1, 0, 3)x(3, 1, 1, 7)7 - AIC:3299.615456720439\n",
      "SARIMA(1, 0, 3)x(3, 1, 2, 7)7 - AIC:3284.018092839983\n",
      "SARIMA(1, 0, 3)x(3, 1, 3, 7)7 - AIC:3255.274521658915\n",
      "SARIMA(1, 1, 0)x(0, 0, 0, 7)7 - AIC:3860.4246182096977\n",
      "SARIMA(1, 1, 0)x(0, 0, 1, 7)7 - AIC:3732.4794408455664\n",
      "SARIMA(1, 1, 0)x(0, 0, 2, 7)7 - AIC:3586.7450639420094\n",
      "SARIMA(1, 1, 0)x(0, 0, 3, 7)7 - AIC:3401.941213652006\n",
      "SARIMA(1, 1, 0)x(0, 1, 0, 7)7 - AIC:3786.837443924349\n",
      "SARIMA(1, 1, 0)x(0, 1, 1, 7)7 - AIC:3601.347492629515\n",
      "SARIMA(1, 1, 0)x(0, 1, 2, 7)7 - AIC:3434.4399043272206\n",
      "SARIMA(1, 1, 0)x(0, 1, 3, 7)7 - AIC:3286.6151397253943\n",
      "SARIMA(1, 1, 0)x(1, 0, 0, 7)7 - AIC:3719.139625434723\n",
      "SARIMA(1, 1, 0)x(1, 0, 1, 7)7 - AIC:3704.8165083147496\n",
      "SARIMA(1, 1, 0)x(1, 0, 2, 7)7 - AIC:3580.28332628951\n",
      "SARIMA(1, 1, 0)x(1, 0, 3, 7)7 - AIC:3392.726374118498\n",
      "SARIMA(1, 1, 0)x(1, 1, 0, 7)7 - AIC:3622.848806816334\n",
      "SARIMA(1, 1, 0)x(1, 1, 1, 7)7 - AIC:3599.8990862080736\n",
      "SARIMA(1, 1, 0)x(1, 1, 2, 7)7 - AIC:3418.7870059717898\n",
      "SARIMA(1, 1, 0)x(1, 1, 3, 7)7 - AIC:3274.1995604807476\n",
      "SARIMA(1, 1, 0)x(2, 0, 0, 7)7 - AIC:3585.5444214327886\n",
      "SARIMA(1, 1, 0)x(2, 0, 1, 7)7 - AIC:3579.1507092071424\n",
      "SARIMA(1, 1, 0)x(2, 0, 2, 7)7 - AIC:3552.983036231076\n",
      "SARIMA(1, 1, 0)x(2, 0, 3, 7)7 - AIC:3391.554803757197\n",
      "SARIMA(1, 1, 0)x(2, 1, 0, 7)7 - AIC:3447.4492084920776\n",
      "SARIMA(1, 1, 0)x(2, 1, 1, 7)7 - AIC:3435.1639393314285\n",
      "SARIMA(1, 1, 0)x(2, 1, 2, 7)7 - AIC:3416.0981785574013\n",
      "SARIMA(1, 1, 0)x(2, 1, 3, 7)7 - AIC:3273.7750961025804\n",
      "SARIMA(1, 1, 0)x(3, 0, 0, 7)7 - AIC:3393.816210655255\n",
      "SARIMA(1, 1, 0)x(3, 0, 1, 7)7 - AIC:3393.968561847593\n",
      "SARIMA(1, 1, 0)x(3, 0, 2, 7)7 - AIC:3392.3595682885775\n",
      "SARIMA(1, 1, 0)x(3, 0, 3, 7)7 - AIC:3395.5321431869997\n",
      "SARIMA(1, 1, 0)x(3, 1, 0, 7)7 - AIC:3282.261253912872\n",
      "SARIMA(1, 1, 0)x(3, 1, 1, 7)7 - AIC:3279.226778901586\n",
      "SARIMA(1, 1, 0)x(3, 1, 2, 7)7 - AIC:3278.3642278683046\n",
      "SARIMA(1, 1, 0)x(3, 1, 3, 7)7 - AIC:3274.589791396801\n",
      "SARIMA(1, 1, 1)x(0, 0, 0, 7)7 - AIC:3819.883108421053\n",
      "SARIMA(1, 1, 1)x(0, 0, 1, 7)7 - AIC:3685.9944516023543\n",
      "SARIMA(1, 1, 1)x(0, 0, 2, 7)7 - AIC:3541.2706009403482\n",
      "SARIMA(1, 1, 1)x(0, 0, 3, 7)7 - AIC:3340.045703893541\n",
      "SARIMA(1, 1, 1)x(0, 1, 0, 7)7 - AIC:3741.798584827932\n",
      "SARIMA(1, 1, 1)x(0, 1, 1, 7)7 - AIC:3539.139279568978\n",
      "SARIMA(1, 1, 1)x(0, 1, 2, 7)7 - AIC:3364.344545792842\n",
      "SARIMA(1, 1, 1)x(0, 1, 3, 7)7 - AIC:3207.169964219723\n",
      "SARIMA(1, 1, 1)x(1, 0, 0, 7)7 - AIC:3685.9634449952337\n",
      "SARIMA(1, 1, 1)x(1, 0, 1, 7)7 - AIC:3646.53243170729\n",
      "SARIMA(1, 1, 1)x(1, 0, 2, 7)7 - AIC:3525.3980384288834\n",
      "SARIMA(1, 1, 1)x(1, 0, 3, 7)7 - AIC:3328.8958049232706\n",
      "SARIMA(1, 1, 1)x(1, 1, 0, 7)7 - AIC:3586.2258362636185\n",
      "SARIMA(1, 1, 1)x(1, 1, 1, 7)7 - AIC:3538.575786535087\n",
      "SARIMA(1, 1, 1)x(1, 1, 2, 7)7 - AIC:3361.8043851556054\n",
      "SARIMA(1, 1, 1)x(1, 1, 3, 7)7 - AIC:3203.352443623397\n",
      "SARIMA(1, 1, 1)x(2, 0, 0, 7)7 - AIC:3552.401502957674\n",
      "SARIMA(1, 1, 1)x(2, 0, 1, 7)7 - AIC:3553.043006005917\n",
      "SARIMA(1, 1, 1)x(2, 0, 2, 7)7 - AIC:3504.5219944115584\n",
      "SARIMA(1, 1, 1)x(2, 0, 3, 7)7 - AIC:3330.0512225136004\n",
      "SARIMA(1, 1, 1)x(2, 1, 0, 7)7 - AIC:3409.1030292677015\n",
      "SARIMA(1, 1, 1)x(2, 1, 1, 7)7 - AIC:3387.731405638741\n",
      "SARIMA(1, 1, 1)x(2, 1, 2, 7)7 - AIC:3358.435414208049\n",
      "SARIMA(1, 1, 1)x(2, 1, 3, 7)7 - AIC:3197.0793788881556\n",
      "SARIMA(1, 1, 1)x(3, 0, 0, 7)7 - AIC:3365.462024331643\n",
      "SARIMA(1, 1, 1)x(3, 0, 1, 7)7 - AIC:3360.4477361282115\n",
      "SARIMA(1, 1, 1)x(3, 0, 2, 7)7 - AIC:3362.0290656959805\n",
      "SARIMA(1, 1, 1)x(3, 0, 3, 7)7 - AIC:3363.8169303036934\n",
      "SARIMA(1, 1, 1)x(3, 1, 0, 7)7 - AIC:3248.85911322631\n",
      "SARIMA(1, 1, 1)x(3, 1, 1, 7)7 - AIC:3233.4031838251044\n",
      "SARIMA(1, 1, 1)x(3, 1, 2, 7)7 - AIC:3232.802810531329\n",
      "SARIMA(1, 1, 1)x(3, 1, 3, 7)7 - AIC:3197.4808546974173\n",
      "SARIMA(1, 1, 2)x(0, 0, 0, 7)7 - AIC:3804.894705347846\n",
      "SARIMA(1, 1, 2)x(0, 0, 1, 7)7 - AIC:3664.7967137118458\n",
      "SARIMA(1, 1, 2)x(0, 0, 2, 7)7 - AIC:3526.8843554610276\n",
      "SARIMA(1, 1, 2)x(0, 0, 3, 7)7 - AIC:3313.5959437423107\n",
      "SARIMA(1, 1, 2)x(0, 1, 0, 7)7 - AIC:3702.374306730529\n",
      "SARIMA(1, 1, 2)x(0, 1, 1, 7)7 - AIC:3519.3489663641485\n"
     ]
    },
    {
     "name": "stdout",
     "output_type": "stream",
     "text": [
      "SARIMA(1, 1, 2)x(0, 1, 2, 7)7 - AIC:3323.8177252641076\n",
      "SARIMA(1, 1, 2)x(0, 1, 3, 7)7 - AIC:3191.5220205499827\n",
      "SARIMA(1, 1, 2)x(1, 0, 0, 7)7 - AIC:3682.253912070631\n",
      "SARIMA(1, 1, 2)x(1, 0, 1, 7)7 - AIC:3628.1390997975573\n",
      "SARIMA(1, 1, 2)x(1, 0, 2, 7)7 - AIC:3502.3247149948893\n",
      "SARIMA(1, 1, 2)x(1, 0, 3, 7)7 - AIC:3306.826454376229\n",
      "SARIMA(1, 1, 2)x(1, 1, 0, 7)7 - AIC:3577.7256435943896\n",
      "SARIMA(1, 1, 2)x(1, 1, 1, 7)7 - AIC:3514.567710147103\n",
      "SARIMA(1, 1, 2)x(1, 1, 2, 7)7 - AIC:3322.2536773061556\n",
      "SARIMA(1, 1, 2)x(1, 1, 3, 7)7 - AIC:3187.0289892129076\n",
      "SARIMA(1, 1, 2)x(2, 0, 0, 7)7 - AIC:3548.6044048795416\n",
      "SARIMA(1, 1, 2)x(2, 0, 1, 7)7 - AIC:3540.586626698346\n",
      "SARIMA(1, 1, 2)x(2, 0, 2, 7)7 - AIC:3498.712624342279\n",
      "SARIMA(1, 1, 2)x(2, 0, 3, 7)7 - AIC:3308.629035464151\n",
      "SARIMA(1, 1, 2)x(2, 1, 0, 7)7 - AIC:3397.832582183522\n",
      "SARIMA(1, 1, 2)x(2, 1, 1, 7)7 - AIC:3381.3524631912715\n",
      "SARIMA(1, 1, 2)x(2, 1, 2, 7)7 - AIC:3314.211295137885\n",
      "SARIMA(1, 1, 2)x(2, 1, 3, 7)7 - AIC:3183.899523056111\n",
      "SARIMA(1, 1, 2)x(3, 0, 0, 7)7 - AIC:3359.5849450984315\n",
      "SARIMA(1, 1, 2)x(3, 0, 1, 7)7 - AIC:3359.939425599379\n",
      "SARIMA(1, 1, 2)x(3, 0, 2, 7)7 - AIC:3359.1939469160843\n",
      "SARIMA(1, 1, 2)x(3, 0, 3, 7)7 - AIC:3361.7142931281496\n",
      "SARIMA(1, 1, 2)x(3, 1, 0, 7)7 - AIC:3250.1009719375497\n",
      "SARIMA(1, 1, 2)x(3, 1, 1, 7)7 - AIC:3233.8846435233436\n",
      "SARIMA(1, 1, 2)x(3, 1, 2, 7)7 - AIC:3232.915090088708\n",
      "SARIMA(1, 1, 2)x(3, 1, 3, 7)7 - AIC:3200.010900586841\n",
      "SARIMA(1, 1, 3)x(0, 0, 0, 7)7 - AIC:3787.0681090817598\n",
      "SARIMA(1, 1, 3)x(0, 0, 1, 7)7 - AIC:3645.7349657999803\n",
      "SARIMA(1, 1, 3)x(0, 0, 2, 7)7 - AIC:3487.895094779491\n",
      "SARIMA(1, 1, 3)x(0, 0, 3, 7)7 - AIC:3295.3607963728646\n",
      "SARIMA(1, 1, 3)x(0, 1, 0, 7)7 - AIC:3687.5016581249533\n",
      "SARIMA(1, 1, 3)x(0, 1, 1, 7)7 - AIC:3494.592474989936\n",
      "SARIMA(1, 1, 3)x(0, 1, 2, 7)7 - AIC:3305.0431603120896\n",
      "SARIMA(1, 1, 3)x(0, 1, 3, 7)7 - AIC:3172.7267770028166\n",
      "SARIMA(1, 1, 3)x(1, 0, 0, 7)7 - AIC:3681.3438266721428\n",
      "SARIMA(1, 1, 3)x(1, 0, 1, 7)7 - AIC:3610.391137397397\n",
      "SARIMA(1, 1, 3)x(1, 0, 2, 7)7 - AIC:3473.5978937474765\n",
      "SARIMA(1, 1, 3)x(1, 0, 3, 7)7 - AIC:3274.0607936846527\n",
      "SARIMA(1, 1, 3)x(1, 1, 0, 7)7 - AIC:3578.0132974947464\n",
      "SARIMA(1, 1, 3)x(1, 1, 1, 7)7 - AIC:3488.463002635775\n",
      "SARIMA(1, 1, 3)x(1, 1, 2, 7)7 - AIC:3307.1118763831714\n",
      "SARIMA(1, 1, 3)x(1, 1, 3, 7)7 - AIC:3163.4008577809354\n",
      "SARIMA(1, 1, 3)x(2, 0, 0, 7)7 - AIC:3546.2996688543726\n",
      "SARIMA(1, 1, 3)x(2, 0, 1, 7)7 - AIC:3542.3825504631077\n",
      "SARIMA(1, 1, 3)x(2, 0, 2, 7)7 - AIC:3450.2092997696955\n",
      "SARIMA(1, 1, 3)x(2, 0, 3, 7)7 - AIC:3276.117506008026\n",
      "SARIMA(1, 1, 3)x(2, 1, 0, 7)7 - AIC:3391.8991978572767\n",
      "SARIMA(1, 1, 3)x(2, 1, 1, 7)7 - AIC:3379.227541640617\n",
      "SARIMA(1, 1, 3)x(2, 1, 2, 7)7 - AIC:3298.0459095988754\n",
      "SARIMA(1, 1, 3)x(2, 1, 3, 7)7 - AIC:3216.6554398111157\n",
      "SARIMA(1, 1, 3)x(3, 0, 0, 7)7 - AIC:3352.941530090792\n",
      "SARIMA(1, 1, 3)x(3, 0, 1, 7)7 - AIC:3349.620358785016\n",
      "SARIMA(1, 1, 3)x(3, 0, 2, 7)7 - AIC:3354.5156532405417\n",
      "SARIMA(1, 1, 3)x(3, 0, 3, 7)7 - AIC:3278.5668776627163\n",
      "SARIMA(1, 1, 3)x(3, 1, 0, 7)7 - AIC:3250.0402771922318\n",
      "SARIMA(1, 1, 3)x(3, 1, 1, 7)7 - AIC:3234.6563124913455\n",
      "SARIMA(1, 1, 3)x(3, 1, 2, 7)7 - AIC:3235.8747429264276\n",
      "SARIMA(1, 1, 3)x(3, 1, 3, 7)7 - AIC:3168.0624619761657\n",
      "SARIMA(2, 0, 0)x(0, 0, 0, 7)7 - AIC:3862.29232742134\n",
      "SARIMA(2, 0, 0)x(0, 0, 1, 7)7 - AIC:3750.1843724287164\n",
      "SARIMA(2, 0, 0)x(0, 0, 2, 7)7 - AIC:3716.1795519811844\n",
      "SARIMA(2, 0, 0)x(0, 0, 3, 7)7 - AIC:3585.3517359748807\n",
      "SARIMA(2, 0, 0)x(0, 1, 0, 7)7 - AIC:3786.0175866636832\n",
      "SARIMA(2, 0, 0)x(0, 1, 1, 7)7 - AIC:3693.9061047274126\n",
      "SARIMA(2, 0, 0)x(0, 1, 2, 7)7 - AIC:3476.666660535462\n",
      "SARIMA(2, 0, 0)x(0, 1, 3, 7)7 - AIC:3322.0975677504885\n",
      "SARIMA(2, 0, 0)x(1, 0, 0, 7)7 - AIC:3721.034793234231\n",
      "SARIMA(2, 0, 0)x(1, 0, 1, 7)7 - AIC:3740.2676690290764\n",
      "SARIMA(2, 0, 0)x(1, 0, 2, 7)7 - AIC:3693.6838809562505\n",
      "SARIMA(2, 0, 0)x(1, 0, 3, 7)7 - AIC:3450.5282649943088\n",
      "SARIMA(2, 0, 0)x(1, 1, 0, 7)7 - AIC:3620.7994027601753\n",
      "SARIMA(2, 0, 0)x(1, 1, 1, 7)7 - AIC:3609.8401558358505\n",
      "SARIMA(2, 0, 0)x(1, 1, 2, 7)7 - AIC:3477.0088854792725\n",
      "SARIMA(2, 0, 0)x(1, 1, 3, 7)7 - AIC:3289.1021420970383\n",
      "SARIMA(2, 0, 0)x(2, 0, 0, 7)7 - AIC:3592.227241183285\n",
      "SARIMA(2, 0, 0)x(2, 0, 1, 7)7 - AIC:3587.265846935935\n",
      "SARIMA(2, 0, 0)x(2, 0, 2, 7)7 - AIC:3570.4654611402193\n",
      "SARIMA(2, 0, 0)x(2, 0, 3, 7)7 - AIC:3451.7705361274457\n",
      "SARIMA(2, 0, 0)x(2, 1, 0, 7)7 - AIC:3466.189545521942\n",
      "SARIMA(2, 0, 0)x(2, 1, 1, 7)7 - AIC:3439.954384795403\n",
      "SARIMA(2, 0, 0)x(2, 1, 2, 7)7 - AIC:3453.0143053324373\n",
      "SARIMA(2, 0, 0)x(2, 1, 3, 7)7 - AIC:3337.951297741362\n",
      "SARIMA(2, 0, 0)x(3, 0, 0, 7)7 - AIC:3426.0297574075175\n",
      "SARIMA(2, 0, 0)x(3, 0, 1, 7)7 - AIC:3429.247211731606\n",
      "SARIMA(2, 0, 0)x(3, 0, 2, 7)7 - AIC:3425.6159556102057\n",
      "SARIMA(2, 0, 0)x(3, 0, 3, 7)7 - AIC:3429.6260702019454\n",
      "SARIMA(2, 0, 0)x(3, 1, 0, 7)7 - AIC:3274.99545210114\n",
      "SARIMA(2, 0, 0)x(3, 1, 1, 7)7 - AIC:3326.5319229000356\n",
      "SARIMA(2, 0, 0)x(3, 1, 2, 7)7 - AIC:3326.610289495545\n",
      "SARIMA(2, 0, 0)x(3, 1, 3, 7)7 - AIC:3326.8314713468844\n",
      "SARIMA(2, 0, 1)x(0, 0, 0, 7)7 - AIC:3837.2249405456523\n",
      "SARIMA(2, 0, 1)x(0, 0, 1, 7)7 - AIC:3705.86856646695\n",
      "SARIMA(2, 0, 1)x(0, 0, 2, 7)7 - AIC:3677.4359783964\n",
      "SARIMA(2, 0, 1)x(0, 0, 3, 7)7 - AIC:3554.6366096289266\n",
      "SARIMA(2, 0, 1)x(0, 1, 0, 7)7 - AIC:3772.773675371368\n",
      "SARIMA(2, 0, 1)x(0, 1, 1, 7)7 - AIC:3829.6015712033086\n",
      "SARIMA(2, 0, 1)x(0, 1, 2, 7)7 - AIC:3558.9675732810115\n",
      "SARIMA(2, 0, 1)x(0, 1, 3, 7)7 - AIC:3400.4079546954567\n",
      "SARIMA(2, 0, 1)x(1, 0, 0, 7)7 - AIC:3690.746422576961\n",
      "SARIMA(2, 0, 1)x(1, 0, 1, 7)7 - AIC:3674.4892245309757\n",
      "SARIMA(2, 0, 1)x(1, 0, 2, 7)7 - AIC:3656.0505356912063\n",
      "SARIMA(2, 0, 1)x(1, 0, 3, 7)7 - AIC:3492.08062495335\n",
      "SARIMA(2, 0, 1)x(1, 1, 0, 7)7 - AIC:3607.093609767585\n",
      "SARIMA(2, 0, 1)x(1, 1, 1, 7)7 - AIC:3619.711862108974\n",
      "SARIMA(2, 0, 1)x(1, 1, 2, 7)7 - AIC:3447.5698330396244\n",
      "SARIMA(2, 0, 1)x(1, 1, 3, 7)7 - AIC:3277.252899061231\n",
      "SARIMA(2, 0, 1)x(2, 0, 0, 7)7 - AIC:3561.339241431164\n",
      "SARIMA(2, 0, 1)x(2, 0, 1, 7)7 - AIC:3559.3058205194425\n",
      "SARIMA(2, 0, 1)x(2, 0, 2, 7)7 - AIC:3552.8722153788676\n",
      "SARIMA(2, 0, 1)x(2, 0, 3, 7)7 - AIC:3404.9745077157504\n",
      "SARIMA(2, 0, 1)x(2, 1, 0, 7)7 - AIC:3412.818812134701\n",
      "SARIMA(2, 0, 1)x(2, 1, 1, 7)7 - AIC:3448.1788020548365\n",
      "SARIMA(2, 0, 1)x(2, 1, 2, 7)7 - AIC:3452.36365979513\n",
      "SARIMA(2, 0, 1)x(2, 1, 3, 7)7 - AIC:3310.7627870217793\n",
      "SARIMA(2, 0, 1)x(3, 0, 0, 7)7 - AIC:3404.725264962857\n",
      "SARIMA(2, 0, 1)x(3, 0, 1, 7)7 - AIC:3404.3499152175864\n",
      "SARIMA(2, 0, 1)x(3, 0, 2, 7)7 - AIC:3406.4092289369923\n",
      "SARIMA(2, 0, 1)x(3, 0, 3, 7)7 - AIC:3408.804429865464\n",
      "SARIMA(2, 0, 1)x(3, 1, 0, 7)7 - AIC:3281.7716331489287\n",
      "SARIMA(2, 0, 1)x(3, 1, 1, 7)7 - AIC:3324.913807208692\n",
      "SARIMA(2, 0, 1)x(3, 1, 2, 7)7 - AIC:3278.104896423725\n",
      "SARIMA(2, 0, 1)x(3, 1, 3, 7)7 - AIC:3282.123767379153\n",
      "SARIMA(2, 0, 2)x(0, 0, 0, 7)7 - AIC:3822.3591694043616\n",
      "SARIMA(2, 0, 2)x(0, 0, 1, 7)7 - AIC:3687.990794023594\n",
      "SARIMA(2, 0, 2)x(0, 0, 2, 7)7 - AIC:3649.0091193299095\n",
      "SARIMA(2, 0, 2)x(0, 0, 3, 7)7 - AIC:3524.2666417928112\n",
      "SARIMA(2, 0, 2)x(0, 1, 0, 7)7 - AIC:3715.4532665390307\n",
      "SARIMA(2, 0, 2)x(0, 1, 1, 7)7 - AIC:3765.4520837972614\n",
      "SARIMA(2, 0, 2)x(0, 1, 2, 7)7 - AIC:3542.2422044609666\n",
      "SARIMA(2, 0, 2)x(0, 1, 3, 7)7 - AIC:3369.074963233219\n",
      "SARIMA(2, 0, 2)x(1, 0, 0, 7)7 - AIC:3688.9736957408277\n",
      "SARIMA(2, 0, 2)x(1, 0, 1, 7)7 - AIC:3664.627596208211\n",
      "SARIMA(2, 0, 2)x(1, 0, 2, 7)7 - AIC:3642.846056728001\n",
      "SARIMA(2, 0, 2)x(1, 0, 3, 7)7 - AIC:3380.796761940613\n",
      "SARIMA(2, 0, 2)x(1, 1, 0, 7)7 - AIC:3573.4406034344674\n",
      "SARIMA(2, 0, 2)x(1, 1, 1, 7)7 - AIC:3536.095853812032\n",
      "SARIMA(2, 0, 2)x(1, 1, 2, 7)7 - AIC:3381.139627103937\n",
      "SARIMA(2, 0, 2)x(1, 1, 3, 7)7 - AIC:3255.69835735168\n",
      "SARIMA(2, 0, 2)x(2, 0, 0, 7)7 - AIC:3560.909597204124\n",
      "SARIMA(2, 0, 2)x(2, 0, 1, 7)7 - AIC:3560.9075310641247\n",
      "SARIMA(2, 0, 2)x(2, 0, 2, 7)7 - AIC:3530.9459771917886\n",
      "SARIMA(2, 0, 2)x(2, 0, 3, 7)7 - AIC:3381.331804744782\n",
      "SARIMA(2, 0, 2)x(2, 1, 0, 7)7 - AIC:3409.728820207571\n",
      "SARIMA(2, 0, 2)x(2, 1, 1, 7)7 - AIC:3403.4237712510694\n",
      "SARIMA(2, 0, 2)x(2, 1, 2, 7)7 - AIC:3382.275436422121\n",
      "SARIMA(2, 0, 2)x(2, 1, 3, 7)7 - AIC:3255.981563054811\n",
      "SARIMA(2, 0, 2)x(3, 0, 0, 7)7 - AIC:3405.8804209982436\n",
      "SARIMA(2, 0, 2)x(3, 0, 1, 7)7 - AIC:3405.259790996398\n",
      "SARIMA(2, 0, 2)x(3, 0, 2, 7)7 - AIC:3407.4333471546797\n",
      "SARIMA(2, 0, 2)x(3, 0, 3, 7)7 - AIC:3385.41000364262\n",
      "SARIMA(2, 0, 2)x(3, 1, 0, 7)7 - AIC:3281.9088586813255\n"
     ]
    },
    {
     "name": "stdout",
     "output_type": "stream",
     "text": [
      "SARIMA(2, 0, 2)x(3, 1, 1, 7)7 - AIC:3287.2596318934034\n",
      "SARIMA(2, 0, 2)x(3, 1, 2, 7)7 - AIC:3277.348917872052\n",
      "SARIMA(2, 0, 2)x(3, 1, 3, 7)7 - AIC:3258.3744450712966\n",
      "SARIMA(2, 0, 3)x(0, 0, 0, 7)7 - AIC:3804.0170640269653\n",
      "SARIMA(2, 0, 3)x(0, 0, 1, 7)7 - AIC:3665.3474321563435\n",
      "SARIMA(2, 0, 3)x(0, 0, 2, 7)7 - AIC:3624.757417174641\n",
      "SARIMA(2, 0, 3)x(0, 0, 3, 7)7 - AIC:3494.9555963747716\n",
      "SARIMA(2, 0, 3)x(0, 1, 0, 7)7 - AIC:3696.945545837806\n",
      "SARIMA(2, 0, 3)x(0, 1, 1, 7)7 - AIC:3667.413890991128\n",
      "SARIMA(2, 0, 3)x(0, 1, 2, 7)7 - AIC:3520.5176236036073\n",
      "SARIMA(2, 0, 3)x(0, 1, 3, 7)7 - AIC:3342.3555048981184\n",
      "SARIMA(2, 0, 3)x(1, 0, 0, 7)7 - AIC:3683.198352808595\n",
      "SARIMA(2, 0, 3)x(1, 0, 1, 7)7 - AIC:3677.9668108202595\n",
      "SARIMA(2, 0, 3)x(1, 0, 2, 7)7 - AIC:3615.88012969111\n",
      "SARIMA(2, 0, 3)x(1, 0, 3, 7)7 - AIC:3359.2664673345193\n",
      "SARIMA(2, 0, 3)x(1, 1, 0, 7)7 - AIC:3569.425159782169\n",
      "SARIMA(2, 0, 3)x(1, 1, 1, 7)7 - AIC:3513.392098368985\n",
      "SARIMA(2, 0, 3)x(1, 1, 2, 7)7 - AIC:3351.2647477668443\n",
      "SARIMA(2, 0, 3)x(1, 1, 3, 7)7 - AIC:3230.5909162327453\n",
      "SARIMA(2, 0, 3)x(2, 0, 0, 7)7 - AIC:3553.945132209318\n",
      "SARIMA(2, 0, 3)x(2, 0, 1, 7)7 - AIC:3556.6065260379837\n",
      "SARIMA(2, 0, 3)x(2, 0, 2, 7)7 - AIC:3505.2048585207604\n",
      "SARIMA(2, 0, 3)x(2, 0, 3, 7)7 - AIC:3350.686607980342\n",
      "SARIMA(2, 0, 3)x(2, 1, 0, 7)7 - AIC:3397.21487301058\n",
      "SARIMA(2, 0, 3)x(2, 1, 1, 7)7 - AIC:3393.3992193879176\n",
      "SARIMA(2, 0, 3)x(2, 1, 2, 7)7 - AIC:3353.40646548172\n",
      "SARIMA(2, 0, 3)x(2, 1, 3, 7)7 - AIC:3233.0989131688593\n",
      "SARIMA(2, 0, 3)x(3, 0, 0, 7)7 - AIC:3392.8466132841977\n",
      "SARIMA(2, 0, 3)x(3, 0, 1, 7)7 - AIC:3394.065877013142\n",
      "SARIMA(2, 0, 3)x(3, 0, 2, 7)7 - AIC:3397.1282653386697\n",
      "SARIMA(2, 0, 3)x(3, 0, 3, 7)7 - AIC:3355.202724364888\n",
      "SARIMA(2, 0, 3)x(3, 1, 0, 7)7 - AIC:3274.1312625200358\n",
      "SARIMA(2, 0, 3)x(3, 1, 1, 7)7 - AIC:3279.8645594452328\n",
      "SARIMA(2, 0, 3)x(3, 1, 2, 7)7 - AIC:3270.631491669633\n",
      "SARIMA(2, 0, 3)x(3, 1, 3, 7)7 - AIC:3234.4436296568447\n",
      "SARIMA(2, 1, 0)x(0, 0, 0, 7)7 - AIC:3824.5136123696334\n",
      "SARIMA(2, 1, 0)x(0, 0, 1, 7)7 - AIC:3703.103177161855\n",
      "SARIMA(2, 1, 0)x(0, 0, 2, 7)7 - AIC:3554.60673911706\n",
      "SARIMA(2, 1, 0)x(0, 0, 3, 7)7 - AIC:3365.871016629774\n",
      "SARIMA(2, 1, 0)x(0, 1, 0, 7)7 - AIC:3722.433819077294\n",
      "SARIMA(2, 1, 0)x(0, 1, 1, 7)7 - AIC:3548.8042439757232\n",
      "SARIMA(2, 1, 0)x(0, 1, 2, 7)7 - AIC:3372.514355360093\n",
      "SARIMA(2, 1, 0)x(0, 1, 3, 7)7 - AIC:3247.85225186145\n",
      "SARIMA(2, 1, 0)x(1, 0, 0, 7)7 - AIC:3659.100325556692\n",
      "SARIMA(2, 1, 0)x(1, 0, 1, 7)7 - AIC:3640.2484793027943\n",
      "SARIMA(2, 1, 0)x(1, 0, 2, 7)7 - AIC:3538.77183600322\n",
      "SARIMA(2, 1, 0)x(1, 0, 3, 7)7 - AIC:3354.8256760803124\n",
      "SARIMA(2, 1, 0)x(1, 1, 0, 7)7 - AIC:3559.908380140788\n",
      "SARIMA(2, 1, 0)x(1, 1, 1, 7)7 - AIC:3530.162628966209\n",
      "SARIMA(2, 1, 0)x(1, 1, 2, 7)7 - AIC:3364.3897685176794\n",
      "SARIMA(2, 1, 0)x(1, 1, 3, 7)7 - AIC:3240.2148924404664\n",
      "SARIMA(2, 1, 0)x(2, 0, 0, 7)7 - AIC:3530.1539623668377\n",
      "SARIMA(2, 1, 0)x(2, 0, 1, 7)7 - AIC:3519.667853549219\n",
      "SARIMA(2, 1, 0)x(2, 0, 2, 7)7 - AIC:3504.2481488248795\n",
      "SARIMA(2, 1, 0)x(2, 0, 3, 7)7 - AIC:3347.5243923276703\n",
      "SARIMA(2, 1, 0)x(2, 1, 0, 7)7 - AIC:3370.198929550528\n",
      "SARIMA(2, 1, 0)x(2, 1, 1, 7)7 - AIC:3358.519888313807\n",
      "SARIMA(2, 1, 0)x(2, 1, 2, 7)7 - AIC:3343.870433464537\n",
      "SARIMA(2, 1, 0)x(2, 1, 3, 7)7 - AIC:3242.84383969806\n",
      "SARIMA(2, 1, 0)x(3, 0, 0, 7)7 - AIC:3324.2259361094393\n",
      "SARIMA(2, 1, 0)x(3, 0, 1, 7)7 - AIC:3325.0080728432204\n",
      "SARIMA(2, 1, 0)x(3, 0, 2, 7)7 - AIC:3326.4031950303956\n",
      "SARIMA(2, 1, 0)x(3, 0, 3, 7)7 - AIC:3333.1016035977887\n",
      "SARIMA(2, 1, 0)x(3, 1, 0, 7)7 - AIC:3210.3780028285664\n",
      "SARIMA(2, 1, 0)x(3, 1, 1, 7)7 - AIC:3206.4593786715113\n",
      "SARIMA(2, 1, 0)x(3, 1, 2, 7)7 - AIC:3208.6399075690174\n",
      "SARIMA(2, 1, 0)x(3, 1, 3, 7)7 - AIC:3208.1841314991007\n",
      "SARIMA(2, 1, 1)x(0, 0, 0, 7)7 - AIC:3819.967525634459\n",
      "SARIMA(2, 1, 1)x(0, 0, 1, 7)7 - AIC:3686.1043323055405\n",
      "SARIMA(2, 1, 1)x(0, 0, 2, 7)7 - AIC:3537.953844345016\n",
      "SARIMA(2, 1, 1)x(0, 0, 3, 7)7 - AIC:3334.6371118354073\n",
      "SARIMA(2, 1, 1)x(0, 1, 0, 7)7 - AIC:3723.913913414905\n",
      "SARIMA(2, 1, 1)x(0, 1, 1, 7)7 - AIC:3532.208602243106\n",
      "SARIMA(2, 1, 1)x(0, 1, 2, 7)7 - AIC:3356.4423613478316\n",
      "SARIMA(2, 1, 1)x(0, 1, 3, 7)7 - AIC:3209.0154078717205\n",
      "SARIMA(2, 1, 1)x(1, 0, 0, 7)7 - AIC:3660.6039073686925\n",
      "SARIMA(2, 1, 1)x(1, 0, 1, 7)7 - AIC:3640.579085607589\n",
      "SARIMA(2, 1, 1)x(1, 0, 2, 7)7 - AIC:3521.707368637815\n",
      "SARIMA(2, 1, 1)x(1, 0, 3, 7)7 - AIC:3322.700653972014\n",
      "SARIMA(2, 1, 1)x(1, 1, 0, 7)7 - AIC:3560.2538864509997\n",
      "SARIMA(2, 1, 1)x(1, 1, 1, 7)7 - AIC:3529.2066982998467\n",
      "SARIMA(2, 1, 1)x(1, 1, 2, 7)7 - AIC:3346.824226648183\n",
      "SARIMA(2, 1, 1)x(1, 1, 3, 7)7 - AIC:3204.90474123523\n",
      "SARIMA(2, 1, 1)x(2, 0, 0, 7)7 - AIC:3531.084241552824\n",
      "SARIMA(2, 1, 1)x(2, 0, 1, 7)7 - AIC:3520.145859093147\n",
      "SARIMA(2, 1, 1)x(2, 0, 2, 7)7 - AIC:3518.5411955472227\n",
      "SARIMA(2, 1, 1)x(2, 0, 3, 7)7 - AIC:3316.634399618964\n",
      "SARIMA(2, 1, 1)x(2, 1, 0, 7)7 - AIC:3370.4435121920114\n",
      "SARIMA(2, 1, 1)x(2, 1, 1, 7)7 - AIC:3372.0071473754992\n",
      "SARIMA(2, 1, 1)x(2, 1, 2, 7)7 - AIC:3342.354968715745\n",
      "SARIMA(2, 1, 1)x(2, 1, 3, 7)7 - AIC:3207.5895465764465\n",
      "SARIMA(2, 1, 1)x(3, 0, 0, 7)7 - AIC:3317.0993263550713\n",
      "SARIMA(2, 1, 1)x(3, 0, 1, 7)7 - AIC:3319.0992761442058\n",
      "SARIMA(2, 1, 1)x(3, 0, 2, 7)7 - AIC:3326.5209706721034\n",
      "SARIMA(2, 1, 1)x(3, 0, 3, 7)7 - AIC:3357.4594958649095\n",
      "SARIMA(2, 1, 1)x(3, 1, 0, 7)7 - AIC:3211.3113557850593\n",
      "SARIMA(2, 1, 1)x(3, 1, 1, 7)7 - AIC:3208.5402529885673\n",
      "SARIMA(2, 1, 1)x(3, 1, 2, 7)7 - AIC:3215.336404574778\n",
      "SARIMA(2, 1, 1)x(3, 1, 3, 7)7 - AIC:3258.6503873861866\n",
      "SARIMA(2, 1, 2)x(0, 0, 0, 7)7 - AIC:3805.6707776818744\n",
      "SARIMA(2, 1, 2)x(0, 0, 1, 7)7 - AIC:3665.619718369643\n",
      "SARIMA(2, 1, 2)x(0, 0, 2, 7)7 - AIC:3517.59408107389\n",
      "SARIMA(2, 1, 2)x(0, 0, 3, 7)7 - AIC:3313.808166176967\n",
      "SARIMA(2, 1, 2)x(0, 1, 0, 7)7 - AIC:3703.063889131451\n",
      "SARIMA(2, 1, 2)x(0, 1, 1, 7)7 - AIC:3519.5053226951977\n",
      "SARIMA(2, 1, 2)x(0, 1, 2, 7)7 - AIC:3321.124582399092\n",
      "SARIMA(2, 1, 2)x(0, 1, 3, 7)7 - AIC:3210.499044180537\n",
      "SARIMA(2, 1, 2)x(1, 0, 0, 7)7 - AIC:3662.200876935891\n",
      "SARIMA(2, 1, 2)x(1, 0, 1, 7)7 - AIC:3626.5390561190516\n",
      "SARIMA(2, 1, 2)x(1, 0, 2, 7)7 - AIC:3503.712205663577\n",
      "SARIMA(2, 1, 2)x(1, 0, 3, 7)7 - AIC:3309.972111586659\n",
      "SARIMA(2, 1, 2)x(1, 1, 0, 7)7 - AIC:3561.8543842703275\n",
      "SARIMA(2, 1, 2)x(1, 1, 1, 7)7 - AIC:3515.38858112282\n",
      "SARIMA(2, 1, 2)x(1, 1, 2, 7)7 - AIC:3357.9283852519416\n",
      "SARIMA(2, 1, 2)x(1, 1, 3, 7)7 - AIC:3242.786742987795\n",
      "SARIMA(2, 1, 2)x(2, 0, 0, 7)7 - AIC:3533.027338841359\n",
      "SARIMA(2, 1, 2)x(2, 0, 1, 7)7 - AIC:3521.6997508782238\n",
      "SARIMA(2, 1, 2)x(2, 0, 2, 7)7 - AIC:3510.6577988263325\n",
      "SARIMA(2, 1, 2)x(2, 0, 3, 7)7 - AIC:3301.389596764116\n",
      "SARIMA(2, 1, 2)x(2, 1, 0, 7)7 - AIC:3372.3957109861753\n",
      "SARIMA(2, 1, 2)x(2, 1, 1, 7)7 - AIC:3353.861854236765\n",
      "SARIMA(2, 1, 2)x(2, 1, 2, 7)7 - AIC:3318.8761652874764\n",
      "SARIMA(2, 1, 2)x(2, 1, 3, 7)7 - AIC:3243.8696158697353\n",
      "SARIMA(2, 1, 2)x(3, 0, 0, 7)7 - AIC:3318.6900101990577\n",
      "SARIMA(2, 1, 2)x(3, 0, 1, 7)7 - AIC:3320.584979121739\n",
      "SARIMA(2, 1, 2)x(3, 0, 2, 7)7 - AIC:3324.3063357946003\n",
      "SARIMA(2, 1, 2)x(3, 0, 3, 7)7 - AIC:3326.315532568087\n",
      "SARIMA(2, 1, 2)x(3, 1, 0, 7)7 - AIC:3205.364126230569\n",
      "SARIMA(2, 1, 2)x(3, 1, 1, 7)7 - AIC:3259.3315087473375\n",
      "SARIMA(2, 1, 2)x(3, 1, 2, 7)7 - AIC:3261.4768758817004\n",
      "SARIMA(2, 1, 2)x(3, 1, 3, 7)7 - AIC:3245.886517760559\n",
      "SARIMA(2, 1, 3)x(0, 0, 0, 7)7 - AIC:3777.1068511980966\n",
      "SARIMA(2, 1, 3)x(0, 0, 1, 7)7 - AIC:3649.943795694494\n",
      "SARIMA(2, 1, 3)x(0, 0, 2, 7)7 - AIC:3492.4762513903415\n",
      "SARIMA(2, 1, 3)x(0, 0, 3, 7)7 - AIC:3329.4378559226498\n",
      "SARIMA(2, 1, 3)x(0, 1, 0, 7)7 - AIC:3682.862333677458\n",
      "SARIMA(2, 1, 3)x(0, 1, 1, 7)7 - AIC:3496.575319710283\n",
      "SARIMA(2, 1, 3)x(0, 1, 2, 7)7 - AIC:3300.0663431754356\n",
      "SARIMA(2, 1, 3)x(0, 1, 3, 7)7 - AIC:3168.811425723098\n",
      "SARIMA(2, 1, 3)x(1, 0, 0, 7)7 - AIC:3659.496090690196\n",
      "SARIMA(2, 1, 3)x(1, 0, 1, 7)7 - AIC:3617.3927303393875\n",
      "SARIMA(2, 1, 3)x(1, 0, 2, 7)7 - AIC:3490.596752496694\n",
      "SARIMA(2, 1, 3)x(1, 0, 3, 7)7 - AIC:3320.160914865617\n",
      "SARIMA(2, 1, 3)x(1, 1, 0, 7)7 - AIC:3561.3780599208267\n",
      "SARIMA(2, 1, 3)x(1, 1, 1, 7)7 - AIC:3487.298455348817\n",
      "SARIMA(2, 1, 3)x(1, 1, 2, 7)7 - AIC:3329.8916756548933\n",
      "SARIMA(2, 1, 3)x(1, 1, 3, 7)7 - AIC:3190.1334927815215\n",
      "SARIMA(2, 1, 3)x(2, 0, 0, 7)7 - AIC:3530.3450914173736\n",
      "SARIMA(2, 1, 3)x(2, 0, 1, 7)7 - AIC:3533.6325630209867\n",
      "SARIMA(2, 1, 3)x(2, 0, 2, 7)7 - AIC:3475.02819957392\n",
      "SARIMA(2, 1, 3)x(2, 0, 3, 7)7 - AIC:3321.0956217749795\n"
     ]
    },
    {
     "name": "stdout",
     "output_type": "stream",
     "text": [
      "SARIMA(2, 1, 3)x(2, 1, 0, 7)7 - AIC:3377.116012636491\n",
      "SARIMA(2, 1, 3)x(2, 1, 1, 7)7 - AIC:3365.3226425772145\n",
      "SARIMA(2, 1, 3)x(2, 1, 2, 7)7 - AIC:3309.7864171112346\n",
      "SARIMA(2, 1, 3)x(2, 1, 3, 7)7 - AIC:3200.8942374541325\n",
      "SARIMA(2, 1, 3)x(3, 0, 0, 7)7 - AIC:3358.744546894586\n",
      "SARIMA(2, 1, 3)x(3, 0, 1, 7)7 - AIC:3356.3031664084474\n",
      "SARIMA(2, 1, 3)x(3, 0, 2, 7)7 - AIC:3356.154394571744\n",
      "SARIMA(2, 1, 3)x(3, 0, 3, 7)7 - AIC:3322.937690565168\n",
      "SARIMA(2, 1, 3)x(3, 1, 0, 7)7 - AIC:3251.0814995485075\n",
      "SARIMA(2, 1, 3)x(3, 1, 1, 7)7 - AIC:3210.1554446985674\n",
      "SARIMA(2, 1, 3)x(3, 1, 2, 7)7 - AIC:3238.321268057911\n",
      "SARIMA(2, 1, 3)x(3, 1, 3, 7)7 - AIC:3201.7402780680777\n",
      "SARIMA(3, 0, 0)x(0, 0, 0, 7)7 - AIC:3826.513611867481\n",
      "SARIMA(3, 0, 0)x(0, 0, 1, 7)7 - AIC:3719.6270805390864\n",
      "SARIMA(3, 0, 0)x(0, 0, 2, 7)7 - AIC:3680.8156443064\n",
      "SARIMA(3, 0, 0)x(0, 0, 3, 7)7 - AIC:3570.778882155325\n",
      "SARIMA(3, 0, 0)x(0, 1, 0, 7)7 - AIC:3715.926113116813\n",
      "SARIMA(3, 0, 0)x(0, 1, 1, 7)7 - AIC:3646.816973539055\n",
      "SARIMA(3, 0, 0)x(0, 1, 2, 7)7 - AIC:3409.6774427270448\n",
      "SARIMA(3, 0, 0)x(0, 1, 3, 7)7 - AIC:3408.237233861374\n",
      "SARIMA(3, 0, 0)x(1, 0, 0, 7)7 - AIC:3666.6364283326598\n",
      "SARIMA(3, 0, 0)x(1, 0, 1, 7)7 - AIC:3652.0843055627165\n",
      "SARIMA(3, 0, 0)x(1, 0, 2, 7)7 - AIC:3661.9315897917904\n",
      "SARIMA(3, 0, 0)x(1, 0, 3, 7)7 - AIC:3424.1746931260714\n",
      "SARIMA(3, 0, 0)x(1, 1, 0, 7)7 - AIC:3558.562246197928\n",
      "SARIMA(3, 0, 0)x(1, 1, 1, 7)7 - AIC:3538.5456891423814\n",
      "SARIMA(3, 0, 0)x(1, 1, 2, 7)7 - AIC:3418.813457780964\n",
      "SARIMA(3, 0, 0)x(1, 1, 3, 7)7 - AIC:3297.386368240467\n",
      "SARIMA(3, 0, 0)x(2, 0, 0, 7)7 - AIC:3541.058578060756\n",
      "SARIMA(3, 0, 0)x(2, 0, 1, 7)7 - AIC:3533.575830168449\n",
      "SARIMA(3, 0, 0)x(2, 0, 2, 7)7 - AIC:3528.117261574549\n",
      "SARIMA(3, 0, 0)x(2, 0, 3, 7)7 - AIC:3415.1087207821224\n",
      "SARIMA(3, 0, 0)x(2, 1, 0, 7)7 - AIC:3376.011051721651\n",
      "SARIMA(3, 0, 0)x(2, 1, 1, 7)7 - AIC:3378.906956737102\n",
      "SARIMA(3, 0, 0)x(2, 1, 2, 7)7 - AIC:3377.4146585866197\n",
      "SARIMA(3, 0, 0)x(2, 1, 3, 7)7 - AIC:3299.908477195876\n",
      "SARIMA(3, 0, 0)x(3, 0, 0, 7)7 - AIC:3372.4816554987165\n",
      "SARIMA(3, 0, 0)x(3, 0, 1, 7)7 - AIC:3373.3240780373912\n",
      "SARIMA(3, 0, 0)x(3, 0, 2, 7)7 - AIC:3379.6441253675575\n",
      "SARIMA(3, 0, 0)x(3, 0, 3, 7)7 - AIC:3379.865731287001\n",
      "SARIMA(3, 0, 0)x(3, 1, 0, 7)7 - AIC:3210.647957211412\n",
      "SARIMA(3, 0, 0)x(3, 1, 1, 7)7 - AIC:3260.917565428029\n",
      "SARIMA(3, 0, 0)x(3, 1, 2, 7)7 - AIC:3260.9564473742385\n",
      "SARIMA(3, 0, 0)x(3, 1, 3, 7)7 - AIC:3261.5907034967054\n",
      "SARIMA(3, 0, 1)x(0, 0, 0, 7)7 - AIC:3821.6355461433322\n",
      "SARIMA(3, 0, 1)x(0, 0, 1, 7)7 - AIC:3806.349062100757\n",
      "SARIMA(3, 0, 1)x(0, 0, 2, 7)7 - AIC:3663.2578644910054\n",
      "SARIMA(3, 0, 1)x(0, 0, 3, 7)7 - AIC:3549.813619156531\n",
      "SARIMA(3, 0, 1)x(0, 1, 0, 7)7 - AIC:3716.294021156543\n",
      "SARIMA(3, 0, 1)x(0, 1, 1, 7)7 - AIC:3633.003628430426\n",
      "SARIMA(3, 0, 1)x(0, 1, 2, 7)7 - AIC:3523.750809523757\n",
      "SARIMA(3, 0, 1)x(0, 1, 3, 7)7 - AIC:3389.9097580948946\n",
      "SARIMA(3, 0, 1)x(1, 0, 0, 7)7 - AIC:3667.903863751774\n",
      "SARIMA(3, 0, 1)x(1, 0, 1, 7)7 - AIC:3698.646271110333\n",
      "SARIMA(3, 0, 1)x(1, 0, 2, 7)7 - AIC:3566.354776465417\n",
      "SARIMA(3, 0, 1)x(1, 0, 3, 7)7 - AIC:3402.484977740234\n",
      "SARIMA(3, 0, 1)x(1, 1, 0, 7)7 - AIC:3556.684623845238\n",
      "SARIMA(3, 0, 1)x(1, 1, 1, 7)7 - AIC:3535.6523558858435\n",
      "SARIMA(3, 0, 1)x(1, 1, 2, 7)7 - AIC:3397.2304327540987\n",
      "SARIMA(3, 0, 1)x(1, 1, 3, 7)7 - AIC:3382.435124367809\n",
      "SARIMA(3, 0, 1)x(2, 0, 0, 7)7 - AIC:3542.351076604471\n",
      "SARIMA(3, 0, 1)x(2, 0, 1, 7)7 - AIC:3535.152577111173\n",
      "SARIMA(3, 0, 1)x(2, 0, 2, 7)7 - AIC:3529.0269642668854\n",
      "SARIMA(3, 0, 1)x(2, 0, 3, 7)7 - AIC:3392.652883622322\n",
      "SARIMA(3, 0, 1)x(2, 1, 0, 7)7 - AIC:3352.927232245707\n",
      "SARIMA(3, 0, 1)x(2, 1, 1, 7)7 - AIC:3382.119781352342\n",
      "SARIMA(3, 0, 1)x(2, 1, 2, 7)7 - AIC:3376.7142614745803\n",
      "SARIMA(3, 0, 1)x(2, 1, 3, 7)7 - AIC:3279.139115162189\n",
      "SARIMA(3, 0, 1)x(3, 0, 0, 7)7 - AIC:3371.493415738254\n",
      "SARIMA(3, 0, 1)x(3, 0, 1, 7)7 - AIC:3372.707684470883\n",
      "SARIMA(3, 0, 1)x(3, 0, 2, 7)7 - AIC:3383.2059216276866\n",
      "SARIMA(3, 0, 1)x(3, 0, 3, 7)7 - AIC:3375.9706000354577\n",
      "SARIMA(3, 0, 1)x(3, 1, 0, 7)7 - AIC:3226.3069206864366\n",
      "SARIMA(3, 0, 1)x(3, 1, 1, 7)7 - AIC:3261.3861129430315\n",
      "SARIMA(3, 0, 1)x(3, 1, 2, 7)7 - AIC:3260.84871792802\n",
      "SARIMA(3, 0, 1)x(3, 1, 3, 7)7 - AIC:3262.0326275152224\n",
      "SARIMA(3, 0, 2)x(0, 0, 0, 7)7 - AIC:3823.9218899689654\n",
      "SARIMA(3, 0, 2)x(0, 0, 1, 7)7 - AIC:3786.1653527320163\n",
      "SARIMA(3, 0, 2)x(0, 0, 2, 7)7 - AIC:3645.9986680506577\n",
      "SARIMA(3, 0, 2)x(0, 0, 3, 7)7 - AIC:3524.1325391722803\n",
      "SARIMA(3, 0, 2)x(0, 1, 0, 7)7 - AIC:3715.9873662997443\n",
      "SARIMA(3, 0, 2)x(0, 1, 1, 7)7 - AIC:3745.0704095265723\n",
      "SARIMA(3, 0, 2)x(0, 1, 2, 7)7 - AIC:3536.3662861634866\n",
      "SARIMA(3, 0, 2)x(0, 1, 3, 7)7 - AIC:3359.7800203239713\n",
      "SARIMA(3, 0, 2)x(1, 0, 0, 7)7 - AIC:3673.434721531965\n",
      "SARIMA(3, 0, 2)x(1, 0, 1, 7)7 - AIC:3697.8133797506352\n",
      "SARIMA(3, 0, 2)x(1, 0, 2, 7)7 - AIC:3625.788467023746\n",
      "SARIMA(3, 0, 2)x(1, 0, 3, 7)7 - AIC:3384.0872235355428\n",
      "SARIMA(3, 0, 2)x(1, 1, 0, 7)7 - AIC:3557.912941104911\n",
      "SARIMA(3, 0, 2)x(1, 1, 1, 7)7 - AIC:3536.14173457188\n",
      "SARIMA(3, 0, 2)x(1, 1, 2, 7)7 - AIC:3379.808350523005\n",
      "SARIMA(3, 0, 2)x(1, 1, 3, 7)7 - AIC:3258.0996291471233\n",
      "SARIMA(3, 0, 2)x(2, 0, 0, 7)7 - AIC:3546.376560650993\n",
      "SARIMA(3, 0, 2)x(2, 0, 1, 7)7 - AIC:3535.1102121454646\n",
      "SARIMA(3, 0, 2)x(2, 0, 2, 7)7 - AIC:3538.9905230648073\n",
      "SARIMA(3, 0, 2)x(2, 0, 3, 7)7 - AIC:3374.7593310831116\n",
      "SARIMA(3, 0, 2)x(2, 1, 0, 7)7 - AIC:3383.0513693407293\n",
      "SARIMA(3, 0, 2)x(2, 1, 1, 7)7 - AIC:3379.26390449397\n",
      "SARIMA(3, 0, 2)x(2, 1, 2, 7)7 - AIC:3379.8529272653814\n",
      "SARIMA(3, 0, 2)x(2, 1, 3, 7)7 - AIC:3259.803108857347\n",
      "SARIMA(3, 0, 2)x(3, 0, 0, 7)7 - AIC:3373.0798583926435\n",
      "SARIMA(3, 0, 2)x(3, 0, 1, 7)7 - AIC:3375.9987748474614\n",
      "SARIMA(3, 0, 2)x(3, 0, 2, 7)7 - AIC:3384.8958946784915\n",
      "SARIMA(3, 0, 2)x(3, 0, 3, 7)7 - AIC:3390.3131524512246\n",
      "SARIMA(3, 0, 2)x(3, 1, 0, 7)7 - AIC:3260.864180558678\n",
      "SARIMA(3, 0, 2)x(3, 1, 1, 7)7 - AIC:3257.542012316037\n",
      "SARIMA(3, 0, 2)x(3, 1, 2, 7)7 - AIC:3259.259089398889\n",
      "SARIMA(3, 0, 2)x(3, 1, 3, 7)7 - AIC:3261.4611190583582\n",
      "SARIMA(3, 0, 3)x(0, 0, 0, 7)7 - AIC:3806.056424819748\n",
      "SARIMA(3, 0, 3)x(0, 0, 1, 7)7 - AIC:3761.9685423084575\n",
      "SARIMA(3, 0, 3)x(0, 0, 2, 7)7 - AIC:3626.764478220598\n",
      "SARIMA(3, 0, 3)x(0, 0, 3, 7)7 - AIC:3534.6978851786594\n",
      "SARIMA(3, 0, 3)x(0, 1, 0, 7)7 - AIC:3698.3697900616658\n",
      "SARIMA(3, 0, 3)x(0, 1, 1, 7)7 - AIC:3718.3423178387175\n",
      "SARIMA(3, 0, 3)x(0, 1, 2, 7)7 - AIC:3515.286358269801\n",
      "SARIMA(3, 0, 3)x(0, 1, 3, 7)7 - AIC:3343.97408493522\n",
      "SARIMA(3, 0, 3)x(1, 0, 0, 7)7 - AIC:3711.466722767879\n",
      "SARIMA(3, 0, 3)x(1, 0, 1, 7)7 - AIC:3659.2773472002245\n",
      "SARIMA(3, 0, 3)x(1, 0, 2, 7)7 - AIC:3612.662345741324\n",
      "SARIMA(3, 0, 3)x(1, 0, 3, 7)7 - AIC:3360.2360295188173\n",
      "SARIMA(3, 0, 3)x(1, 1, 0, 7)7 - AIC:3555.0172129190305\n",
      "SARIMA(3, 0, 3)x(1, 1, 1, 7)7 - AIC:3573.301446772629\n",
      "SARIMA(3, 0, 3)x(1, 1, 2, 7)7 - AIC:3355.379864259875\n",
      "SARIMA(3, 0, 3)x(1, 1, 3, 7)7 - AIC:3232.975800612337\n",
      "SARIMA(3, 0, 3)x(2, 0, 0, 7)7 - AIC:3541.590684039179\n",
      "SARIMA(3, 0, 3)x(2, 0, 1, 7)7 - AIC:3544.4887684875184\n",
      "SARIMA(3, 0, 3)x(2, 0, 2, 7)7 - AIC:3515.952609851486\n",
      "SARIMA(3, 0, 3)x(2, 0, 3, 7)7 - AIC:3353.107670360604\n",
      "SARIMA(3, 0, 3)x(2, 1, 0, 7)7 - AIC:3379.333610140201\n",
      "SARIMA(3, 0, 3)x(2, 1, 1, 7)7 - AIC:3376.529152391755\n",
      "SARIMA(3, 0, 3)x(2, 1, 2, 7)7 - AIC:3358.3544162196713\n",
      "SARIMA(3, 0, 3)x(2, 1, 3, 7)7 - AIC:3234.651660908566\n",
      "SARIMA(3, 0, 3)x(3, 0, 0, 7)7 - AIC:3373.8984782063617\n",
      "SARIMA(3, 0, 3)x(3, 0, 1, 7)7 - AIC:3374.8816424848046\n",
      "SARIMA(3, 0, 3)x(3, 0, 2, 7)7 - AIC:3391.7413077874794\n",
      "SARIMA(3, 0, 3)x(3, 0, 3, 7)7 - AIC:3356.6405327052435\n",
      "SARIMA(3, 0, 3)x(3, 1, 0, 7)7 - AIC:3249.948063963964\n",
      "SARIMA(3, 0, 3)x(3, 1, 1, 7)7 - AIC:3248.356835450552\n",
      "SARIMA(3, 0, 3)x(3, 1, 2, 7)7 - AIC:3250.114418685377\n",
      "SARIMA(3, 0, 3)x(3, 1, 3, 7)7 - AIC:3236.7873021433456\n",
      "SARIMA(3, 1, 0)x(0, 0, 0, 7)7 - AIC:3810.418953091018\n",
      "SARIMA(3, 1, 0)x(0, 0, 1, 7)7 - AIC:3704.8850641490453\n",
      "SARIMA(3, 1, 0)x(0, 0, 2, 7)7 - AIC:3556.3919364206354\n",
      "SARIMA(3, 1, 0)x(0, 0, 3, 7)7 - AIC:3364.8375482569454\n",
      "SARIMA(3, 1, 0)x(0, 1, 0, 7)7 - AIC:3704.3929949579756\n",
      "SARIMA(3, 1, 0)x(0, 1, 1, 7)7 - AIC:3547.2763537531946\n",
      "SARIMA(3, 1, 0)x(0, 1, 2, 7)7 - AIC:3373.8337670028113\n",
      "SARIMA(3, 1, 0)x(0, 1, 3, 7)7 - AIC:3249.0803345874874\n",
      "SARIMA(3, 1, 0)x(1, 0, 0, 7)7 - AIC:3640.3855720707893\n",
      "SARIMA(3, 1, 0)x(1, 0, 1, 7)7 - AIC:3623.573777244482\n",
      "SARIMA(3, 1, 0)x(1, 0, 2, 7)7 - AIC:3539.641445130391\n"
     ]
    },
    {
     "name": "stdout",
     "output_type": "stream",
     "text": [
      "SARIMA(3, 1, 0)x(1, 0, 3, 7)7 - AIC:3353.3477373287055\n",
      "SARIMA(3, 1, 0)x(1, 1, 0, 7)7 - AIC:3544.428374570167\n",
      "SARIMA(3, 1, 0)x(1, 1, 1, 7)7 - AIC:3513.178039282674\n",
      "SARIMA(3, 1, 0)x(1, 1, 2, 7)7 - AIC:3365.5569048911375\n",
      "SARIMA(3, 1, 0)x(1, 1, 3, 7)7 - AIC:3241.3207225835285\n",
      "SARIMA(3, 1, 0)x(2, 0, 0, 7)7 - AIC:3515.713297592534\n",
      "SARIMA(3, 1, 0)x(2, 0, 1, 7)7 - AIC:3501.8616684608414\n",
      "SARIMA(3, 1, 0)x(2, 0, 2, 7)7 - AIC:3487.0467325885293\n",
      "SARIMA(3, 1, 0)x(2, 0, 3, 7)7 - AIC:3346.3415990830345\n",
      "SARIMA(3, 1, 0)x(2, 1, 0, 7)7 - AIC:3347.13911616147\n",
      "SARIMA(3, 1, 0)x(2, 1, 1, 7)7 - AIC:3329.188351462414\n",
      "SARIMA(3, 1, 0)x(2, 1, 2, 7)7 - AIC:3312.240496948626\n",
      "SARIMA(3, 1, 0)x(2, 1, 3, 7)7 - AIC:3243.5801875283905\n",
      "SARIMA(3, 1, 0)x(3, 0, 0, 7)7 - AIC:3301.448727860219\n",
      "SARIMA(3, 1, 0)x(3, 0, 1, 7)7 - AIC:3301.9840427888203\n",
      "SARIMA(3, 1, 0)x(3, 0, 2, 7)7 - AIC:3301.858900584937\n",
      "SARIMA(3, 1, 0)x(3, 0, 3, 7)7 - AIC:3302.841345016108\n",
      "SARIMA(3, 1, 0)x(3, 1, 0, 7)7 - AIC:3196.7960072709893\n",
      "SARIMA(3, 1, 0)x(3, 1, 1, 7)7 - AIC:3193.585914837672\n",
      "SARIMA(3, 1, 0)x(3, 1, 2, 7)7 - AIC:3197.7863940497496\n",
      "SARIMA(3, 1, 0)x(3, 1, 3, 7)7 - AIC:3188.813257548585\n",
      "SARIMA(3, 1, 1)x(0, 0, 0, 7)7 - AIC:3804.6661279475975\n",
      "SARIMA(3, 1, 1)x(0, 0, 1, 7)7 - AIC:3685.4799722264775\n",
      "SARIMA(3, 1, 1)x(0, 0, 2, 7)7 - AIC:3530.3969270181697\n",
      "SARIMA(3, 1, 1)x(0, 0, 3, 7)7 - AIC:3336.6212540808506\n",
      "SARIMA(3, 1, 1)x(0, 1, 0, 7)7 - AIC:3705.6082635689736\n",
      "SARIMA(3, 1, 1)x(0, 1, 1, 7)7 - AIC:3534.0447212729014\n",
      "SARIMA(3, 1, 1)x(0, 1, 2, 7)7 - AIC:3348.8019299166635\n",
      "SARIMA(3, 1, 1)x(0, 1, 3, 7)7 - AIC:3215.0442266998134\n",
      "SARIMA(3, 1, 1)x(1, 0, 0, 7)7 - AIC:3642.182905842141\n",
      "SARIMA(3, 1, 1)x(1, 0, 1, 7)7 - AIC:3623.946002807382\n",
      "SARIMA(3, 1, 1)x(1, 0, 2, 7)7 - AIC:3522.414516764392\n",
      "SARIMA(3, 1, 1)x(1, 0, 3, 7)7 - AIC:3322.0187802578093\n",
      "SARIMA(3, 1, 1)x(1, 1, 0, 7)7 - AIC:3545.708060079497\n",
      "SARIMA(3, 1, 1)x(1, 1, 1, 7)7 - AIC:3515.230031909775\n",
      "SARIMA(3, 1, 1)x(1, 1, 2, 7)7 - AIC:3359.5335319529304\n",
      "SARIMA(3, 1, 1)x(1, 1, 3, 7)7 - AIC:3261.3003604053547\n",
      "SARIMA(3, 1, 1)x(2, 0, 0, 7)7 - AIC:3514.9303935013945\n",
      "SARIMA(3, 1, 1)x(2, 0, 1, 7)7 - AIC:3518.020935518706\n",
      "SARIMA(3, 1, 1)x(2, 0, 2, 7)7 - AIC:3510.4624584244334\n",
      "SARIMA(3, 1, 1)x(2, 0, 3, 7)7 - AIC:3317.675056305635\n",
      "SARIMA(3, 1, 1)x(2, 1, 0, 7)7 - AIC:3343.8893295397465\n",
      "SARIMA(3, 1, 1)x(2, 1, 1, 7)7 - AIC:3322.5436188586827\n",
      "SARIMA(3, 1, 1)x(2, 1, 2, 7)7 - AIC:3316.098643035457\n",
      "SARIMA(3, 1, 1)x(2, 1, 3, 7)7 - AIC:3251.075140676543\n",
      "SARIMA(3, 1, 1)x(3, 0, 0, 7)7 - AIC:3298.1471719242923\n",
      "SARIMA(3, 1, 1)x(3, 0, 1, 7)7 - AIC:3302.235126639879\n",
      "SARIMA(3, 1, 1)x(3, 0, 2, 7)7 - AIC:3302.4391862504845\n",
      "SARIMA(3, 1, 1)x(3, 0, 3, 7)7 - AIC:3346.2440762980395\n",
      "SARIMA(3, 1, 1)x(3, 1, 0, 7)7 - AIC:3201.506734678247\n",
      "SARIMA(3, 1, 1)x(3, 1, 1, 7)7 - AIC:3192.7428827980266\n",
      "SARIMA(3, 1, 1)x(3, 1, 2, 7)7 - AIC:3230.192738258569\n",
      "SARIMA(3, 1, 1)x(3, 1, 3, 7)7 - AIC:3250.6741220884905\n",
      "SARIMA(3, 1, 2)x(0, 0, 0, 7)7 - AIC:3792.793625850004\n",
      "SARIMA(3, 1, 2)x(0, 0, 1, 7)7 - AIC:3671.624072075312\n",
      "SARIMA(3, 1, 2)x(0, 0, 2, 7)7 - AIC:3520.9429873769072\n",
      "SARIMA(3, 1, 2)x(0, 0, 3, 7)7 - AIC:3339.153855916178\n",
      "SARIMA(3, 1, 2)x(0, 1, 0, 7)7 - AIC:3699.041378139632\n",
      "SARIMA(3, 1, 2)x(0, 1, 1, 7)7 - AIC:3517.3624303499264\n",
      "SARIMA(3, 1, 2)x(0, 1, 2, 7)7 - AIC:3367.3073582777315\n",
      "SARIMA(3, 1, 2)x(0, 1, 3, 7)7 - AIC:3232.166286318169\n",
      "SARIMA(3, 1, 2)x(1, 0, 0, 7)7 - AIC:3649.7453413179555\n",
      "SARIMA(3, 1, 2)x(1, 0, 1, 7)7 - AIC:3637.182161070634\n",
      "SARIMA(3, 1, 2)x(1, 0, 2, 7)7 - AIC:3520.602342694722\n",
      "SARIMA(3, 1, 2)x(1, 0, 3, 7)7 - AIC:3349.5129294759636\n",
      "SARIMA(3, 1, 2)x(1, 1, 0, 7)7 - AIC:3547.2858918775055\n",
      "SARIMA(3, 1, 2)x(1, 1, 1, 7)7 - AIC:3522.617439571917\n",
      "SARIMA(3, 1, 2)x(1, 1, 2, 7)7 - AIC:3368.9332931083054\n",
      "SARIMA(3, 1, 2)x(1, 1, 3, 7)7 - AIC:3242.2416443757847\n",
      "SARIMA(3, 1, 2)x(2, 0, 0, 7)7 - AIC:3526.815049867718\n",
      "SARIMA(3, 1, 2)x(2, 0, 1, 7)7 - AIC:3519.1800048611767\n",
      "SARIMA(3, 1, 2)x(2, 0, 2, 7)7 - AIC:3510.797249112854\n",
      "SARIMA(3, 1, 2)x(2, 0, 3, 7)7 - AIC:3351.025665277881\n",
      "SARIMA(3, 1, 2)x(2, 1, 0, 7)7 - AIC:3377.5132852376737\n",
      "SARIMA(3, 1, 2)x(2, 1, 1, 7)7 - AIC:3368.0233612964016\n",
      "SARIMA(3, 1, 2)x(2, 1, 2, 7)7 - AIC:3365.6200698976963\n",
      "SARIMA(3, 1, 2)x(2, 1, 3, 7)7 - AIC:3243.4222513875466\n",
      "SARIMA(3, 1, 2)x(3, 0, 0, 7)7 - AIC:3351.368771668904\n",
      "SARIMA(3, 1, 2)x(3, 0, 1, 7)7 - AIC:3348.808717524207\n",
      "SARIMA(3, 1, 2)x(3, 0, 2, 7)7 - AIC:3350.4879189204903\n",
      "SARIMA(3, 1, 2)x(3, 0, 3, 7)7 - AIC:3352.537390675919\n",
      "SARIMA(3, 1, 2)x(3, 1, 0, 7)7 - AIC:3238.6024744867354\n",
      "SARIMA(3, 1, 2)x(3, 1, 1, 7)7 - AIC:3243.105017448799\n",
      "SARIMA(3, 1, 2)x(3, 1, 2, 7)7 - AIC:3219.5860616699842\n",
      "SARIMA(3, 1, 2)x(3, 1, 3, 7)7 - AIC:3245.111279425145\n",
      "SARIMA(3, 1, 3)x(0, 0, 0, 7)7 - AIC:3780.5377405517393\n",
      "SARIMA(3, 1, 3)x(0, 0, 1, 7)7 - AIC:3651.15764706225\n",
      "SARIMA(3, 1, 3)x(0, 0, 2, 7)7 - AIC:3488.0339399859636\n",
      "SARIMA(3, 1, 3)x(0, 0, 3, 7)7 - AIC:3325.382678935741\n",
      "SARIMA(3, 1, 3)x(0, 1, 0, 7)7 - AIC:3676.568410330733\n",
      "SARIMA(3, 1, 3)x(0, 1, 1, 7)7 - AIC:3496.0164471964977\n",
      "SARIMA(3, 1, 3)x(0, 1, 2, 7)7 - AIC:3334.676427128258\n",
      "SARIMA(3, 1, 3)x(0, 1, 3, 7)7 - AIC:3205.2753003668886\n",
      "SARIMA(3, 1, 3)x(1, 0, 0, 7)7 - AIC:3642.724179108685\n",
      "SARIMA(3, 1, 3)x(1, 0, 1, 7)7 - AIC:3615.5598015020732\n",
      "SARIMA(3, 1, 3)x(1, 0, 2, 7)7 - AIC:3487.8851575315193\n",
      "SARIMA(3, 1, 3)x(1, 0, 3, 7)7 - AIC:3320.2587789575055\n",
      "SARIMA(3, 1, 3)x(1, 1, 0, 7)7 - AIC:3545.3586445986607\n",
      "SARIMA(3, 1, 3)x(1, 1, 1, 7)7 - AIC:3492.1877078998805\n",
      "SARIMA(3, 1, 3)x(1, 1, 2, 7)7 - AIC:3330.6963606878708\n",
      "SARIMA(3, 1, 3)x(1, 1, 3, 7)7 - AIC:3200.86574537626\n",
      "SARIMA(3, 1, 3)x(2, 0, 0, 7)7 - AIC:3521.9559129802365\n",
      "SARIMA(3, 1, 3)x(2, 0, 1, 7)7 - AIC:3511.168775668074\n",
      "SARIMA(3, 1, 3)x(2, 0, 2, 7)7 - AIC:3475.6656120279204\n",
      "SARIMA(3, 1, 3)x(2, 0, 3, 7)7 - AIC:3321.999960851519\n",
      "SARIMA(3, 1, 3)x(2, 1, 0, 7)7 - AIC:3363.0489297239565\n",
      "SARIMA(3, 1, 3)x(2, 1, 1, 7)7 - AIC:3340.6824107338543\n",
      "SARIMA(3, 1, 3)x(2, 1, 2, 7)7 - AIC:3327.493199220008\n",
      "SARIMA(3, 1, 3)x(2, 1, 3, 7)7 - AIC:3200.4670883055423\n",
      "SARIMA(3, 1, 3)x(3, 0, 0, 7)7 - AIC:3337.43194238323\n",
      "SARIMA(3, 1, 3)x(3, 0, 1, 7)7 - AIC:3336.0996412308805\n",
      "SARIMA(3, 1, 3)x(3, 0, 2, 7)7 - AIC:3336.517843681663\n",
      "SARIMA(3, 1, 3)x(3, 0, 3, 7)7 - AIC:3323.7849185872014\n",
      "SARIMA(3, 1, 3)x(3, 1, 0, 7)7 - AIC:3224.1723909336865\n",
      "SARIMA(3, 1, 3)x(3, 1, 1, 7)7 - AIC:3230.4557428695907\n",
      "SARIMA(3, 1, 3)x(3, 1, 2, 7)7 - AIC:3221.716642837683\n",
      "SARIMA(3, 1, 3)x(3, 1, 3, 7)7 - AIC:3201.7599676553546\n"
     ]
    }
   ],
   "source": [
    "import statsmodels.api as sm\n",
    "for param in pdq:\n",
    "    for param_seasonal in model_pdq:\n",
    "        mod = sm.tsa.statespace.SARIMAX(train,\n",
    "                                            order=param,\n",
    "                                            seasonal_order=param_seasonal,\n",
    "                                            enforce_stationarity=False,\n",
    "                                            enforce_invertibility=False)\n",
    "            \n",
    "        results_SARIMA = mod.fit()\n",
    "        print('SARIMA{}x{}7 - AIC:{}'.format(param, param_seasonal, results_SARIMA.aic))\n",
    "        dfObj2 = dfObj2.append({'param':param,'seasonal':param_seasonal ,'AIC': results_SARIMA.aic}, ignore_index=True)"
   ]
  },
  {
   "cell_type": "markdown",
   "metadata": {},
   "source": [
    "## sorting parameters for best AIC score"
   ]
  },
  {
   "cell_type": "code",
   "execution_count": 81,
   "metadata": {},
   "outputs": [
    {
     "data": {
      "text/html": [
       "<div>\n",
       "<style scoped>\n",
       "    .dataframe tbody tr th:only-of-type {\n",
       "        vertical-align: middle;\n",
       "    }\n",
       "\n",
       "    .dataframe tbody tr th {\n",
       "        vertical-align: top;\n",
       "    }\n",
       "\n",
       "    .dataframe thead th {\n",
       "        text-align: right;\n",
       "    }\n",
       "</style>\n",
       "<table border=\"1\" class=\"dataframe\">\n",
       "  <thead>\n",
       "    <tr style=\"text-align: right;\">\n",
       "      <th></th>\n",
       "      <th>param</th>\n",
       "      <th>seasonal</th>\n",
       "      <th>AIC</th>\n",
       "    </tr>\n",
       "  </thead>\n",
       "  <tbody>\n",
       "    <tr>\n",
       "      <th>495</th>\n",
       "      <td>(1, 1, 3)</td>\n",
       "      <td>(1, 1, 3, 7)</td>\n",
       "      <td>3163.400858</td>\n",
       "    </tr>\n",
       "    <tr>\n",
       "      <th>511</th>\n",
       "      <td>(1, 1, 3)</td>\n",
       "      <td>(3, 1, 3, 7)</td>\n",
       "      <td>3168.062462</td>\n",
       "    </tr>\n",
       "    <tr>\n",
       "      <th>743</th>\n",
       "      <td>(2, 1, 3)</td>\n",
       "      <td>(0, 1, 3, 7)</td>\n",
       "      <td>3168.811426</td>\n",
       "    </tr>\n",
       "    <tr>\n",
       "      <th>487</th>\n",
       "      <td>(1, 1, 3)</td>\n",
       "      <td>(0, 1, 3, 7)</td>\n",
       "      <td>3172.726777</td>\n",
       "    </tr>\n",
       "    <tr>\n",
       "      <th>247</th>\n",
       "      <td>(0, 1, 3)</td>\n",
       "      <td>(2, 1, 3, 7)</td>\n",
       "      <td>3178.456501</td>\n",
       "    </tr>\n",
       "    <tr>\n",
       "      <th>...</th>\n",
       "      <td>...</td>\n",
       "      <td>...</td>\n",
       "      <td>...</td>\n",
       "    </tr>\n",
       "    <tr>\n",
       "      <th>1</th>\n",
       "      <td>(0, 0, 0)</td>\n",
       "      <td>(0, 0, 1, 7)</td>\n",
       "      <td>5329.355925</td>\n",
       "    </tr>\n",
       "    <tr>\n",
       "      <th>96</th>\n",
       "      <td>(0, 0, 3)</td>\n",
       "      <td>(0, 0, 0, 7)</td>\n",
       "      <td>5368.058871</td>\n",
       "    </tr>\n",
       "    <tr>\n",
       "      <th>64</th>\n",
       "      <td>(0, 0, 2)</td>\n",
       "      <td>(0, 0, 0, 7)</td>\n",
       "      <td>5397.630820</td>\n",
       "    </tr>\n",
       "    <tr>\n",
       "      <th>32</th>\n",
       "      <td>(0, 0, 1)</td>\n",
       "      <td>(0, 0, 0, 7)</td>\n",
       "      <td>5455.686974</td>\n",
       "    </tr>\n",
       "    <tr>\n",
       "      <th>0</th>\n",
       "      <td>(0, 0, 0)</td>\n",
       "      <td>(0, 0, 0, 7)</td>\n",
       "      <td>5648.332883</td>\n",
       "    </tr>\n",
       "  </tbody>\n",
       "</table>\n",
       "<p>1024 rows × 3 columns</p>\n",
       "</div>"
      ],
      "text/plain": [
       "         param      seasonal          AIC\n",
       "495  (1, 1, 3)  (1, 1, 3, 7)  3163.400858\n",
       "511  (1, 1, 3)  (3, 1, 3, 7)  3168.062462\n",
       "743  (2, 1, 3)  (0, 1, 3, 7)  3168.811426\n",
       "487  (1, 1, 3)  (0, 1, 3, 7)  3172.726777\n",
       "247  (0, 1, 3)  (2, 1, 3, 7)  3178.456501\n",
       "..         ...           ...          ...\n",
       "1    (0, 0, 0)  (0, 0, 1, 7)  5329.355925\n",
       "96   (0, 0, 3)  (0, 0, 0, 7)  5368.058871\n",
       "64   (0, 0, 2)  (0, 0, 0, 7)  5397.630820\n",
       "32   (0, 0, 1)  (0, 0, 0, 7)  5455.686974\n",
       "0    (0, 0, 0)  (0, 0, 0, 7)  5648.332883\n",
       "\n",
       "[1024 rows x 3 columns]"
      ]
     },
     "execution_count": 81,
     "metadata": {},
     "output_type": "execute_result"
    }
   ],
   "source": [
    "dfObj2.sort_values(by=['AIC'])"
   ]
  },
  {
   "cell_type": "markdown",
   "metadata": {},
   "source": [
    "### SARIMA model parameters are selected as (1,1,3)(1,1,3,7)"
   ]
  },
  {
   "cell_type": "code",
   "execution_count": 82,
   "metadata": {
    "scrolled": true
   },
   "outputs": [
    {
     "name": "stdout",
     "output_type": "stream",
     "text": [
      "                                     SARIMAX Results                                     \n",
      "=========================================================================================\n",
      "Dep. Variable:                      Hospitalized   No. Observations:                  235\n",
      "Model:             SARIMAX(1, 1, 3)x(1, 1, 3, 7)   Log Likelihood               -1572.700\n",
      "Date:                           Wed, 12 May 2021   AIC                           3163.401\n",
      "Time:                                   12:21:12   BIC                           3193.175\n",
      "Sample:                               03-17-2020   HQIC                          3175.448\n",
      "                                    - 11-06-2020                                         \n",
      "Covariance Type:                             opg                                         \n",
      "==============================================================================\n",
      "                 coef    std err          z      P>|z|      [0.025      0.975]\n",
      "------------------------------------------------------------------------------\n",
      "ar.L1          0.9401      0.019     50.592      0.000       0.904       0.977\n",
      "ma.L1         -0.6820      0.063    -10.795      0.000      -0.806      -0.558\n",
      "ma.L2          0.1393      0.083      1.687      0.092      -0.023       0.301\n",
      "ma.L3         -0.1357      0.088     -1.544      0.123      -0.308       0.037\n",
      "ar.S.L7       -0.5672      0.079     -7.172      0.000      -0.722      -0.412\n",
      "ma.S.L7       -0.0165      0.099     -0.167      0.867      -0.210       0.177\n",
      "ma.S.L14      -0.4026      0.084     -4.765      0.000      -0.568      -0.237\n",
      "ma.S.L21      -0.0788      0.070     -1.118      0.263      -0.217       0.059\n",
      "sigma2      3.381e+05   2.17e+04     15.576      0.000    2.96e+05    3.81e+05\n",
      "===================================================================================\n",
      "Ljung-Box (Q):                       41.08   Jarque-Bera (JB):               148.67\n",
      "Prob(Q):                              0.42   Prob(JB):                         0.00\n",
      "Heteroskedasticity (H):               0.34   Skew:                            -0.41\n",
      "Prob(H) (two-sided):                  0.00   Kurtosis:                         7.12\n",
      "===================================================================================\n",
      "\n",
      "Warnings:\n",
      "[1] Covariance matrix calculated using the outer product of gradients (complex-step).\n"
     ]
    }
   ],
   "source": [
    "model = sm.tsa.statespace.SARIMAX(train,\n",
    "                                order=(1,1,3),\n",
    "                                seasonal_order=(1,1,3,7),\n",
    "                                enforce_stationarity=False,\n",
    "                                enforce_invertibility=False)\n",
    "model_Sarima = model.fit()\n",
    "print(model_Sarima.summary())"
   ]
  },
  {
   "cell_type": "code",
   "execution_count": 83,
   "metadata": {},
   "outputs": [],
   "source": [
    "SARIMA_predictions=model_Sarima.predict(start=pred_start, end=pred_end)"
   ]
  },
  {
   "cell_type": "code",
   "execution_count": 84,
   "metadata": {},
   "outputs": [
    {
     "data": {
      "text/plain": [
       "2020-11-07    55782.884254\n",
       "2020-11-08    56277.594832\n",
       "2020-11-09    57754.908486\n",
       "2020-11-10    59620.069825\n",
       "2020-11-11    61209.329719\n",
       "2020-11-12    62476.769270\n",
       "2020-11-13    63644.733401\n",
       "2020-11-14    64432.625312\n",
       "2020-11-15    64847.853860\n",
       "2020-11-16    66360.308804\n",
       "2020-11-17    68220.235158\n",
       "2020-11-18    69777.374293\n",
       "2020-11-19    71019.901973\n",
       "2020-11-20    72129.440589\n",
       "2020-11-21    72886.356236\n",
       "2020-11-22    73276.719601\n",
       "2020-11-23    74752.968021\n",
       "2020-11-24    76574.208369\n",
       "2020-11-25    78081.181448\n",
       "2020-11-26    79287.037849\n",
       "2020-11-27    80341.301062\n",
       "2020-11-28    81068.068907\n",
       "2020-11-29    81423.044714\n",
       "2020-11-30    82879.486019\n",
       "2020-12-01    84684.742074\n",
       "2020-12-02    86184.514305\n",
       "2020-12-03    87377.650888\n",
       "2020-12-04    88431.754713\n",
       "2020-12-05    89145.997606\n",
       "2020-12-06    89493.194986\n",
       "Freq: D, dtype: float64"
      ]
     },
     "execution_count": 84,
     "metadata": {},
     "output_type": "execute_result"
    }
   ],
   "source": [
    "SARIMA_predictions"
   ]
  },
  {
   "cell_type": "markdown",
   "metadata": {},
   "source": [
    "## plotting model predictions"
   ]
  },
  {
   "cell_type": "code",
   "execution_count": 85,
   "metadata": {},
   "outputs": [
    {
     "data": {
      "image/png": "[encoded data removed]",
      "text/plain": [
       "<Figure size 720x432 with 1 Axes>"
      ]
     },
     "metadata": {
      "needs_background": "light"
     },
     "output_type": "display_data"
    }
   ],
   "source": [
    "plt.plot(train,label='Training Data')\n",
    "plt.plot(test,label='Test Data')\n",
    "plt.plot(test.index,df_fc['Hospitalized_forecast'],label='Predicted Data - ARIMA')\n",
    "plt.plot(test.index,SARIMA_predictions,label='Predicted Data - SARIMA')\n",
    "plt.legend(loc='best')\n",
    "plt.grid();"
   ]
  },
  {
   "cell_type": "markdown",
   "metadata": {},
   "source": [
    "In SARIMA we can observe weekly fluctuations. Though it looks better than ARIMA still we consider it underforecasted "
   ]
  },
  {
   "cell_type": "markdown",
   "metadata": {},
   "source": [
    "### It can be observed that SARIMA model is showing good seasonal considerations"
   ]
  },
  {
   "cell_type": "markdown",
   "metadata": {},
   "source": [
    "## finding RSMA and MAPE"
   ]
  },
  {
   "cell_type": "code",
   "execution_count": 86,
   "metadata": {},
   "outputs": [
    {
     "name": "stdout",
     "output_type": "stream",
     "text": [
      "9762.059595532262\n"
     ]
    }
   ],
   "source": [
    "rmse = sqrt(mean_squared_error(test.Hospitalized,SARIMA_predictions))\n",
    "print(rmse)"
   ]
  },
  {
   "cell_type": "code",
   "execution_count": 87,
   "metadata": {},
   "outputs": [
    {
     "name": "stdout",
     "output_type": "stream",
     "text": [
      "10.203650539824629\n"
     ]
    }
   ],
   "source": [
    "mape = MAPE(test.Hospitalized,SARIMA_predictions)\n",
    "print(mape)"
   ]
  },
  {
   "cell_type": "code",
   "execution_count": 88,
   "metadata": {},
   "outputs": [
    {
     "data": {
      "text/html": [
       "<div>\n",
       "<style scoped>\n",
       "    .dataframe tbody tr th:only-of-type {\n",
       "        vertical-align: middle;\n",
       "    }\n",
       "\n",
       "    .dataframe tbody tr th {\n",
       "        vertical-align: top;\n",
       "    }\n",
       "\n",
       "    .dataframe thead th {\n",
       "        text-align: right;\n",
       "    }\n",
       "</style>\n",
       "<table border=\"1\" class=\"dataframe\">\n",
       "  <thead>\n",
       "    <tr style=\"text-align: right;\">\n",
       "      <th></th>\n",
       "      <th>Test RMSE</th>\n",
       "      <th>Test MAPE</th>\n",
       "    </tr>\n",
       "  </thead>\n",
       "  <tbody>\n",
       "    <tr>\n",
       "      <th>ARIMA(3,1,3)</th>\n",
       "      <td>17232.760418</td>\n",
       "      <td>17.040450</td>\n",
       "    </tr>\n",
       "    <tr>\n",
       "      <th>SARIMA(1, 1, 3)(1, 1, 3)7</th>\n",
       "      <td>9762.059596</td>\n",
       "      <td>10.203651</td>\n",
       "    </tr>\n",
       "  </tbody>\n",
       "</table>\n",
       "</div>"
      ],
      "text/plain": [
       "                              Test RMSE  Test MAPE\n",
       "ARIMA(3,1,3)               17232.760418  17.040450\n",
       "SARIMA(1, 1, 3)(1, 1, 3)7   9762.059596  10.203651"
      ]
     },
     "execution_count": 88,
     "metadata": {},
     "output_type": "execute_result"
    }
   ],
   "source": [
    "resultsDfsarima = pd.DataFrame({'Test RMSE': rmse, 'Test MAPE':mape}\n",
    "                           ,index=['SARIMA(1, 1, 3)(1, 1, 3)7'])\n",
    "\n",
    "resultsDf = pd.concat([resultsDf, resultsDfsarima])\n",
    "resultsDf"
   ]
  },
  {
   "cell_type": "markdown",
   "metadata": {},
   "source": [
    "## model residual analysis"
   ]
  },
  {
   "cell_type": "code",
   "execution_count": 89,
   "metadata": {},
   "outputs": [
    {
     "data": {
      "image/png": "[encoded data removed]",
      "text/plain": [
       "<Figure size 1152x576 with 4 Axes>"
      ]
     },
     "metadata": {
      "needs_background": "light"
     },
     "output_type": "display_data"
    }
   ],
   "source": [
    "model_Sarima.plot_diagnostics(figsize=(16, 8))\n",
    "plt.show()"
   ]
  },
  {
   "cell_type": "markdown",
   "metadata": {},
   "source": [
    "### It can be observed that Model residuals are normally distributed and ACF plot also confirms that residuals are random"
   ]
  },
  {
   "cell_type": "markdown",
   "metadata": {},
   "source": [
    "## We will build SARIMAX model for forecasting Hospitalized count. For SARIMAX model,we will use Positive count as exog variable"
   ]
  },
  {
   "cell_type": "markdown",
   "metadata": {},
   "source": [
    "Considering Positive as Exogenic Variable"
   ]
  },
  {
   "cell_type": "code",
   "execution_count": 90,
   "metadata": {},
   "outputs": [],
   "source": [
    "ex=df[['Positive']]"
   ]
  },
  {
   "cell_type": "code",
   "execution_count": 91,
   "metadata": {},
   "outputs": [
    {
     "data": {
      "text/html": [
       "<div>\n",
       "<style scoped>\n",
       "    .dataframe tbody tr th:only-of-type {\n",
       "        vertical-align: middle;\n",
       "    }\n",
       "\n",
       "    .dataframe tbody tr th {\n",
       "        vertical-align: top;\n",
       "    }\n",
       "\n",
       "    .dataframe thead th {\n",
       "        text-align: right;\n",
       "    }\n",
       "</style>\n",
       "<table border=\"1\" class=\"dataframe\">\n",
       "  <thead>\n",
       "    <tr style=\"text-align: right;\">\n",
       "      <th></th>\n",
       "      <th>Positive</th>\n",
       "    </tr>\n",
       "    <tr>\n",
       "      <th>Time_Stamp</th>\n",
       "      <th></th>\n",
       "    </tr>\n",
       "  </thead>\n",
       "  <tbody>\n",
       "    <tr>\n",
       "      <th>2020-03-17</th>\n",
       "      <td>10021</td>\n",
       "    </tr>\n",
       "    <tr>\n",
       "      <th>2020-03-18</th>\n",
       "      <td>13385</td>\n",
       "    </tr>\n",
       "    <tr>\n",
       "      <th>2020-03-19</th>\n",
       "      <td>18085</td>\n",
       "    </tr>\n",
       "    <tr>\n",
       "      <th>2020-03-20</th>\n",
       "      <td>24197</td>\n",
       "    </tr>\n",
       "    <tr>\n",
       "      <th>2020-03-21</th>\n",
       "      <td>31013</td>\n",
       "    </tr>\n",
       "    <tr>\n",
       "      <th>...</th>\n",
       "      <td>...</td>\n",
       "    </tr>\n",
       "    <tr>\n",
       "      <th>2020-12-02</th>\n",
       "      <td>13711156</td>\n",
       "    </tr>\n",
       "    <tr>\n",
       "      <th>2020-12-03</th>\n",
       "      <td>13921360</td>\n",
       "    </tr>\n",
       "    <tr>\n",
       "      <th>2020-12-04</th>\n",
       "      <td>14146191</td>\n",
       "    </tr>\n",
       "    <tr>\n",
       "      <th>2020-12-05</th>\n",
       "      <td>14357264</td>\n",
       "    </tr>\n",
       "    <tr>\n",
       "      <th>2020-12-06</th>\n",
       "      <td>14534035</td>\n",
       "    </tr>\n",
       "  </tbody>\n",
       "</table>\n",
       "<p>265 rows × 1 columns</p>\n",
       "</div>"
      ],
      "text/plain": [
       "            Positive\n",
       "Time_Stamp          \n",
       "2020-03-17     10021\n",
       "2020-03-18     13385\n",
       "2020-03-19     18085\n",
       "2020-03-20     24197\n",
       "2020-03-21     31013\n",
       "...              ...\n",
       "2020-12-02  13711156\n",
       "2020-12-03  13921360\n",
       "2020-12-04  14146191\n",
       "2020-12-05  14357264\n",
       "2020-12-06  14534035\n",
       "\n",
       "[265 rows x 1 columns]"
      ]
     },
     "execution_count": 91,
     "metadata": {},
     "output_type": "execute_result"
    }
   ],
   "source": [
    "ex"
   ]
  },
  {
   "cell_type": "markdown",
   "metadata": {},
   "source": [
    "## splitting exog variable into training and testing set"
   ]
  },
  {
   "cell_type": "code",
   "execution_count": 92,
   "metadata": {},
   "outputs": [],
   "source": [
    "ex_train             = ex[:train_end]\n",
    "ex_test              = ex[train_end + timedelta(days=1):test_end]"
   ]
  },
  {
   "cell_type": "markdown",
   "metadata": {},
   "source": [
    "### Creating an empty Dataframe with column names only where the model and AIC scores will be saved"
   ]
  },
  {
   "cell_type": "code",
   "execution_count": 93,
   "metadata": {},
   "outputs": [
    {
     "data": {
      "text/html": [
       "<div>\n",
       "<style scoped>\n",
       "    .dataframe tbody tr th:only-of-type {\n",
       "        vertical-align: middle;\n",
       "    }\n",
       "\n",
       "    .dataframe tbody tr th {\n",
       "        vertical-align: top;\n",
       "    }\n",
       "\n",
       "    .dataframe thead th {\n",
       "        text-align: right;\n",
       "    }\n",
       "</style>\n",
       "<table border=\"1\" class=\"dataframe\">\n",
       "  <thead>\n",
       "    <tr style=\"text-align: right;\">\n",
       "      <th></th>\n",
       "      <th>param</th>\n",
       "      <th>seasonal</th>\n",
       "      <th>AIC</th>\n",
       "    </tr>\n",
       "  </thead>\n",
       "  <tbody>\n",
       "  </tbody>\n",
       "</table>\n",
       "</div>"
      ],
      "text/plain": [
       "Empty DataFrame\n",
       "Columns: [param, seasonal, AIC]\n",
       "Index: []"
      ]
     },
     "execution_count": 93,
     "metadata": {},
     "output_type": "execute_result"
    }
   ],
   "source": [
    "dfObj3 = pd.DataFrame(columns=['param','seasonal', 'AIC'])\n",
    "dfObj3"
   ]
  },
  {
   "cell_type": "markdown",
   "metadata": {},
   "source": [
    "## model parameter selection using hypertuning"
   ]
  },
  {
   "cell_type": "code",
   "execution_count": null,
   "metadata": {
    "scrolled": true
   },
   "outputs": [
    {
     "name": "stdout",
     "output_type": "stream",
     "text": [
      "SARIMA(0, 0, 0)(0, 0, 0, 7) - AIC:6471.655187973391\n",
      "SARIMA(0, 0, 0)(0, 0, 1, 7) - AIC:5112.807499150445\n",
      "SARIMA(0, 0, 0)(0, 0, 2, 7) - AIC:4847.502366793572\n",
      "SARIMA(0, 0, 0)(0, 0, 3, 7) - AIC:4610.7326153267495\n",
      "SARIMA(0, 0, 0)(0, 1, 0, 7) - AIC:5674.544765008526\n",
      "SARIMA(0, 0, 0)(0, 1, 1, 7) - AIC:4459.058775141027\n",
      "SARIMA(0, 0, 0)(0, 1, 2, 7) - AIC:4318.7933155601695\n",
      "SARIMA(0, 0, 0)(0, 1, 3, 7) - AIC:4083.8947041410233\n",
      "SARIMA(0, 0, 0)(1, 0, 0, 7) - AIC:4686.832792303774\n",
      "SARIMA(0, 0, 0)(1, 0, 1, 7) - AIC:4707.483925219704\n",
      "SARIMA(0, 0, 0)(1, 0, 2, 7) - AIC:4434.389172667785\n",
      "SARIMA(0, 0, 0)(1, 0, 3, 7) - AIC:4262.94902140675\n",
      "SARIMA(0, 0, 0)(1, 1, 0, 7) - AIC:4366.739432168464\n",
      "SARIMA(0, 0, 0)(1, 1, 1, 7) - AIC:4392.8548884500415\n",
      "SARIMA(0, 0, 0)(1, 1, 2, 7) - AIC:4243.121983265416\n",
      "SARIMA(0, 0, 0)(1, 1, 3, 7) - AIC:3889.9496529347407\n",
      "SARIMA(0, 0, 0)(2, 0, 0, 7) - AIC:4340.395729269396\n",
      "SARIMA(0, 0, 0)(2, 0, 1, 7) - AIC:4444.778555882316\n",
      "SARIMA(0, 0, 0)(2, 0, 2, 7) - AIC:4478.778202951576\n",
      "SARIMA(0, 0, 0)(2, 0, 3, 7) - AIC:4138.10593090894\n",
      "SARIMA(0, 0, 0)(2, 1, 0, 7) - AIC:4185.552167251175\n",
      "SARIMA(0, 0, 0)(2, 1, 1, 7) - AIC:4163.106235490008\n",
      "SARIMA(0, 0, 0)(2, 1, 2, 7) - AIC:4158.152715190431\n",
      "SARIMA(0, 0, 0)(2, 1, 3, 7) - AIC:3937.3692204642734\n",
      "SARIMA(0, 0, 0)(3, 0, 0, 7) - AIC:4164.837946796765\n",
      "SARIMA(0, 0, 0)(3, 0, 1, 7) - AIC:4169.495411358606\n",
      "SARIMA(0, 0, 0)(3, 0, 2, 7) - AIC:4294.898640816722\n",
      "SARIMA(0, 0, 0)(3, 0, 3, 7) - AIC:4136.361463539988\n",
      "SARIMA(0, 0, 0)(3, 1, 0, 7) - AIC:3944.196414617286\n",
      "SARIMA(0, 0, 0)(3, 1, 1, 7) - AIC:3958.7486265070593\n",
      "SARIMA(0, 0, 0)(3, 1, 2, 7) - AIC:3898.19093955716\n",
      "SARIMA(0, 0, 0)(3, 1, 3, 7) - AIC:3880.350684264683\n",
      "SARIMA(0, 0, 1)(0, 0, 0, 7) - AIC:5236.951255880203\n",
      "SARIMA(0, 0, 1)(0, 0, 1, 7) - AIC:5044.640662732887\n",
      "SARIMA(0, 0, 1)(0, 0, 2, 7) - AIC:4878.849919369668\n",
      "SARIMA(0, 0, 1)(0, 0, 3, 7) - AIC:4721.847203590145\n",
      "SARIMA(0, 0, 1)(0, 1, 0, 7) - AIC:4492.648197772189\n",
      "SARIMA(0, 0, 1)(0, 1, 1, 7) - AIC:4606.715443625158\n",
      "SARIMA(0, 0, 1)(0, 1, 2, 7) - AIC:4460.609696240777\n",
      "SARIMA(0, 0, 1)(0, 1, 3, 7) - AIC:4063.6876393629013\n",
      "SARIMA(0, 0, 1)(1, 0, 0, 7) - AIC:5072.425455009034\n",
      "SARIMA(0, 0, 1)(1, 0, 1, 7) - AIC:5340.5040991456735\n",
      "SARIMA(0, 0, 1)(1, 0, 2, 7) - AIC:5120.242640007716\n",
      "SARIMA(0, 0, 1)(1, 0, 3, 7) - AIC:4720.077206325329\n",
      "SARIMA(0, 0, 1)(1, 1, 0, 7) - AIC:4412.100641638532\n",
      "SARIMA(0, 0, 1)(1, 1, 1, 7) - AIC:4323.037669434432\n",
      "SARIMA(0, 0, 1)(1, 1, 2, 7) - AIC:4179.71881134427\n",
      "SARIMA(0, 0, 1)(1, 1, 3, 7) - AIC:4033.189617858635\n",
      "SARIMA(0, 0, 1)(2, 0, 0, 7) - AIC:4916.481363819121\n",
      "SARIMA(0, 0, 1)(2, 0, 1, 7) - AIC:4918.471918870648\n",
      "SARIMA(0, 0, 1)(2, 0, 2, 7) - AIC:4875.845148467268\n",
      "SARIMA(0, 0, 1)(2, 0, 3, 7) - AIC:4722.044376826707\n",
      "SARIMA(0, 0, 1)(2, 1, 0, 7) - AIC:4221.8402256048685\n",
      "SARIMA(0, 0, 1)(2, 1, 1, 7) - AIC:4224.06254373101\n",
      "SARIMA(0, 0, 1)(2, 1, 2, 7) - AIC:4181.139929130713\n",
      "SARIMA(0, 0, 1)(2, 1, 3, 7) - AIC:4034.763287364669\n",
      "SARIMA(0, 0, 1)(3, 0, 0, 7) - AIC:4762.749431442629\n",
      "SARIMA(0, 0, 1)(3, 0, 1, 7) - AIC:4764.744078563323\n",
      "SARIMA(0, 0, 1)(3, 0, 2, 7) - AIC:4766.658158936715\n",
      "SARIMA(0, 0, 1)(3, 0, 3, 7) - AIC:4724.034933401197\n",
      "SARIMA(0, 0, 1)(3, 1, 0, 7) - AIC:4072.5833681135564\n",
      "SARIMA(0, 0, 1)(3, 1, 1, 7) - AIC:4070.74755661386\n",
      "SARIMA(0, 0, 1)(3, 1, 2, 7) - AIC:4072.7023195828087\n",
      "SARIMA(0, 0, 1)(3, 1, 3, 7) - AIC:4034.4167008576705\n",
      "SARIMA(0, 0, 2)(0, 0, 0, 7) - AIC:5178.384591069371\n",
      "SARIMA(0, 0, 2)(0, 0, 1, 7) - AIC:5012.466743404331\n",
      "SARIMA(0, 0, 2)(0, 0, 2, 7) - AIC:4856.538276796284\n",
      "SARIMA(0, 0, 2)(0, 0, 3, 7) - AIC:5039.880182491111\n",
      "SARIMA(0, 0, 2)(0, 1, 0, 7) - AIC:4413.294775343501\n",
      "SARIMA(0, 0, 2)(0, 1, 1, 7) - AIC:4467.651885816776\n",
      "SARIMA(0, 0, 2)(0, 1, 2, 7) - AIC:4127.871264718254\n",
      "SARIMA(0, 0, 2)(0, 1, 3, 7) - AIC:3990.4218498450227\n",
      "SARIMA(0, 0, 2)(1, 0, 0, 7) - AIC:5074.34496194696\n",
      "SARIMA(0, 0, 2)(1, 0, 1, 7) - AIC:5241.425055005919\n",
      "SARIMA(0, 0, 2)(1, 0, 2, 7) - AIC:4855.638314250027\n",
      "SARIMA(0, 0, 2)(1, 0, 3, 7) - AIC:4701.659884813944\n",
      "SARIMA(0, 0, 2)(1, 1, 0, 7) - AIC:4329.818775757023\n",
      "SARIMA(0, 0, 2)(1, 1, 1, 7) - AIC:4270.403789576883\n",
      "SARIMA(0, 0, 2)(1, 1, 2, 7) - AIC:4129.862601565772\n",
      "SARIMA(0, 0, 2)(1, 1, 3, 7) - AIC:3992.254487552741\n",
      "SARIMA(0, 0, 2)(2, 0, 0, 7) - AIC:4920.306902867302\n",
      "SARIMA(0, 0, 2)(2, 0, 1, 7) - AIC:4922.297890782422\n",
      "SARIMA(0, 0, 2)(2, 0, 2, 7) - AIC:4857.576163995946\n",
      "SARIMA(0, 0, 2)(2, 0, 3, 7) - AIC:4703.646672361577\n",
      "SARIMA(0, 0, 2)(2, 1, 0, 7) - AIC:4192.4139562606815\n",
      "SARIMA(0, 0, 2)(2, 1, 1, 7) - AIC:4192.044377262992\n",
      "SARIMA(0, 0, 2)(2, 1, 2, 7) - AIC:4131.76575537435\n",
      "SARIMA(0, 0, 2)(2, 1, 3, 7) - AIC:3993.3751260673375\n",
      "SARIMA(0, 0, 2)(3, 0, 0, 7) - AIC:4766.637074654852\n",
      "SARIMA(0, 0, 2)(3, 0, 1, 7) - AIC:4768.618786096948\n",
      "SARIMA(0, 0, 2)(3, 0, 2, 7) - AIC:4770.615316227271\n",
      "SARIMA(0, 0, 2)(3, 0, 3, 7) - AIC:4705.650234106486\n",
      "SARIMA(0, 0, 2)(3, 1, 0, 7) - AIC:4031.495297812795\n",
      "SARIMA(0, 0, 2)(3, 1, 1, 7) - AIC:4050.064156871161\n",
      "SARIMA(0, 0, 2)(3, 1, 2, 7) - AIC:4051.2911859419746\n",
      "SARIMA(0, 0, 2)(3, 1, 3, 7) - AIC:3994.6258831489768\n",
      "SARIMA(0, 0, 3)(0, 0, 0, 7) - AIC:5149.675586791766\n",
      "SARIMA(0, 0, 3)(0, 0, 1, 7) - AIC:4992.985016006799\n",
      "SARIMA(0, 0, 3)(0, 0, 2, 7) - AIC:4837.34391876713\n",
      "SARIMA(0, 0, 3)(0, 0, 3, 7) - AIC:4682.605752835418\n",
      "SARIMA(0, 0, 3)(0, 1, 0, 7) - AIC:4359.718274799404\n",
      "SARIMA(0, 0, 3)(0, 1, 1, 7) - AIC:4221.247495517266\n",
      "SARIMA(0, 0, 3)(0, 1, 2, 7) - AIC:4080.6261996074036\n",
      "SARIMA(0, 0, 3)(0, 1, 3, 7) - AIC:3945.779545191772\n",
      "SARIMA(0, 0, 3)(1, 0, 0, 7) - AIC:5078.444523589495\n",
      "SARIMA(0, 0, 3)(1, 0, 1, 7) - AIC:4991.342402257315\n",
      "SARIMA(0, 0, 3)(1, 0, 2, 7) - AIC:4837.592011772761\n",
      "SARIMA(0, 0, 3)(1, 0, 3, 7) - AIC:4685.47734236161\n",
      "SARIMA(0, 0, 3)(1, 1, 0, 7) - AIC:3872.452205682909\n",
      "SARIMA(0, 0, 3)(1, 1, 1, 7) - AIC:4221.577083003147\n",
      "SARIMA(0, 0, 3)(1, 1, 2, 7) - AIC:4081.8168969181947\n",
      "SARIMA(0, 0, 3)(1, 1, 3, 7) - AIC:3948.1600562358103\n",
      "SARIMA(0, 0, 3)(2, 0, 0, 7) - AIC:4924.535774546092\n",
      "SARIMA(0, 0, 3)(2, 0, 1, 7) - AIC:4926.534051582549\n",
      "SARIMA(0, 0, 3)(2, 0, 2, 7) - AIC:4839.5810143028075\n",
      "SARIMA(0, 0, 3)(2, 0, 3, 7) - AIC:4685.788092936821\n",
      "SARIMA(0, 0, 3)(2, 1, 0, 7) - AIC:4010.5978128729485\n",
      "SARIMA(0, 0, 3)(2, 1, 1, 7) - AIC:4164.021725255829\n",
      "SARIMA(0, 0, 3)(2, 1, 2, 7) - AIC:4084.6806647984176\n",
      "SARIMA(0, 0, 3)(2, 1, 3, 7) - AIC:3950.1946410722476\n",
      "SARIMA(0, 0, 3)(3, 0, 0, 7) - AIC:4770.925103614953\n",
      "SARIMA(0, 0, 3)(3, 0, 1, 7) - AIC:4772.989551175384\n",
      "SARIMA(0, 0, 3)(3, 0, 2, 7) - AIC:4774.883380974987\n",
      "SARIMA(0, 0, 3)(3, 0, 3, 7) - AIC:4687.8043508879855\n",
      "SARIMA(0, 0, 3)(3, 1, 0, 7) - AIC:4021.0563426851013\n",
      "SARIMA(0, 0, 3)(3, 1, 1, 7) - AIC:4026.232775316606\n",
      "SARIMA(0, 0, 3)(3, 1, 2, 7) - AIC:4028.0014795983316\n",
      "SARIMA(0, 0, 3)(3, 1, 3, 7) - AIC:3951.9832578540572\n",
      "SARIMA(0, 1, 0)(0, 0, 0, 7) - AIC:5029.579474954004\n",
      "SARIMA(0, 1, 0)(0, 0, 1, 7) - AIC:3815.279778324213\n",
      "SARIMA(0, 1, 0)(0, 0, 2, 7) - AIC:3649.967155175319\n",
      "SARIMA(0, 1, 0)(0, 0, 3, 7) - AIC:3447.735713838043\n",
      "SARIMA(0, 1, 0)(0, 1, 0, 7) - AIC:3810.105007399723\n",
      "SARIMA(0, 1, 0)(0, 1, 1, 7) - AIC:3681.6370845777974\n",
      "SARIMA(0, 1, 0)(0, 1, 2, 7) - AIC:3519.8564136462037\n",
      "SARIMA(0, 1, 0)(0, 1, 3, 7) - AIC:3364.5249249333383\n",
      "SARIMA(0, 1, 0)(1, 0, 0, 7) - AIC:3788.892093369782\n",
      "SARIMA(0, 1, 0)(1, 0, 1, 7) - AIC:3795.1737230087165\n",
      "SARIMA(0, 1, 0)(1, 0, 2, 7) - AIC:3645.7102511581243\n",
      "SARIMA(0, 1, 0)(1, 0, 3, 7) - AIC:3444.5701098815425\n",
      "SARIMA(0, 1, 0)(1, 1, 0, 7) - AIC:3690.6311063816856\n",
      "SARIMA(0, 1, 0)(1, 1, 1, 7) - AIC:3660.591416702166\n",
      "SARIMA(0, 1, 0)(1, 1, 2, 7) - AIC:3509.3040479256997\n",
      "SARIMA(0, 1, 0)(1, 1, 3, 7) - AIC:3364.568672203054\n",
      "SARIMA(0, 1, 0)(2, 0, 0, 7) - AIC:3659.7799202052374\n",
      "SARIMA(0, 1, 0)(2, 0, 1, 7) - AIC:3663.0109543331346\n",
      "SARIMA(0, 1, 0)(2, 0, 2, 7) - AIC:3657.464866624376\n",
      "SARIMA(0, 1, 0)(2, 0, 3, 7) - AIC:3452.7931655575276\n",
      "SARIMA(0, 1, 0)(2, 1, 0, 7) - AIC:3537.1174281564954\n",
      "SARIMA(0, 1, 0)(2, 1, 1, 7) - AIC:3537.4563123211087\n",
      "SARIMA(0, 1, 0)(2, 1, 2, 7) - AIC:3499.367922842445\n",
      "SARIMA(0, 1, 0)(2, 1, 3, 7) - AIC:3309.290087480059\n",
      "SARIMA(0, 1, 0)(3, 0, 0, 7) - AIC:3457.9007835284256\n",
      "SARIMA(0, 1, 0)(3, 0, 1, 7) - AIC:3459.907448873743\n",
      "SARIMA(0, 1, 0)(3, 0, 2, 7) - AIC:3470.940807111938\n",
      "SARIMA(0, 1, 0)(3, 0, 3, 7) - AIC:3453.936563334695\n",
      "SARIMA(0, 1, 0)(3, 1, 0, 7) - AIC:3378.9376451966245\n"
     ]
    },
    {
     "name": "stdout",
     "output_type": "stream",
     "text": [
      "SARIMA(0, 1, 0)(3, 1, 1, 7) - AIC:3367.4940026495424\n",
      "SARIMA(0, 1, 0)(3, 1, 2, 7) - AIC:3367.403867734085\n",
      "SARIMA(0, 1, 0)(3, 1, 3, 7) - AIC:3341.8447046061037\n",
      "SARIMA(0, 1, 1)(0, 0, 0, 7) - AIC:3909.7467704762844\n",
      "SARIMA(0, 1, 1)(0, 0, 1, 7) - AIC:3765.6845090988586\n",
      "SARIMA(0, 1, 1)(0, 0, 2, 7) - AIC:3594.916791615449\n",
      "SARIMA(0, 1, 1)(0, 0, 3, 7) - AIC:3374.256077852267\n",
      "SARIMA(0, 1, 1)(0, 1, 0, 7) - AIC:3777.6529213766435\n",
      "SARIMA(0, 1, 1)(0, 1, 1, 7) - AIC:3632.221537832161\n",
      "SARIMA(0, 1, 1)(0, 1, 2, 7) - AIC:3452.492539991027\n",
      "SARIMA(0, 1, 1)(0, 1, 3, 7) - AIC:3284.645947320005\n",
      "SARIMA(0, 1, 1)(1, 0, 0, 7) - AIC:3784.2622769429463\n",
      "SARIMA(0, 1, 1)(1, 0, 1, 7) - AIC:3723.468066406467\n",
      "SARIMA(0, 1, 1)(1, 0, 2, 7) - AIC:3611.663415413402\n",
      "SARIMA(0, 1, 1)(1, 0, 3, 7) - AIC:3398.304473520985\n",
      "SARIMA(0, 1, 1)(1, 1, 0, 7) - AIC:3669.585335739872\n",
      "SARIMA(0, 1, 1)(1, 1, 1, 7) - AIC:3620.4953357639015\n",
      "SARIMA(0, 1, 1)(1, 1, 2, 7) - AIC:3463.504979055962\n",
      "SARIMA(0, 1, 1)(1, 1, 3, 7) - AIC:3329.8542230322732\n",
      "SARIMA(0, 1, 1)(2, 0, 0, 7) - AIC:3634.61748655259\n",
      "SARIMA(0, 1, 1)(2, 0, 1, 7) - AIC:3655.9645820225915\n",
      "SARIMA(0, 1, 1)(2, 0, 2, 7) - AIC:3569.481454549469\n",
      "SARIMA(0, 1, 1)(2, 0, 3, 7) - AIC:3461.621488156622\n",
      "SARIMA(0, 1, 1)(2, 1, 0, 7) - AIC:3524.732726479737\n",
      "SARIMA(0, 1, 1)(2, 1, 1, 7) - AIC:3509.1198357151843\n",
      "SARIMA(0, 1, 1)(2, 1, 2, 7) - AIC:3462.9350192695865\n",
      "SARIMA(0, 1, 1)(2, 1, 3, 7) - AIC:3328.302099600498\n",
      "SARIMA(0, 1, 1)(3, 0, 0, 7) - AIC:3440.0990281408494\n",
      "SARIMA(0, 1, 1)(3, 0, 1, 7) - AIC:3509.4310373455005\n",
      "SARIMA(0, 1, 1)(3, 0, 2, 7) - AIC:3510.148422963929\n",
      "SARIMA(0, 1, 1)(3, 0, 3, 7) - AIC:3463.85842650426\n",
      "SARIMA(0, 1, 1)(3, 1, 0, 7) - AIC:3350.1105568911507\n",
      "SARIMA(0, 1, 1)(3, 1, 1, 7) - AIC:3348.084679742973\n",
      "SARIMA(0, 1, 1)(3, 1, 2, 7) - AIC:3378.146925404865\n",
      "SARIMA(0, 1, 1)(3, 1, 3, 7) - AIC:3325.330985964257\n",
      "SARIMA(0, 1, 2)(0, 0, 0, 7) - AIC:3857.590146259111\n",
      "SARIMA(0, 1, 2)(0, 0, 1, 7) - AIC:3711.256130832715\n",
      "SARIMA(0, 1, 2)(0, 0, 2, 7) - AIC:3532.6042360349193\n",
      "SARIMA(0, 1, 2)(0, 0, 3, 7) - AIC:3420.06959833386\n",
      "SARIMA(0, 1, 2)(0, 1, 0, 7) - AIC:3708.171590004942\n",
      "SARIMA(0, 1, 2)(0, 1, 1, 7) - AIC:3563.503528260053\n",
      "SARIMA(0, 1, 2)(0, 1, 2, 7) - AIC:3370.474445467983\n",
      "SARIMA(0, 1, 2)(0, 1, 3, 7) - AIC:3219.1797537295924\n",
      "SARIMA(0, 1, 2)(1, 0, 0, 7) - AIC:3714.672364295562\n",
      "SARIMA(0, 1, 2)(1, 0, 1, 7) - AIC:3655.534409342554\n",
      "SARIMA(0, 1, 2)(1, 0, 2, 7) - AIC:3571.4025948520757\n",
      "SARIMA(0, 1, 2)(1, 0, 3, 7) - AIC:3420.7732071150713\n",
      "SARIMA(0, 1, 2)(1, 1, 0, 7) - AIC:3618.718785372688\n",
      "SARIMA(0, 1, 2)(1, 1, 1, 7) - AIC:3561.074686165037\n",
      "SARIMA(0, 1, 2)(1, 1, 2, 7) - AIC:3359.2550259518707\n",
      "SARIMA(0, 1, 2)(1, 1, 3, 7) - AIC:3222.361545695605\n",
      "SARIMA(0, 1, 2)(2, 0, 0, 7) - AIC:3589.084065181307\n",
      "SARIMA(0, 1, 2)(2, 0, 1, 7) - AIC:3623.548376368496\n",
      "SARIMA(0, 1, 2)(2, 0, 2, 7) - AIC:3570.8270726130154\n",
      "SARIMA(0, 1, 2)(2, 0, 3, 7) - AIC:3422.566526670097\n",
      "SARIMA(0, 1, 2)(2, 1, 0, 7) - AIC:3445.770211162437\n",
      "SARIMA(0, 1, 2)(2, 1, 1, 7) - AIC:3438.3979755665023\n",
      "SARIMA(0, 1, 2)(2, 1, 2, 7) - AIC:3367.4945139337287\n",
      "SARIMA(0, 1, 2)(2, 1, 3, 7) - AIC:3264.4274140107564\n",
      "SARIMA(0, 1, 2)(3, 0, 0, 7) - AIC:3383.296198673458\n",
      "SARIMA(0, 1, 2)(3, 0, 1, 7) - AIC:3477.270063559965\n",
      "SARIMA(0, 1, 2)(3, 0, 2, 7) - AIC:3478.4676454583696\n",
      "SARIMA(0, 1, 2)(3, 0, 3, 7) - AIC:3423.597412799415\n",
      "SARIMA(0, 1, 2)(3, 1, 0, 7) - AIC:3296.8255230390455\n",
      "SARIMA(0, 1, 2)(3, 1, 1, 7) - AIC:3293.2702542518055\n",
      "SARIMA(0, 1, 2)(3, 1, 2, 7) - AIC:3332.4826122816226\n",
      "SARIMA(0, 1, 2)(3, 1, 3, 7) - AIC:3268.7139931396678\n",
      "SARIMA(0, 1, 3)(0, 0, 0, 7) - AIC:3823.92167456655\n",
      "SARIMA(0, 1, 3)(0, 0, 1, 7) - AIC:3688.470671698718\n",
      "SARIMA(0, 1, 3)(0, 0, 2, 7) - AIC:3502.4466524527234\n",
      "SARIMA(0, 1, 3)(0, 0, 3, 7) - AIC:3408.2398054457694\n",
      "SARIMA(0, 1, 3)(0, 1, 0, 7) - AIC:3691.6156737693354\n",
      "SARIMA(0, 1, 3)(0, 1, 1, 7) - AIC:3525.7989844168296\n",
      "SARIMA(0, 1, 3)(0, 1, 2, 7) - AIC:3345.8025081658225\n",
      "SARIMA(0, 1, 3)(0, 1, 3, 7) - AIC:3199.8208520594417\n",
      "SARIMA(0, 1, 3)(1, 0, 0, 7) - AIC:3707.1387728483824\n",
      "SARIMA(0, 1, 3)(1, 0, 1, 7) - AIC:3628.2474016285128\n",
      "SARIMA(0, 1, 3)(1, 0, 2, 7) - AIC:3502.1163989923766\n"
     ]
    }
   ],
   "source": [
    "import statsmodels.api as sm\n",
    "for param in pdq:\n",
    "    for param_seasonal in model_pdq:\n",
    "        mod = sm.tsa.statespace.SARIMAX(train,exog=ex_train,\n",
    "                                            order=param,\n",
    "                                            seasonal_order=param_seasonal,\n",
    "                                            enforce_stationarity=False,\n",
    "                                            enforce_invertibility=False)\n",
    "            \n",
    "        results_SARIMAX = mod.fit()\n",
    "        print('SARIMA{}{} - AIC:{}'.format(param, param_seasonal, results_SARIMAX.aic))\n",
    "        dfObj3 = dfObj3.append({'param':param,'seasonal':param_seasonal ,'AIC': results_SARIMAX.aic}, ignore_index=True)"
   ]
  },
  {
   "cell_type": "markdown",
   "metadata": {},
   "source": [
    "## sorting parameters for AIC score"
   ]
  },
  {
   "cell_type": "code",
   "execution_count": 183,
   "metadata": {
    "scrolled": true
   },
   "outputs": [
    {
     "data": {
      "text/html": [
       "<div>\n",
       "<style scoped>\n",
       "    .dataframe tbody tr th:only-of-type {\n",
       "        vertical-align: middle;\n",
       "    }\n",
       "\n",
       "    .dataframe tbody tr th {\n",
       "        vertical-align: top;\n",
       "    }\n",
       "\n",
       "    .dataframe thead th {\n",
       "        text-align: right;\n",
       "    }\n",
       "</style>\n",
       "<table border=\"1\" class=\"dataframe\">\n",
       "  <thead>\n",
       "    <tr style=\"text-align: right;\">\n",
       "      <th></th>\n",
       "      <th>param</th>\n",
       "      <th>seasonal</th>\n",
       "      <th>AIC</th>\n",
       "    </tr>\n",
       "  </thead>\n",
       "  <tbody>\n",
       "    <tr>\n",
       "      <th>63</th>\n",
       "      <td>(1, 1, 1)</td>\n",
       "      <td>(1, 1, 1, 7)</td>\n",
       "      <td>3536.918928</td>\n",
       "    </tr>\n",
       "    <tr>\n",
       "      <th>59</th>\n",
       "      <td>(1, 1, 1)</td>\n",
       "      <td>(0, 1, 1, 7)</td>\n",
       "      <td>3537.161487</td>\n",
       "    </tr>\n",
       "    <tr>\n",
       "      <th>62</th>\n",
       "      <td>(1, 1, 1)</td>\n",
       "      <td>(1, 1, 0, 7)</td>\n",
       "      <td>3593.484822</td>\n",
       "    </tr>\n",
       "    <tr>\n",
       "      <th>51</th>\n",
       "      <td>(1, 1, 0)</td>\n",
       "      <td>(0, 1, 1, 7)</td>\n",
       "      <td>3599.278102</td>\n",
       "    </tr>\n",
       "    <tr>\n",
       "      <th>55</th>\n",
       "      <td>(1, 1, 0)</td>\n",
       "      <td>(1, 1, 1, 7)</td>\n",
       "      <td>3610.115694</td>\n",
       "    </tr>\n",
       "    <tr>\n",
       "      <th>...</th>\n",
       "      <td>...</td>\n",
       "      <td>...</td>\n",
       "      <td>...</td>\n",
       "    </tr>\n",
       "    <tr>\n",
       "      <th>1</th>\n",
       "      <td>(0, 0, 0)</td>\n",
       "      <td>(0, 0, 1, 7)</td>\n",
       "      <td>5112.807499</td>\n",
       "    </tr>\n",
       "    <tr>\n",
       "      <th>8</th>\n",
       "      <td>(0, 0, 1)</td>\n",
       "      <td>(0, 0, 0, 7)</td>\n",
       "      <td>5236.951256</td>\n",
       "    </tr>\n",
       "    <tr>\n",
       "      <th>13</th>\n",
       "      <td>(0, 0, 1)</td>\n",
       "      <td>(1, 0, 1, 7)</td>\n",
       "      <td>5340.504099</td>\n",
       "    </tr>\n",
       "    <tr>\n",
       "      <th>2</th>\n",
       "      <td>(0, 0, 0)</td>\n",
       "      <td>(0, 1, 0, 7)</td>\n",
       "      <td>5674.544765</td>\n",
       "    </tr>\n",
       "    <tr>\n",
       "      <th>0</th>\n",
       "      <td>(0, 0, 0)</td>\n",
       "      <td>(0, 0, 0, 7)</td>\n",
       "      <td>6471.655188</td>\n",
       "    </tr>\n",
       "  </tbody>\n",
       "</table>\n",
       "<p>64 rows × 3 columns</p>\n",
       "</div>"
      ],
      "text/plain": [
       "        param      seasonal          AIC\n",
       "63  (1, 1, 1)  (1, 1, 1, 7)  3536.918928\n",
       "59  (1, 1, 1)  (0, 1, 1, 7)  3537.161487\n",
       "62  (1, 1, 1)  (1, 1, 0, 7)  3593.484822\n",
       "51  (1, 1, 0)  (0, 1, 1, 7)  3599.278102\n",
       "55  (1, 1, 0)  (1, 1, 1, 7)  3610.115694\n",
       "..        ...           ...          ...\n",
       "1   (0, 0, 0)  (0, 0, 1, 7)  5112.807499\n",
       "8   (0, 0, 1)  (0, 0, 0, 7)  5236.951256\n",
       "13  (0, 0, 1)  (1, 0, 1, 7)  5340.504099\n",
       "2   (0, 0, 0)  (0, 1, 0, 7)  5674.544765\n",
       "0   (0, 0, 0)  (0, 0, 0, 7)  6471.655188\n",
       "\n",
       "[64 rows x 3 columns]"
      ]
     },
     "execution_count": 183,
     "metadata": {},
     "output_type": "execute_result"
    }
   ],
   "source": [
    "dfObj3.sort_values(by=['AIC'])"
   ]
  },
  {
   "cell_type": "markdown",
   "metadata": {},
   "source": [
    "## We will build SARIMAX model of order (1,1,3)(0,1,3,7)"
   ]
  },
  {
   "cell_type": "code",
   "execution_count": 184,
   "metadata": {
    "scrolled": true
   },
   "outputs": [
    {
     "name": "stdout",
     "output_type": "stream",
     "text": [
      "                                     SARIMAX Results                                     \n",
      "=========================================================================================\n",
      "Dep. Variable:                      Hospitalized   No. Observations:                  235\n",
      "Model:             SARIMAX(1, 1, 1)x(1, 1, 1, 7)   Log Likelihood               -1762.459\n",
      "Date:                           Wed, 10 Mar 2021   AIC                           3536.919\n",
      "Time:                                   19:00:18   BIC                           3557.226\n",
      "Sample:                               03-17-2020   HQIC                          3545.121\n",
      "                                    - 11-06-2020                                         \n",
      "Covariance Type:                             opg                                         \n",
      "==============================================================================\n",
      "                 coef    std err          z      P>|z|      [0.025      0.975]\n",
      "------------------------------------------------------------------------------\n",
      "Positive       0.0200      0.014      1.432      0.152      -0.007       0.047\n",
      "ar.L1          0.9437      0.021     44.185      0.000       0.902       0.986\n",
      "ma.L1         -0.5827      0.043    -13.577      0.000      -0.667      -0.499\n",
      "ar.S.L7        0.1267      0.075      1.685      0.092      -0.021       0.274\n",
      "ma.S.L7       -0.9149      0.059    -15.450      0.000      -1.031      -0.799\n",
      "sigma2      5.965e+05   3.58e+04     16.677      0.000    5.26e+05    6.67e+05\n",
      "===================================================================================\n",
      "Ljung-Box (L1) (Q):                   3.83   Jarque-Bera (JB):               248.92\n",
      "Prob(Q):                              0.05   Prob(JB):                         0.00\n",
      "Heteroskedasticity (H):               0.10   Skew:                            -0.30\n",
      "Prob(H) (two-sided):                  0.00   Kurtosis:                         8.20\n",
      "===================================================================================\n",
      "\n",
      "Warnings:\n",
      "[1] Covariance matrix calculated using the outer product of gradients (complex-step).\n"
     ]
    }
   ],
   "source": [
    "model = sm.tsa.statespace.SARIMAX(train,exog=ex_train,\n",
    "                                order=(1,1,3),\n",
    "                                seasonal_order=(1,1,3,7),\n",
    "                                enforce_stationarity=False,\n",
    "                                enforce_invertibility=False)\n",
    "model_sarimax = model.fit()\n",
    "print(model_sarimax.summary())"
   ]
  },
  {
   "cell_type": "markdown",
   "metadata": {},
   "source": [
    "### model predictions"
   ]
  },
  {
   "cell_type": "code",
   "execution_count": 185,
   "metadata": {},
   "outputs": [],
   "source": [
    "SARIMAX_predictions=model_sarimax.predict(start=pred_start, end=pred_end,exog=ex_test)"
   ]
  },
  {
   "cell_type": "code",
   "execution_count": 186,
   "metadata": {
    "scrolled": false
   },
   "outputs": [
    {
     "data": {
      "image/png": "[encoded data removed]",
      "text/plain": [
       "<Figure size 720x432 with 1 Axes>"
      ]
     },
     "metadata": {
      "needs_background": "light"
     },
     "output_type": "display_data"
    }
   ],
   "source": [
    "plt.plot(train,label='Training Data')\n",
    "plt.plot(test,label='Test Data')\n",
    "plt.plot(test.index,df_fc['Hospitalized_forecast'],label='Predicted Data - ARIMA')\n",
    "plt.plot(test.index,SARIMA_predictions,label='Predicted Data - SARIMA')\n",
    "plt.plot(test.index,SARIMAX_predictions,label='Predicted Data - SARIMAX')\n",
    "plt.legend(loc='best')\n",
    "plt.grid();"
   ]
  },
  {
   "cell_type": "markdown",
   "metadata": {},
   "source": [
    "### SARIMAX model is predicting results quite close to actual data\n",
    "\n",
    "But the observation is Overforecasted"
   ]
  },
  {
   "cell_type": "markdown",
   "metadata": {},
   "source": [
    "## Residual analysis"
   ]
  },
  {
   "cell_type": "code",
   "execution_count": 187,
   "metadata": {},
   "outputs": [
    {
     "data": {
      "image/png": "[encoded data removed]",
      "text/plain": [
       "<Figure size 1152x576 with 4 Axes>"
      ]
     },
     "metadata": {
      "needs_background": "light"
     },
     "output_type": "display_data"
    }
   ],
   "source": [
    "model_sarimax.plot_diagnostics(figsize=(16, 8))\n",
    "plt.show()"
   ]
  },
  {
   "cell_type": "markdown",
   "metadata": {},
   "source": [
    "### It can be observed that Model residuals are normally distributed and ACF plot also confirms that residuals are random"
   ]
  },
  {
   "cell_type": "markdown",
   "metadata": {},
   "source": [
    "## Finding RSMA and MAPE"
   ]
  },
  {
   "cell_type": "code",
   "execution_count": 188,
   "metadata": {},
   "outputs": [
    {
     "name": "stdout",
     "output_type": "stream",
     "text": [
      "11709.443638505812\n"
     ]
    }
   ],
   "source": [
    "rmse = sqrt(mean_squared_error(test.Hospitalized,SARIMAX_predictions))\n",
    "print(rmse)"
   ]
  },
  {
   "cell_type": "code",
   "execution_count": 189,
   "metadata": {},
   "outputs": [
    {
     "name": "stdout",
     "output_type": "stream",
     "text": [
      "8.98782952467951\n"
     ]
    }
   ],
   "source": [
    "mape = MAPE(test.Hospitalized,SARIMAX_predictions)\n",
    "print(mape)"
   ]
  },
  {
   "cell_type": "code",
   "execution_count": 190,
   "metadata": {},
   "outputs": [
    {
     "data": {
      "text/html": [
       "<div>\n",
       "<style scoped>\n",
       "    .dataframe tbody tr th:only-of-type {\n",
       "        vertical-align: middle;\n",
       "    }\n",
       "\n",
       "    .dataframe tbody tr th {\n",
       "        vertical-align: top;\n",
       "    }\n",
       "\n",
       "    .dataframe thead th {\n",
       "        text-align: right;\n",
       "    }\n",
       "</style>\n",
       "<table border=\"1\" class=\"dataframe\">\n",
       "  <thead>\n",
       "    <tr style=\"text-align: right;\">\n",
       "      <th></th>\n",
       "      <th>Test RMSE</th>\n",
       "      <th>Test MAPE</th>\n",
       "    </tr>\n",
       "  </thead>\n",
       "  <tbody>\n",
       "    <tr>\n",
       "      <th>ARIMA(1,1,1)</th>\n",
       "      <td>17222.569806</td>\n",
       "      <td>16.677050</td>\n",
       "    </tr>\n",
       "    <tr>\n",
       "      <th>SARIMA(1, 1, 1)(1, 1, 1)7</th>\n",
       "      <td>12901.969207</td>\n",
       "      <td>12.732867</td>\n",
       "    </tr>\n",
       "    <tr>\n",
       "      <th>SARIMAX(1, 1, 1)(0, 1, 1)7</th>\n",
       "      <td>11709.443639</td>\n",
       "      <td>8.987830</td>\n",
       "    </tr>\n",
       "  </tbody>\n",
       "</table>\n",
       "</div>"
      ],
      "text/plain": [
       "                               Test RMSE  Test MAPE\n",
       "ARIMA(1,1,1)                17222.569806  16.677050\n",
       "SARIMA(1, 1, 1)(1, 1, 1)7   12901.969207  12.732867\n",
       "SARIMAX(1, 1, 1)(0, 1, 1)7  11709.443639   8.987830"
      ]
     },
     "execution_count": 190,
     "metadata": {},
     "output_type": "execute_result"
    }
   ],
   "source": [
    "resultsDf_temp = pd.DataFrame({'Test RMSE': rmse,'Test MAPE': mape}\n",
    "                           ,index=['SARIMAX(1, 1, 1)(0, 1, 1)7'])\n",
    "\n",
    "resultsDf = pd.concat([resultsDf, resultsDf_temp])\n",
    "resultsDf"
   ]
  },
  {
   "cell_type": "markdown",
   "metadata": {},
   "source": [
    "## As series has seasonality and trend, lets try H-W model for forecasting Hospitalized count"
   ]
  },
  {
   "cell_type": "code",
   "execution_count": 191,
   "metadata": {},
   "outputs": [],
   "source": [
    "model_TES = ExponentialSmoothing(train,trend='additive',seasonal='additive',initialization_method='estimated')"
   ]
  },
  {
   "cell_type": "code",
   "execution_count": 192,
   "metadata": {},
   "outputs": [
    {
     "data": {
      "text/html": [
       "<table class=\"simpletable\">\n",
       "<caption>ExponentialSmoothing Model Results</caption>\n",
       "<tr>\n",
       "  <th>Dep. Variable:</th>        <td>Hospitalized</td>     <th>  No. Observations:  </th>        <td>235</td>      \n",
       "</tr>\n",
       "<tr>\n",
       "  <th>Model:</th>            <td>ExponentialSmoothing</td> <th>  SSE                </th>   <td>139965968.248</td> \n",
       "</tr>\n",
       "<tr>\n",
       "  <th>Optimized:</th>                <td>True</td>         <th>  AIC                </th>     <td>3146.871</td>    \n",
       "</tr>\n",
       "<tr>\n",
       "  <th>Trend:</th>                  <td>Additive</td>       <th>  BIC                </th>     <td>3184.927</td>    \n",
       "</tr>\n",
       "<tr>\n",
       "  <th>Seasonal:</th>               <td>Additive</td>       <th>  AICC               </th>     <td>3148.518</td>    \n",
       "</tr>\n",
       "<tr>\n",
       "  <th>Seasonal Periods:</th>           <td>7</td>          <th>  Date:              </th> <td>Wed, 10 Mar 2021</td>\n",
       "</tr>\n",
       "<tr>\n",
       "  <th>Box-Cox:</th>                  <td>False</td>        <th>  Time:              </th>     <td>19:00:20</td>    \n",
       "</tr>\n",
       "<tr>\n",
       "  <th>Box-Cox Coeff.:</th>           <td>None</td>         <th>                     </th>         <td> </td>       \n",
       "</tr>\n",
       "</table>\n",
       "<table class=\"simpletable\">\n",
       "<tr>\n",
       "           <td></td>                  <th>coeff</th>                <th>code</th>               <th>optimized</th>     \n",
       "</tr>\n",
       "<tr>\n",
       "  <th>smoothing_level</th>    <td>           0.8947529</td> <td>               alpha</td> <td>                True</td>\n",
       "</tr>\n",
       "<tr>\n",
       "  <th>smoothing_trend</th>    <td>           0.4089930</td> <td>                beta</td> <td>                True</td>\n",
       "</tr>\n",
       "<tr>\n",
       "  <th>smoothing_seasonal</th> <td>           0.0664855</td> <td>               gamma</td> <td>                True</td>\n",
       "</tr>\n",
       "<tr>\n",
       "  <th>initial_level</th>      <td>          -1533.7675</td> <td>                 l.0</td> <td>                True</td>\n",
       "</tr>\n",
       "<tr>\n",
       "  <th>initial_trend</th>      <td>           1325.3187</td> <td>                 b.0</td> <td>                True</td>\n",
       "</tr>\n",
       "<tr>\n",
       "  <th>initial_seasons.0</th>  <td>           440.87487</td> <td>                 s.0</td> <td>                True</td>\n",
       "</tr>\n",
       "<tr>\n",
       "  <th>initial_seasons.1</th>  <td>           525.38988</td> <td>                 s.1</td> <td>                True</td>\n",
       "</tr>\n",
       "<tr>\n",
       "  <th>initial_seasons.2</th>  <td>           516.85397</td> <td>                 s.2</td> <td>                True</td>\n",
       "</tr>\n",
       "<tr>\n",
       "  <th>initial_seasons.3</th>  <td>           143.33598</td> <td>                 s.3</td> <td>                True</td>\n",
       "</tr>\n",
       "<tr>\n",
       "  <th>initial_seasons.4</th>  <td>           9.8817855</td> <td>                 s.4</td> <td>                True</td>\n",
       "</tr>\n",
       "<tr>\n",
       "  <th>initial_seasons.5</th>  <td>          -686.73093</td> <td>                 s.5</td> <td>                True</td>\n",
       "</tr>\n",
       "<tr>\n",
       "  <th>initial_seasons.6</th>  <td>          -881.75005</td> <td>                 s.6</td> <td>                True</td>\n",
       "</tr>\n",
       "</table>"
      ],
      "text/plain": [
       "<class 'statsmodels.iolib.summary.Summary'>\n",
       "\"\"\"\n",
       "                       ExponentialSmoothing Model Results                       \n",
       "================================================================================\n",
       "Dep. Variable:             Hospitalized   No. Observations:                  235\n",
       "Model:             ExponentialSmoothing   SSE                      139965968.248\n",
       "Optimized:                         True   AIC                           3146.871\n",
       "Trend:                         Additive   BIC                           3184.927\n",
       "Seasonal:                      Additive   AICC                          3148.518\n",
       "Seasonal Periods:                     7   Date:                 Wed, 10 Mar 2021\n",
       "Box-Cox:                          False   Time:                         19:00:20\n",
       "Box-Cox Coeff.:                    None                                         \n",
       "=================================================================================\n",
       "                          coeff                 code              optimized      \n",
       "---------------------------------------------------------------------------------\n",
       "smoothing_level               0.8947529                alpha                 True\n",
       "smoothing_trend               0.4089930                 beta                 True\n",
       "smoothing_seasonal            0.0664855                gamma                 True\n",
       "initial_level                -1533.7675                  l.0                 True\n",
       "initial_trend                 1325.3187                  b.0                 True\n",
       "initial_seasons.0             440.87487                  s.0                 True\n",
       "initial_seasons.1             525.38988                  s.1                 True\n",
       "initial_seasons.2             516.85397                  s.2                 True\n",
       "initial_seasons.3             143.33598                  s.3                 True\n",
       "initial_seasons.4             9.8817855                  s.4                 True\n",
       "initial_seasons.5            -686.73093                  s.5                 True\n",
       "initial_seasons.6            -881.75005                  s.6                 True\n",
       "---------------------------------------------------------------------------------\n",
       "\"\"\""
      ]
     },
     "execution_count": 192,
     "metadata": {},
     "output_type": "execute_result"
    }
   ],
   "source": [
    "model_TES = model_TES.fit(optimized=True)\n",
    "model_TES.summary()"
   ]
  },
  {
   "cell_type": "code",
   "execution_count": 193,
   "metadata": {},
   "outputs": [],
   "source": [
    "TES_predictions =  model_TES.forecast(len(test))"
   ]
  },
  {
   "cell_type": "code",
   "execution_count": 194,
   "metadata": {
    "scrolled": true
   },
   "outputs": [
    {
     "data": {
      "image/png": "[encoded data removed]",
      "text/plain": [
       "<Figure size 720x432 with 1 Axes>"
      ]
     },
     "metadata": {
      "needs_background": "light"
     },
     "output_type": "display_data"
    }
   ],
   "source": [
    "plt.plot(train,label='Training Data')\n",
    "plt.plot(test,label='Test Data')\n",
    "plt.plot(test.index,df_fc['Hospitalized_forecast'],label='Predicted Data - ARIMA')\n",
    "plt.plot(test.index,SARIMA_predictions,label='Predicted Data - SARIMA')\n",
    "plt.plot(test.index,SARIMAX_predictions,label='Predicted Data - SARIMAX')\n",
    "plt.plot(test.index,TES_predictions,label='Predicted Data - TES')\n",
    "plt.legend(loc='best')\n",
    "plt.grid();"
   ]
  },
  {
   "cell_type": "markdown",
   "metadata": {},
   "source": [
    "## finding RSME and MAPE"
   ]
  },
  {
   "cell_type": "code",
   "execution_count": 195,
   "metadata": {},
   "outputs": [
    {
     "name": "stdout",
     "output_type": "stream",
     "text": [
      "6473.132560612063\n"
     ]
    }
   ],
   "source": [
    "rmse = sqrt(mean_squared_error(test.Hospitalized,TES_predictions))\n",
    "print(rmse)"
   ]
  },
  {
   "cell_type": "code",
   "execution_count": 196,
   "metadata": {},
   "outputs": [
    {
     "name": "stdout",
     "output_type": "stream",
     "text": [
      "6.9189679523465415\n"
     ]
    }
   ],
   "source": [
    "mape = MAPE(test['Hospitalized'].values,TES_predictions.values)\n",
    "print(mape)"
   ]
  },
  {
   "cell_type": "code",
   "execution_count": 197,
   "metadata": {
    "scrolled": true
   },
   "outputs": [
    {
     "data": {
      "text/html": [
       "<div>\n",
       "<style scoped>\n",
       "    .dataframe tbody tr th:only-of-type {\n",
       "        vertical-align: middle;\n",
       "    }\n",
       "\n",
       "    .dataframe tbody tr th {\n",
       "        vertical-align: top;\n",
       "    }\n",
       "\n",
       "    .dataframe thead th {\n",
       "        text-align: right;\n",
       "    }\n",
       "</style>\n",
       "<table border=\"1\" class=\"dataframe\">\n",
       "  <thead>\n",
       "    <tr style=\"text-align: right;\">\n",
       "      <th></th>\n",
       "      <th>Test RMSE</th>\n",
       "      <th>Test MAPE</th>\n",
       "    </tr>\n",
       "  </thead>\n",
       "  <tbody>\n",
       "    <tr>\n",
       "      <th>ARIMA(1,1,1)</th>\n",
       "      <td>17222.569806</td>\n",
       "      <td>16.677050</td>\n",
       "    </tr>\n",
       "    <tr>\n",
       "      <th>SARIMA(1, 1, 1)(1, 1, 1)7</th>\n",
       "      <td>12901.969207</td>\n",
       "      <td>12.732867</td>\n",
       "    </tr>\n",
       "    <tr>\n",
       "      <th>SARIMAX(1, 1, 1)(0, 1, 1)7</th>\n",
       "      <td>11709.443639</td>\n",
       "      <td>8.987830</td>\n",
       "    </tr>\n",
       "    <tr>\n",
       "      <th>TES</th>\n",
       "      <td>6473.132561</td>\n",
       "      <td>6.918968</td>\n",
       "    </tr>\n",
       "  </tbody>\n",
       "</table>\n",
       "</div>"
      ],
      "text/plain": [
       "                               Test RMSE  Test MAPE\n",
       "ARIMA(1,1,1)                17222.569806  16.677050\n",
       "SARIMA(1, 1, 1)(1, 1, 1)7   12901.969207  12.732867\n",
       "SARIMAX(1, 1, 1)(0, 1, 1)7  11709.443639   8.987830\n",
       "TES                          6473.132561   6.918968"
      ]
     },
     "execution_count": 197,
     "metadata": {},
     "output_type": "execute_result"
    }
   ],
   "source": [
    "resultsDf_temp = pd.DataFrame({'Test RMSE': rmse,'Test MAPE': mape}\n",
    "                           ,index=['TES'])\n",
    "\n",
    "resultsDf = pd.concat([resultsDf, resultsDf_temp])\n",
    "resultsDf"
   ]
  },
  {
   "cell_type": "markdown",
   "metadata": {},
   "source": [
    "## Based on MAPE, selecting H-W model"
   ]
  },
  {
   "cell_type": "code",
   "execution_count": 198,
   "metadata": {},
   "outputs": [],
   "source": [
    "model_TES = ExponentialSmoothing(df_final,trend='additive',seasonal='additive',initialization_method='estimated')"
   ]
  },
  {
   "cell_type": "code",
   "execution_count": 199,
   "metadata": {},
   "outputs": [],
   "source": [
    "model_TES = model_TES.fit(optimized=True)"
   ]
  },
  {
   "cell_type": "code",
   "execution_count": 202,
   "metadata": {},
   "outputs": [
    {
     "data": {
      "text/html": [
       "<table class=\"simpletable\">\n",
       "<caption>ExponentialSmoothing Model Results</caption>\n",
       "<tr>\n",
       "  <th>Dep. Variable:</th>        <td>Hospitalized</td>     <th>  No. Observations:  </th>        <td>265</td>      \n",
       "</tr>\n",
       "<tr>\n",
       "  <th>Model:</th>            <td>ExponentialSmoothing</td> <th>  SSE                </th>   <td>162264376.345</td> \n",
       "</tr>\n",
       "<tr>\n",
       "  <th>Optimized:</th>                <td>True</td>         <th>  AIC                </th>     <td>3553.127</td>    \n",
       "</tr>\n",
       "<tr>\n",
       "  <th>Trend:</th>                  <td>Additive</td>       <th>  BIC                </th>     <td>3592.504</td>    \n",
       "</tr>\n",
       "<tr>\n",
       "  <th>Seasonal:</th>               <td>Additive</td>       <th>  AICC               </th>     <td>3554.577</td>    \n",
       "</tr>\n",
       "<tr>\n",
       "  <th>Seasonal Periods:</th>           <td>7</td>          <th>  Date:              </th> <td>Wed, 10 Mar 2021</td>\n",
       "</tr>\n",
       "<tr>\n",
       "  <th>Box-Cox:</th>                  <td>False</td>        <th>  Time:              </th>     <td>19:05:12</td>    \n",
       "</tr>\n",
       "<tr>\n",
       "  <th>Box-Cox Coeff.:</th>           <td>None</td>         <th>                     </th>         <td> </td>       \n",
       "</tr>\n",
       "</table>\n",
       "<table class=\"simpletable\">\n",
       "<tr>\n",
       "           <td></td>                  <th>coeff</th>                <th>code</th>               <th>optimized</th>     \n",
       "</tr>\n",
       "<tr>\n",
       "  <th>smoothing_level</th>    <td>           0.8903442</td> <td>               alpha</td> <td>                True</td>\n",
       "</tr>\n",
       "<tr>\n",
       "  <th>smoothing_trend</th>    <td>           0.4020128</td> <td>                beta</td> <td>                True</td>\n",
       "</tr>\n",
       "<tr>\n",
       "  <th>smoothing_seasonal</th> <td>           0.0855984</td> <td>               gamma</td> <td>                True</td>\n",
       "</tr>\n",
       "<tr>\n",
       "  <th>initial_level</th>      <td>          -1589.2321</td> <td>                 l.0</td> <td>                True</td>\n",
       "</tr>\n",
       "<tr>\n",
       "  <th>initial_trend</th>      <td>           1419.1222</td> <td>                 b.0</td> <td>                True</td>\n",
       "</tr>\n",
       "<tr>\n",
       "  <th>initial_seasons.0</th>  <td>           625.04375</td> <td>                 s.0</td> <td>                True</td>\n",
       "</tr>\n",
       "<tr>\n",
       "  <th>initial_seasons.1</th>  <td>           265.55297</td> <td>                 s.1</td> <td>                True</td>\n",
       "</tr>\n",
       "<tr>\n",
       "  <th>initial_seasons.2</th>  <td>           565.39223</td> <td>                 s.2</td> <td>                True</td>\n",
       "</tr>\n",
       "<tr>\n",
       "  <th>initial_seasons.3</th>  <td>           168.67244</td> <td>                 s.3</td> <td>                True</td>\n",
       "</tr>\n",
       "<tr>\n",
       "  <th>initial_seasons.4</th>  <td>           143.90058</td> <td>                 s.4</td> <td>                True</td>\n",
       "</tr>\n",
       "<tr>\n",
       "  <th>initial_seasons.5</th>  <td>          -792.99083</td> <td>                 s.5</td> <td>                True</td>\n",
       "</tr>\n",
       "<tr>\n",
       "  <th>initial_seasons.6</th>  <td>          -962.97889</td> <td>                 s.6</td> <td>                True</td>\n",
       "</tr>\n",
       "</table>"
      ],
      "text/plain": [
       "<class 'statsmodels.iolib.summary.Summary'>\n",
       "\"\"\"\n",
       "                       ExponentialSmoothing Model Results                       \n",
       "================================================================================\n",
       "Dep. Variable:             Hospitalized   No. Observations:                  265\n",
       "Model:             ExponentialSmoothing   SSE                      162264376.345\n",
       "Optimized:                         True   AIC                           3553.127\n",
       "Trend:                         Additive   BIC                           3592.504\n",
       "Seasonal:                      Additive   AICC                          3554.577\n",
       "Seasonal Periods:                     7   Date:                 Wed, 10 Mar 2021\n",
       "Box-Cox:                          False   Time:                         19:05:12\n",
       "Box-Cox Coeff.:                    None                                         \n",
       "=================================================================================\n",
       "                          coeff                 code              optimized      \n",
       "---------------------------------------------------------------------------------\n",
       "smoothing_level               0.8903442                alpha                 True\n",
       "smoothing_trend               0.4020128                 beta                 True\n",
       "smoothing_seasonal            0.0855984                gamma                 True\n",
       "initial_level                -1589.2321                  l.0                 True\n",
       "initial_trend                 1419.1222                  b.0                 True\n",
       "initial_seasons.0             625.04375                  s.0                 True\n",
       "initial_seasons.1             265.55297                  s.1                 True\n",
       "initial_seasons.2             565.39223                  s.2                 True\n",
       "initial_seasons.3             168.67244                  s.3                 True\n",
       "initial_seasons.4             143.90058                  s.4                 True\n",
       "initial_seasons.5            -792.99083                  s.5                 True\n",
       "initial_seasons.6            -962.97889                  s.6                 True\n",
       "---------------------------------------------------------------------------------\n",
       "\"\"\""
      ]
     },
     "execution_count": 202,
     "metadata": {},
     "output_type": "execute_result"
    }
   ],
   "source": [
    "model_TES.summary()"
   ]
  },
  {
   "cell_type": "code",
   "execution_count": 200,
   "metadata": {},
   "outputs": [],
   "source": [
    "forecast= model_TES.forecast(30)"
   ]
  },
  {
   "cell_type": "code",
   "execution_count": 201,
   "metadata": {},
   "outputs": [
    {
     "data": {
      "image/png": "[encoded data removed]",
      "text/plain": [
       "<Figure size 720x432 with 1 Axes>"
      ]
     },
     "metadata": {
      "needs_background": "light"
     },
     "output_type": "display_data"
    }
   ],
   "source": [
    "plt.plot(df_final,label='Data')\n",
    "plt.plot(forecast,label='forecast - TES')\n",
    "plt.legend(loc='best')\n",
    "plt.grid();"
   ]
  },
  {
   "cell_type": "markdown",
   "metadata": {},
   "source": [
    "# END"
   ]
  }
 ],
 "metadata": {
  "kernelspec": {
   "display_name": "Python 3",
   "language": "python",
   "name": "python3"
  },
  "language_info": {
   "codemirror_mode": {
    "name": "ipython",
    "version": 3
   },
   "file_extension": ".py",
   "mimetype": "text/x-python",
   "name": "python",
   "nbconvert_exporter": "python",
   "pygments_lexer": "ipython3",
   "version": "3.6.13"
  }
 },
 "nbformat": 4,
 "nbformat_minor": 4
}
